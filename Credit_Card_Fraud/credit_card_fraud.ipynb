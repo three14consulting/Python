{
 "cells": [
  {
   "cell_type": "markdown",
   "metadata": {
    "_cell_guid": "36cc0cd2-0be9-41ad-ab94-c98917360e51",
    "_uuid": "f757f255-e12e-41e8-a67c-67b750f1f9d1"
   },
   "source": [
    "# <center>Classification (Cost-Sensitive): Preventing Credit Card Fraud at Point-of-Sale</center>\n",
    "<center><img src=\"./images/credit_card_fraud.jpg\" style=\"height: 350px;\"/></center>\n",
    "\n",
    "# <a id='0'>Contents of Project</a>\n",
    "<a href='#0.0'>Project Summary</a>\n",
    "- <a href='#1.0'>1. Dataset</a>\n",
    "    - <a href='#1.1'>1.1 Dataset Background</a>\n",
    "    - <a href='#1.2'>1.2 Dataset Attributes</a>\n",
    "    - <a href='#1.3'>1.3 Dataset Summary</a>\n",
    "- <a href='#2.0'>2. Business Context of Fraud</a>\n",
    "    - <a href='#2.1'>2.1 Cost of Fraud</a>\n",
    "    - <a href='#2.2'>2.2 Misclassification Costs</a>\n",
    "        - <a href='#2.2.1'>2.2.1 Cost of False Positive</a>\n",
    "        - <a href='#2.2.2'>2.2.2 Cost of False Negative</a>\n",
    "    - <a href='#2.3'>2.3 Model Motivation</a>\n",
    "    - <a href='#2.4'>2.4 Business Context of Fraud Summary</a>\n",
    "- <a href='#3.0'>3. Exploratory Analysis</a>\n",
    "    - <a href='#3.1'>3.1 Pearson Correlation Plot</a>\n",
    "    - <a href='#3.2'>3.2 KDE Plots</a>\n",
    "- <a href='#4.0'>4. Preprocessing</a>\n",
    "    - <a href='#4.1'>4.1 Feature Engineering</a>  \n",
    "    - <a href='#4.2'>4.2 Secondary Exploratory Analysis and Significance Testing</a> \n",
    "        - <a href='#4.2.1'>4.2.1 Correlations</a>\n",
    "        - <a href='#4.2.2'>2.2.1 T Testing</a>\n",
    "    - <a href='#4.3'>4.3 Dimensionality Reduction</a>\n",
    "- <a href='#5.0'>5. Modeling</a>\n",
    "    - <a href='#5.1'>5.1 Cost Function</a>\n",
    "    - <a href='#5.2'>5.2 Class Weights</a>\n",
    "    - <a href='#5.3'>5.3 Models</a>\n",
    "        - <a href='#5.3.1'>5.3.1 Naive Bayes</a>\n",
    "        - <a href='#5.3.2'>5.3.2 Decision Tree</a>\n",
    "\t\t- <a href='#5.3.3'>5.3.3 Logistic Regression</a>\n",
    "\t\t- <a href='#5.3.4'>5.3.4 Support Vector Classifier</a>\n",
    "\t\t- <a href='#5.3.5'>5.3.5 XGBoost</a>\n",
    "\t\t- <a href='#5.3.6'>5.3.6 Random Forest</a>\n",
    "\t\t- <a href='#5.3.7'>5.3.7 Simple Neural Network</a>\n",
    "\t\t- <a href='#5.3.8'>5.3.8 K Nearest Neighbours</a>\n",
    "\t\t- <a href='#5.3.9'>5.3.9 AdaBoost</a>\n",
    "\t\t- <a href='#5.3.10'>5.3.10 Hard Voting Classifier</a>\n",
    "\t- <a href='#5.4'>5.4 Model Summary</a>"
   ]
  },
  {
   "cell_type": "markdown",
   "metadata": {},
   "source": [
    "# <a id='0.0'> Project Summary</a>\n",
    "\n",
    "**In this project, I use an openly available dataset of credit card transactions to create a classification model to detect and prevent future fraudelent transactions at point-of-sale.**\n",
    "\n",
    "**Unlike typical binary classification problems, I <u>do not</u> use performance measures such as [accuracy, precision, recall or AUC](https://en.wikipedia.org/wiki/Confusion_matrix) to evaluate the winnning model. Instead, I take a [cost-sensitive approach](https://machinelearningmastery.com/cost-sensitive-learning-for-imbalanced-classification/). I contrast the current cost of fraudelent transactions (the \"do-nothing\" approach) and the costs associated with using a classification model (given that misclassification costs differ, that is to say the cost of allowing a fraudelent transaction through is much higher than preventing and reviewing a legitimate transaction incorrectly flagged as fraudelent - something which standard performance measures do not consider).**\n",
    "\n",
    "**I consider 10 models, with the winning model (a hyperparameter tuned logistic regression classifier) reducing the cost of fraud from € 30,064/day to € 4,842/day (with model costs considered), a cost-saving amount of 84%.**"
   ]
  },
  {
   "cell_type": "markdown",
   "metadata": {},
   "source": [
    "# <a id=\"1\">1. Dataset</a>  \n",
    "## <a id=\"1.1\">1.1 Dataset Background</a>\n",
    ">The datasets contains transactions made by credit cards in **September 2013** by european cardholders.\n",
    "This dataset presents transactions that occurred in **two days**, where we have **492 frauds** out of **284,807 transactions**. The dataset is **highly unbalanced**, the positive class (frauds) account for **0.172%** of all transactions.\n",
    ">\n",
    ">It contains only numerical input variables which are the result of a **PCA transformation**. \n",
    ">\n",
    ">Unfortunately, due to confidentiality issues, we cannot provide the original features and more background information about the data. \n",
    ">* Features **V1**, **V2**, … **V28** are the **principal components** obtained with **PCA**;\n",
    ">* The only features which have not been transformed with PCA are **'Time'** and **'Amount'**. \n",
    "> * Feature **'Time'** contains the seconds elapsed between each transaction and the first transaction in the dataset. \n",
    "> * The feature **'Amount'** is the transaction Amount, this feature can be used for example-dependant cost-senstive learning. \n",
    ">* Feature **'Class'** is the response variable and it takes value **1** in case of fraud and **0** otherwise.\n",
    "\n",
    "(From the Machine Learning Group of Université Libre de Bruxelles) "
   ]
  },
  {
   "cell_type": "markdown",
   "metadata": {},
   "source": [
    "## <a id=\"1.2\">1.2 Dataset Attributes</a>"
   ]
  },
  {
   "cell_type": "code",
   "execution_count": 1,
   "metadata": {
    "_cell_guid": "ab60b161-20ec-44f2-88f2-38dc7bd47990",
    "_kg_hide-input": true,
    "_uuid": "fd4b8f4f-86c3-49cb-81bb-9db3b7365d99"
   },
   "outputs": [],
   "source": [
    "import numpy as np\n",
    "import pandas as pd\n",
    "import seaborn as sns\n",
    "import matplotlib.pyplot as plt\n",
    "import scipy\n",
    "\n",
    "np.random.seed(42)\n",
    "RANDOM_SEED = 42\n",
    "\n",
    "import os\n",
    "# for dirname, _, filenames in os.walk('~/input'):\n",
    "#     for filename in filenames:\n",
    "#         print(os.path.join(dirname, filename))"
   ]
  },
  {
   "cell_type": "code",
   "execution_count": 2,
   "metadata": {
    "_cell_guid": "b1ab43ee-0f6f-4ef8-9433-cb29338a326d",
    "_kg_hide-input": true,
    "_uuid": "3f3fc809-08a2-468b-aa9f-a3d05072b1e7",
    "scrolled": true
   },
   "outputs": [],
   "source": [
    "data_df = pd.read_csv('./input/creditcard.csv')"
   ]
  },
  {
   "cell_type": "code",
   "execution_count": 3,
   "metadata": {
    "_cell_guid": "9232b2be-0719-4837-921f-352fd2e22faa",
    "_uuid": "6b00b644-5d90-4869-87a1-97a9d2ea2e8c"
   },
   "outputs": [
    {
     "name": "stdout",
     "output_type": "stream",
     "text": [
      "Credit Card Fraud Detection data -  rows: 284807  columns: 31\n"
     ]
    }
   ],
   "source": [
    "# Rows and columns of data\n",
    "print(\"Credit Card Fraud Detection data -  rows:\",data_df.shape[0],\" columns:\", data_df.shape[1])"
   ]
  },
  {
   "cell_type": "code",
   "execution_count": 4,
   "metadata": {
    "_cell_guid": "d95525f5-1b4e-4104-b356-40fa5c283f92",
    "_uuid": "23a106e9-665e-4b6a-af44-33d4260e56b4"
   },
   "outputs": [
    {
     "data": {
      "text/html": [
       "<div>\n",
       "<style scoped>\n",
       "    .dataframe tbody tr th:only-of-type {\n",
       "        vertical-align: middle;\n",
       "    }\n",
       "\n",
       "    .dataframe tbody tr th {\n",
       "        vertical-align: top;\n",
       "    }\n",
       "\n",
       "    .dataframe thead th {\n",
       "        text-align: right;\n",
       "    }\n",
       "</style>\n",
       "<table border=\"1\" class=\"dataframe\">\n",
       "  <thead>\n",
       "    <tr style=\"text-align: right;\">\n",
       "      <th></th>\n",
       "      <th>Time</th>\n",
       "      <th>V1</th>\n",
       "      <th>V2</th>\n",
       "      <th>V3</th>\n",
       "      <th>V4</th>\n",
       "      <th>V5</th>\n",
       "      <th>V6</th>\n",
       "      <th>V7</th>\n",
       "      <th>V8</th>\n",
       "      <th>V9</th>\n",
       "      <th>...</th>\n",
       "      <th>V21</th>\n",
       "      <th>V22</th>\n",
       "      <th>V23</th>\n",
       "      <th>V24</th>\n",
       "      <th>V25</th>\n",
       "      <th>V26</th>\n",
       "      <th>V27</th>\n",
       "      <th>V28</th>\n",
       "      <th>Amount</th>\n",
       "      <th>Class</th>\n",
       "    </tr>\n",
       "  </thead>\n",
       "  <tbody>\n",
       "    <tr>\n",
       "      <th>0</th>\n",
       "      <td>0.0</td>\n",
       "      <td>-1.359807</td>\n",
       "      <td>-0.072781</td>\n",
       "      <td>2.536347</td>\n",
       "      <td>1.378155</td>\n",
       "      <td>-0.338321</td>\n",
       "      <td>0.462388</td>\n",
       "      <td>0.239599</td>\n",
       "      <td>0.098698</td>\n",
       "      <td>0.363787</td>\n",
       "      <td>...</td>\n",
       "      <td>-0.018307</td>\n",
       "      <td>0.277838</td>\n",
       "      <td>-0.110474</td>\n",
       "      <td>0.066928</td>\n",
       "      <td>0.128539</td>\n",
       "      <td>-0.189115</td>\n",
       "      <td>0.133558</td>\n",
       "      <td>-0.021053</td>\n",
       "      <td>149.62</td>\n",
       "      <td>0</td>\n",
       "    </tr>\n",
       "    <tr>\n",
       "      <th>1</th>\n",
       "      <td>0.0</td>\n",
       "      <td>1.191857</td>\n",
       "      <td>0.266151</td>\n",
       "      <td>0.166480</td>\n",
       "      <td>0.448154</td>\n",
       "      <td>0.060018</td>\n",
       "      <td>-0.082361</td>\n",
       "      <td>-0.078803</td>\n",
       "      <td>0.085102</td>\n",
       "      <td>-0.255425</td>\n",
       "      <td>...</td>\n",
       "      <td>-0.225775</td>\n",
       "      <td>-0.638672</td>\n",
       "      <td>0.101288</td>\n",
       "      <td>-0.339846</td>\n",
       "      <td>0.167170</td>\n",
       "      <td>0.125895</td>\n",
       "      <td>-0.008983</td>\n",
       "      <td>0.014724</td>\n",
       "      <td>2.69</td>\n",
       "      <td>0</td>\n",
       "    </tr>\n",
       "    <tr>\n",
       "      <th>2</th>\n",
       "      <td>1.0</td>\n",
       "      <td>-1.358354</td>\n",
       "      <td>-1.340163</td>\n",
       "      <td>1.773209</td>\n",
       "      <td>0.379780</td>\n",
       "      <td>-0.503198</td>\n",
       "      <td>1.800499</td>\n",
       "      <td>0.791461</td>\n",
       "      <td>0.247676</td>\n",
       "      <td>-1.514654</td>\n",
       "      <td>...</td>\n",
       "      <td>0.247998</td>\n",
       "      <td>0.771679</td>\n",
       "      <td>0.909412</td>\n",
       "      <td>-0.689281</td>\n",
       "      <td>-0.327642</td>\n",
       "      <td>-0.139097</td>\n",
       "      <td>-0.055353</td>\n",
       "      <td>-0.059752</td>\n",
       "      <td>378.66</td>\n",
       "      <td>0</td>\n",
       "    </tr>\n",
       "    <tr>\n",
       "      <th>3</th>\n",
       "      <td>1.0</td>\n",
       "      <td>-0.966272</td>\n",
       "      <td>-0.185226</td>\n",
       "      <td>1.792993</td>\n",
       "      <td>-0.863291</td>\n",
       "      <td>-0.010309</td>\n",
       "      <td>1.247203</td>\n",
       "      <td>0.237609</td>\n",
       "      <td>0.377436</td>\n",
       "      <td>-1.387024</td>\n",
       "      <td>...</td>\n",
       "      <td>-0.108300</td>\n",
       "      <td>0.005274</td>\n",
       "      <td>-0.190321</td>\n",
       "      <td>-1.175575</td>\n",
       "      <td>0.647376</td>\n",
       "      <td>-0.221929</td>\n",
       "      <td>0.062723</td>\n",
       "      <td>0.061458</td>\n",
       "      <td>123.50</td>\n",
       "      <td>0</td>\n",
       "    </tr>\n",
       "    <tr>\n",
       "      <th>4</th>\n",
       "      <td>2.0</td>\n",
       "      <td>-1.158233</td>\n",
       "      <td>0.877737</td>\n",
       "      <td>1.548718</td>\n",
       "      <td>0.403034</td>\n",
       "      <td>-0.407193</td>\n",
       "      <td>0.095921</td>\n",
       "      <td>0.592941</td>\n",
       "      <td>-0.270533</td>\n",
       "      <td>0.817739</td>\n",
       "      <td>...</td>\n",
       "      <td>-0.009431</td>\n",
       "      <td>0.798278</td>\n",
       "      <td>-0.137458</td>\n",
       "      <td>0.141267</td>\n",
       "      <td>-0.206010</td>\n",
       "      <td>0.502292</td>\n",
       "      <td>0.219422</td>\n",
       "      <td>0.215153</td>\n",
       "      <td>69.99</td>\n",
       "      <td>0</td>\n",
       "    </tr>\n",
       "  </tbody>\n",
       "</table>\n",
       "<p>5 rows × 31 columns</p>\n",
       "</div>"
      ],
      "text/plain": [
       "   Time        V1        V2        V3        V4        V5        V6        V7  \\\n",
       "0   0.0 -1.359807 -0.072781  2.536347  1.378155 -0.338321  0.462388  0.239599   \n",
       "1   0.0  1.191857  0.266151  0.166480  0.448154  0.060018 -0.082361 -0.078803   \n",
       "2   1.0 -1.358354 -1.340163  1.773209  0.379780 -0.503198  1.800499  0.791461   \n",
       "3   1.0 -0.966272 -0.185226  1.792993 -0.863291 -0.010309  1.247203  0.237609   \n",
       "4   2.0 -1.158233  0.877737  1.548718  0.403034 -0.407193  0.095921  0.592941   \n",
       "\n",
       "         V8        V9  ...       V21       V22       V23       V24       V25  \\\n",
       "0  0.098698  0.363787  ... -0.018307  0.277838 -0.110474  0.066928  0.128539   \n",
       "1  0.085102 -0.255425  ... -0.225775 -0.638672  0.101288 -0.339846  0.167170   \n",
       "2  0.247676 -1.514654  ...  0.247998  0.771679  0.909412 -0.689281 -0.327642   \n",
       "3  0.377436 -1.387024  ... -0.108300  0.005274 -0.190321 -1.175575  0.647376   \n",
       "4 -0.270533  0.817739  ... -0.009431  0.798278 -0.137458  0.141267 -0.206010   \n",
       "\n",
       "        V26       V27       V28  Amount  Class  \n",
       "0 -0.189115  0.133558 -0.021053  149.62      0  \n",
       "1  0.125895 -0.008983  0.014724    2.69      0  \n",
       "2 -0.139097 -0.055353 -0.059752  378.66      0  \n",
       "3 -0.221929  0.062723  0.061458  123.50      0  \n",
       "4  0.502292  0.219422  0.215153   69.99      0  \n",
       "\n",
       "[5 rows x 31 columns]"
      ]
     },
     "execution_count": 4,
     "metadata": {},
     "output_type": "execute_result"
    }
   ],
   "source": [
    "# Peak at data\n",
    "data_df.head()"
   ]
  },
  {
   "cell_type": "code",
   "execution_count": 5,
   "metadata": {
    "_cell_guid": "67737dfa-f7fd-4da5-8383-03cc4f681b85",
    "_uuid": "f2f473cc-13fb-418e-bfeb-800757bce40f"
   },
   "outputs": [
    {
     "data": {
      "text/html": [
       "<div>\n",
       "<style scoped>\n",
       "    .dataframe tbody tr th:only-of-type {\n",
       "        vertical-align: middle;\n",
       "    }\n",
       "\n",
       "    .dataframe tbody tr th {\n",
       "        vertical-align: top;\n",
       "    }\n",
       "\n",
       "    .dataframe thead th {\n",
       "        text-align: right;\n",
       "    }\n",
       "</style>\n",
       "<table border=\"1\" class=\"dataframe\">\n",
       "  <thead>\n",
       "    <tr style=\"text-align: right;\">\n",
       "      <th></th>\n",
       "      <th>Time</th>\n",
       "      <th>V1</th>\n",
       "      <th>V2</th>\n",
       "      <th>V3</th>\n",
       "      <th>V4</th>\n",
       "      <th>V5</th>\n",
       "      <th>V6</th>\n",
       "      <th>V7</th>\n",
       "      <th>V8</th>\n",
       "      <th>V9</th>\n",
       "      <th>...</th>\n",
       "      <th>V21</th>\n",
       "      <th>V22</th>\n",
       "      <th>V23</th>\n",
       "      <th>V24</th>\n",
       "      <th>V25</th>\n",
       "      <th>V26</th>\n",
       "      <th>V27</th>\n",
       "      <th>V28</th>\n",
       "      <th>Amount</th>\n",
       "      <th>Class</th>\n",
       "    </tr>\n",
       "  </thead>\n",
       "  <tbody>\n",
       "    <tr>\n",
       "      <th>count</th>\n",
       "      <td>284807.000000</td>\n",
       "      <td>2.848070e+05</td>\n",
       "      <td>2.848070e+05</td>\n",
       "      <td>2.848070e+05</td>\n",
       "      <td>2.848070e+05</td>\n",
       "      <td>2.848070e+05</td>\n",
       "      <td>2.848070e+05</td>\n",
       "      <td>2.848070e+05</td>\n",
       "      <td>2.848070e+05</td>\n",
       "      <td>2.848070e+05</td>\n",
       "      <td>...</td>\n",
       "      <td>2.848070e+05</td>\n",
       "      <td>2.848070e+05</td>\n",
       "      <td>2.848070e+05</td>\n",
       "      <td>2.848070e+05</td>\n",
       "      <td>2.848070e+05</td>\n",
       "      <td>2.848070e+05</td>\n",
       "      <td>2.848070e+05</td>\n",
       "      <td>2.848070e+05</td>\n",
       "      <td>284807.000000</td>\n",
       "      <td>284807.000000</td>\n",
       "    </tr>\n",
       "    <tr>\n",
       "      <th>mean</th>\n",
       "      <td>94813.859575</td>\n",
       "      <td>3.919560e-15</td>\n",
       "      <td>5.688174e-16</td>\n",
       "      <td>-8.769071e-15</td>\n",
       "      <td>2.782312e-15</td>\n",
       "      <td>-1.552563e-15</td>\n",
       "      <td>2.010663e-15</td>\n",
       "      <td>-1.694249e-15</td>\n",
       "      <td>-1.927028e-16</td>\n",
       "      <td>-3.137024e-15</td>\n",
       "      <td>...</td>\n",
       "      <td>1.537294e-16</td>\n",
       "      <td>7.959909e-16</td>\n",
       "      <td>5.367590e-16</td>\n",
       "      <td>4.458112e-15</td>\n",
       "      <td>1.453003e-15</td>\n",
       "      <td>1.699104e-15</td>\n",
       "      <td>-3.660161e-16</td>\n",
       "      <td>-1.206049e-16</td>\n",
       "      <td>88.349619</td>\n",
       "      <td>0.001727</td>\n",
       "    </tr>\n",
       "    <tr>\n",
       "      <th>std</th>\n",
       "      <td>47488.145955</td>\n",
       "      <td>1.958696e+00</td>\n",
       "      <td>1.651309e+00</td>\n",
       "      <td>1.516255e+00</td>\n",
       "      <td>1.415869e+00</td>\n",
       "      <td>1.380247e+00</td>\n",
       "      <td>1.332271e+00</td>\n",
       "      <td>1.237094e+00</td>\n",
       "      <td>1.194353e+00</td>\n",
       "      <td>1.098632e+00</td>\n",
       "      <td>...</td>\n",
       "      <td>7.345240e-01</td>\n",
       "      <td>7.257016e-01</td>\n",
       "      <td>6.244603e-01</td>\n",
       "      <td>6.056471e-01</td>\n",
       "      <td>5.212781e-01</td>\n",
       "      <td>4.822270e-01</td>\n",
       "      <td>4.036325e-01</td>\n",
       "      <td>3.300833e-01</td>\n",
       "      <td>250.120109</td>\n",
       "      <td>0.041527</td>\n",
       "    </tr>\n",
       "    <tr>\n",
       "      <th>min</th>\n",
       "      <td>0.000000</td>\n",
       "      <td>-5.640751e+01</td>\n",
       "      <td>-7.271573e+01</td>\n",
       "      <td>-4.832559e+01</td>\n",
       "      <td>-5.683171e+00</td>\n",
       "      <td>-1.137433e+02</td>\n",
       "      <td>-2.616051e+01</td>\n",
       "      <td>-4.355724e+01</td>\n",
       "      <td>-7.321672e+01</td>\n",
       "      <td>-1.343407e+01</td>\n",
       "      <td>...</td>\n",
       "      <td>-3.483038e+01</td>\n",
       "      <td>-1.093314e+01</td>\n",
       "      <td>-4.480774e+01</td>\n",
       "      <td>-2.836627e+00</td>\n",
       "      <td>-1.029540e+01</td>\n",
       "      <td>-2.604551e+00</td>\n",
       "      <td>-2.256568e+01</td>\n",
       "      <td>-1.543008e+01</td>\n",
       "      <td>0.000000</td>\n",
       "      <td>0.000000</td>\n",
       "    </tr>\n",
       "    <tr>\n",
       "      <th>25%</th>\n",
       "      <td>54201.500000</td>\n",
       "      <td>-9.203734e-01</td>\n",
       "      <td>-5.985499e-01</td>\n",
       "      <td>-8.903648e-01</td>\n",
       "      <td>-8.486401e-01</td>\n",
       "      <td>-6.915971e-01</td>\n",
       "      <td>-7.682956e-01</td>\n",
       "      <td>-5.540759e-01</td>\n",
       "      <td>-2.086297e-01</td>\n",
       "      <td>-6.430976e-01</td>\n",
       "      <td>...</td>\n",
       "      <td>-2.283949e-01</td>\n",
       "      <td>-5.423504e-01</td>\n",
       "      <td>-1.618463e-01</td>\n",
       "      <td>-3.545861e-01</td>\n",
       "      <td>-3.171451e-01</td>\n",
       "      <td>-3.269839e-01</td>\n",
       "      <td>-7.083953e-02</td>\n",
       "      <td>-5.295979e-02</td>\n",
       "      <td>5.600000</td>\n",
       "      <td>0.000000</td>\n",
       "    </tr>\n",
       "    <tr>\n",
       "      <th>50%</th>\n",
       "      <td>84692.000000</td>\n",
       "      <td>1.810880e-02</td>\n",
       "      <td>6.548556e-02</td>\n",
       "      <td>1.798463e-01</td>\n",
       "      <td>-1.984653e-02</td>\n",
       "      <td>-5.433583e-02</td>\n",
       "      <td>-2.741871e-01</td>\n",
       "      <td>4.010308e-02</td>\n",
       "      <td>2.235804e-02</td>\n",
       "      <td>-5.142873e-02</td>\n",
       "      <td>...</td>\n",
       "      <td>-2.945017e-02</td>\n",
       "      <td>6.781943e-03</td>\n",
       "      <td>-1.119293e-02</td>\n",
       "      <td>4.097606e-02</td>\n",
       "      <td>1.659350e-02</td>\n",
       "      <td>-5.213911e-02</td>\n",
       "      <td>1.342146e-03</td>\n",
       "      <td>1.124383e-02</td>\n",
       "      <td>22.000000</td>\n",
       "      <td>0.000000</td>\n",
       "    </tr>\n",
       "    <tr>\n",
       "      <th>75%</th>\n",
       "      <td>139320.500000</td>\n",
       "      <td>1.315642e+00</td>\n",
       "      <td>8.037239e-01</td>\n",
       "      <td>1.027196e+00</td>\n",
       "      <td>7.433413e-01</td>\n",
       "      <td>6.119264e-01</td>\n",
       "      <td>3.985649e-01</td>\n",
       "      <td>5.704361e-01</td>\n",
       "      <td>3.273459e-01</td>\n",
       "      <td>5.971390e-01</td>\n",
       "      <td>...</td>\n",
       "      <td>1.863772e-01</td>\n",
       "      <td>5.285536e-01</td>\n",
       "      <td>1.476421e-01</td>\n",
       "      <td>4.395266e-01</td>\n",
       "      <td>3.507156e-01</td>\n",
       "      <td>2.409522e-01</td>\n",
       "      <td>9.104512e-02</td>\n",
       "      <td>7.827995e-02</td>\n",
       "      <td>77.165000</td>\n",
       "      <td>0.000000</td>\n",
       "    </tr>\n",
       "    <tr>\n",
       "      <th>max</th>\n",
       "      <td>172792.000000</td>\n",
       "      <td>2.454930e+00</td>\n",
       "      <td>2.205773e+01</td>\n",
       "      <td>9.382558e+00</td>\n",
       "      <td>1.687534e+01</td>\n",
       "      <td>3.480167e+01</td>\n",
       "      <td>7.330163e+01</td>\n",
       "      <td>1.205895e+02</td>\n",
       "      <td>2.000721e+01</td>\n",
       "      <td>1.559499e+01</td>\n",
       "      <td>...</td>\n",
       "      <td>2.720284e+01</td>\n",
       "      <td>1.050309e+01</td>\n",
       "      <td>2.252841e+01</td>\n",
       "      <td>4.584549e+00</td>\n",
       "      <td>7.519589e+00</td>\n",
       "      <td>3.517346e+00</td>\n",
       "      <td>3.161220e+01</td>\n",
       "      <td>3.384781e+01</td>\n",
       "      <td>25691.160000</td>\n",
       "      <td>1.000000</td>\n",
       "    </tr>\n",
       "  </tbody>\n",
       "</table>\n",
       "<p>8 rows × 31 columns</p>\n",
       "</div>"
      ],
      "text/plain": [
       "                Time            V1            V2            V3            V4  \\\n",
       "count  284807.000000  2.848070e+05  2.848070e+05  2.848070e+05  2.848070e+05   \n",
       "mean    94813.859575  3.919560e-15  5.688174e-16 -8.769071e-15  2.782312e-15   \n",
       "std     47488.145955  1.958696e+00  1.651309e+00  1.516255e+00  1.415869e+00   \n",
       "min         0.000000 -5.640751e+01 -7.271573e+01 -4.832559e+01 -5.683171e+00   \n",
       "25%     54201.500000 -9.203734e-01 -5.985499e-01 -8.903648e-01 -8.486401e-01   \n",
       "50%     84692.000000  1.810880e-02  6.548556e-02  1.798463e-01 -1.984653e-02   \n",
       "75%    139320.500000  1.315642e+00  8.037239e-01  1.027196e+00  7.433413e-01   \n",
       "max    172792.000000  2.454930e+00  2.205773e+01  9.382558e+00  1.687534e+01   \n",
       "\n",
       "                 V5            V6            V7            V8            V9  \\\n",
       "count  2.848070e+05  2.848070e+05  2.848070e+05  2.848070e+05  2.848070e+05   \n",
       "mean  -1.552563e-15  2.010663e-15 -1.694249e-15 -1.927028e-16 -3.137024e-15   \n",
       "std    1.380247e+00  1.332271e+00  1.237094e+00  1.194353e+00  1.098632e+00   \n",
       "min   -1.137433e+02 -2.616051e+01 -4.355724e+01 -7.321672e+01 -1.343407e+01   \n",
       "25%   -6.915971e-01 -7.682956e-01 -5.540759e-01 -2.086297e-01 -6.430976e-01   \n",
       "50%   -5.433583e-02 -2.741871e-01  4.010308e-02  2.235804e-02 -5.142873e-02   \n",
       "75%    6.119264e-01  3.985649e-01  5.704361e-01  3.273459e-01  5.971390e-01   \n",
       "max    3.480167e+01  7.330163e+01  1.205895e+02  2.000721e+01  1.559499e+01   \n",
       "\n",
       "       ...           V21           V22           V23           V24  \\\n",
       "count  ...  2.848070e+05  2.848070e+05  2.848070e+05  2.848070e+05   \n",
       "mean   ...  1.537294e-16  7.959909e-16  5.367590e-16  4.458112e-15   \n",
       "std    ...  7.345240e-01  7.257016e-01  6.244603e-01  6.056471e-01   \n",
       "min    ... -3.483038e+01 -1.093314e+01 -4.480774e+01 -2.836627e+00   \n",
       "25%    ... -2.283949e-01 -5.423504e-01 -1.618463e-01 -3.545861e-01   \n",
       "50%    ... -2.945017e-02  6.781943e-03 -1.119293e-02  4.097606e-02   \n",
       "75%    ...  1.863772e-01  5.285536e-01  1.476421e-01  4.395266e-01   \n",
       "max    ...  2.720284e+01  1.050309e+01  2.252841e+01  4.584549e+00   \n",
       "\n",
       "                V25           V26           V27           V28         Amount  \\\n",
       "count  2.848070e+05  2.848070e+05  2.848070e+05  2.848070e+05  284807.000000   \n",
       "mean   1.453003e-15  1.699104e-15 -3.660161e-16 -1.206049e-16      88.349619   \n",
       "std    5.212781e-01  4.822270e-01  4.036325e-01  3.300833e-01     250.120109   \n",
       "min   -1.029540e+01 -2.604551e+00 -2.256568e+01 -1.543008e+01       0.000000   \n",
       "25%   -3.171451e-01 -3.269839e-01 -7.083953e-02 -5.295979e-02       5.600000   \n",
       "50%    1.659350e-02 -5.213911e-02  1.342146e-03  1.124383e-02      22.000000   \n",
       "75%    3.507156e-01  2.409522e-01  9.104512e-02  7.827995e-02      77.165000   \n",
       "max    7.519589e+00  3.517346e+00  3.161220e+01  3.384781e+01   25691.160000   \n",
       "\n",
       "               Class  \n",
       "count  284807.000000  \n",
       "mean        0.001727  \n",
       "std         0.041527  \n",
       "min         0.000000  \n",
       "25%         0.000000  \n",
       "50%         0.000000  \n",
       "75%         0.000000  \n",
       "max         1.000000  \n",
       "\n",
       "[8 rows x 31 columns]"
      ]
     },
     "execution_count": 5,
     "metadata": {},
     "output_type": "execute_result"
    }
   ],
   "source": [
    "# Summary statistics\n",
    "data_df.describe()"
   ]
  },
  {
   "cell_type": "code",
   "execution_count": 6,
   "metadata": {
    "_cell_guid": "3f8a44de-20c9-4fa6-abc5-3fa338caf6aa",
    "_uuid": "1b44b727-a757-4cd1-8c26-049df13f73e7"
   },
   "outputs": [
    {
     "data": {
      "text/html": [
       "<div>\n",
       "<style scoped>\n",
       "    .dataframe tbody tr th:only-of-type {\n",
       "        vertical-align: middle;\n",
       "    }\n",
       "\n",
       "    .dataframe tbody tr th {\n",
       "        vertical-align: top;\n",
       "    }\n",
       "\n",
       "    .dataframe thead th {\n",
       "        text-align: right;\n",
       "    }\n",
       "</style>\n",
       "<table border=\"1\" class=\"dataframe\">\n",
       "  <thead>\n",
       "    <tr style=\"text-align: right;\">\n",
       "      <th></th>\n",
       "      <th>Class</th>\n",
       "      <th>V14</th>\n",
       "      <th>V1</th>\n",
       "      <th>V2</th>\n",
       "      <th>V3</th>\n",
       "      <th>V4</th>\n",
       "      <th>V5</th>\n",
       "      <th>V6</th>\n",
       "      <th>V7</th>\n",
       "      <th>V8</th>\n",
       "      <th>...</th>\n",
       "      <th>V20</th>\n",
       "      <th>V21</th>\n",
       "      <th>V22</th>\n",
       "      <th>V23</th>\n",
       "      <th>V24</th>\n",
       "      <th>V25</th>\n",
       "      <th>V26</th>\n",
       "      <th>V27</th>\n",
       "      <th>V28</th>\n",
       "      <th>Time</th>\n",
       "    </tr>\n",
       "  </thead>\n",
       "  <tbody>\n",
       "    <tr>\n",
       "      <th>Total</th>\n",
       "      <td>0.0</td>\n",
       "      <td>0.0</td>\n",
       "      <td>0.0</td>\n",
       "      <td>0.0</td>\n",
       "      <td>0.0</td>\n",
       "      <td>0.0</td>\n",
       "      <td>0.0</td>\n",
       "      <td>0.0</td>\n",
       "      <td>0.0</td>\n",
       "      <td>0.0</td>\n",
       "      <td>...</td>\n",
       "      <td>0.0</td>\n",
       "      <td>0.0</td>\n",
       "      <td>0.0</td>\n",
       "      <td>0.0</td>\n",
       "      <td>0.0</td>\n",
       "      <td>0.0</td>\n",
       "      <td>0.0</td>\n",
       "      <td>0.0</td>\n",
       "      <td>0.0</td>\n",
       "      <td>0.0</td>\n",
       "    </tr>\n",
       "    <tr>\n",
       "      <th>Percent</th>\n",
       "      <td>0.0</td>\n",
       "      <td>0.0</td>\n",
       "      <td>0.0</td>\n",
       "      <td>0.0</td>\n",
       "      <td>0.0</td>\n",
       "      <td>0.0</td>\n",
       "      <td>0.0</td>\n",
       "      <td>0.0</td>\n",
       "      <td>0.0</td>\n",
       "      <td>0.0</td>\n",
       "      <td>...</td>\n",
       "      <td>0.0</td>\n",
       "      <td>0.0</td>\n",
       "      <td>0.0</td>\n",
       "      <td>0.0</td>\n",
       "      <td>0.0</td>\n",
       "      <td>0.0</td>\n",
       "      <td>0.0</td>\n",
       "      <td>0.0</td>\n",
       "      <td>0.0</td>\n",
       "      <td>0.0</td>\n",
       "    </tr>\n",
       "  </tbody>\n",
       "</table>\n",
       "<p>2 rows × 31 columns</p>\n",
       "</div>"
      ],
      "text/plain": [
       "         Class  V14   V1   V2   V3   V4   V5   V6   V7   V8  ...  V20  V21  \\\n",
       "Total      0.0  0.0  0.0  0.0  0.0  0.0  0.0  0.0  0.0  0.0  ...  0.0  0.0   \n",
       "Percent    0.0  0.0  0.0  0.0  0.0  0.0  0.0  0.0  0.0  0.0  ...  0.0  0.0   \n",
       "\n",
       "         V22  V23  V24  V25  V26  V27  V28  Time  \n",
       "Total    0.0  0.0  0.0  0.0  0.0  0.0  0.0   0.0  \n",
       "Percent  0.0  0.0  0.0  0.0  0.0  0.0  0.0   0.0  \n",
       "\n",
       "[2 rows x 31 columns]"
      ]
     },
     "execution_count": 6,
     "metadata": {},
     "output_type": "execute_result"
    }
   ],
   "source": [
    "# Null values\n",
    "total = data_df.isnull().sum().sort_values(ascending = False)\n",
    "percent = (data_df.isnull().sum()/data_df.isnull().count()*100).sort_values(ascending = False)\n",
    "pd.concat([total, percent], axis=1, keys=['Total', 'Percent']).transpose()"
   ]
  },
  {
   "cell_type": "markdown",
   "metadata": {
    "_cell_guid": "27b198a3-4897-4700-846a-68327c03984d",
    "_uuid": "684d3f41-746e-4e1f-a9e7-288bfbe032d6"
   },
   "source": [
    "## <a id=\"1.3\">1.3 Dataset Summary</a>\n",
    "**31 variables; 284,807 observations; no variable has null values present.**"
   ]
  },
  {
   "cell_type": "markdown",
   "metadata": {
    "_cell_guid": "cec684f3-e091-4c1a-88e2-2fa49d55cf99",
    "_uuid": "fb0547c6-1d2b-4a5a-8955-13078249984b"
   },
   "source": [
    "# <a id=\"2.\">2. Business Context of Fraud</a>\n",
    "\n",
    "Fraud costs a business money (direct - money lost due to fraudelent transactions being authorised, and indirect - reputational costs). The direct costs are easy to measure and so will therefore be the focus. Indirect costs such as reputational cost is somewhat difficult to calculate and therefore will be excluded from this analysis. Due to this, any cost of fraud given will be a floor (since the indirect costs would add to this).\n",
    "\n",
    "What is also true, though, is that attempting to prevent fraud also costs a business money; cost of labour to investigate potentially fraudelent transactions ( those transactions flagged by a classfication model as fraudelent).\n",
    "\n",
    "**It makes sense for a business to try to prevent fraud if the monetary amount of fraud prevented outweighs the cost of investigating potentially-fraudelent transactions.**"
   ]
  },
  {
   "cell_type": "markdown",
   "metadata": {
    "_cell_guid": "30166f7b-a630-42d6-ae02-92d9ad28d472",
    "_uuid": "233d86c9-85a5-48d6-bc28-0df6861e2e10"
   },
   "source": [
    "## <a id=\"2.1\">2.1 Cost of Fraud</a>\n",
    "\n",
    "Assuming that the dataset is a representative sample. Across two days, there are 492 fraudelent transactions out of 284,807 transactions.\n",
    "\n",
    "The average cost of an authorised transaction which turns out to be fraudelent is:"
   ]
  },
  {
   "cell_type": "code",
   "execution_count": 7,
   "metadata": {
    "_cell_guid": "2f20a827-9d31-4a51-8655-3875342c2f66",
    "_uuid": "4775d33e-008f-4238-8a38-2d216de3bcb0"
   },
   "outputs": [
    {
     "name": "stdout",
     "output_type": "stream",
     "text": [
      "Cost of an authorised fraudelent transaction: € 122.2\n"
     ]
    }
   ],
   "source": [
    "avg_fraud_amt = np.mean(data_df.loc[data_df.Class==1].Amount.values) \n",
    "print(\"Cost of an authorised fraudelent transaction: €\",\\\n",
    "      round(avg_fraud_amt, 1))"
   ]
  },
  {
   "cell_type": "markdown",
   "metadata": {
    "_cell_guid": "ffedb18a-89fa-48b0-842d-ea7d2de9d819",
    "_uuid": "23c7bcc8-c91c-4a2f-90fd-a29433543bd7"
   },
   "source": [
    "Over a single day this adds up:"
   ]
  },
  {
   "cell_type": "code",
   "execution_count": 8,
   "metadata": {
    "_cell_guid": "b9930227-533c-4d99-9b64-f5fd0993f639",
    "_uuid": "fd70d7f8-ad8d-4eb1-9d0d-19ef79b6f419"
   },
   "outputs": [
    {
     "name": "stdout",
     "output_type": "stream",
     "text": [
      "All fraud would on average cost ~ € 30,064.0/ day\n"
     ]
    }
   ],
   "source": [
    "print(f'All fraud would on average cost ~ € {round(len(data_df.loc[data_df.Class==1])/2*(avg_fraud_amt),1):,}/ day')"
   ]
  },
  {
   "cell_type": "markdown",
   "metadata": {
    "_cell_guid": "a285de3f-5c45-4240-8730-3974fd079b36",
    "_uuid": "76c75aeb-d4d7-4ac0-9ba5-88ca788be298"
   },
   "source": [
    "This is the \"do-nothing\" approach, i.e. the baseline. **I will evaluate all classification models against this amount.**"
   ]
  },
  {
   "cell_type": "markdown",
   "metadata": {
    "_cell_guid": "6110185a-2910-4bdf-934b-a5053621f3b4",
    "_uuid": "4e29f6c6-b256-4962-9fc9-2977bc85b6b3"
   },
   "source": [
    "## <a id=\"2.2\">2.2 Misclassification Costs</a>\n",
    "\n",
    "There are costs associated with misclassifying transactions - no classification model will correctly identify all fraudelent transactions whilst not classifying any legitimate transaction as non-fraudelent.\n",
    "\n",
    "As such, there are two types of misclassification:\n",
    "1. Classifying a legitimate transaction as fraudelent (a false positive/type I error).\n",
    "2. Classifying a fraudelent transaction as legitimate (a false negative/type II error).\n",
    "\n",
    "Each misclassification has an associated cost."
   ]
  },
  {
   "cell_type": "markdown",
   "metadata": {
    "_cell_guid": "12b8e486-a8c7-4e95-aab0-c4344af0459d",
    "_uuid": "c81c4001-b25d-4107-a2cc-1552ed6087ba"
   },
   "source": [
    "### <a id=\"2.2.1\">2.2.1 Cost of a False Positive (Type I Error)</a>\n",
    "\n",
    "To calculate the cost of a false positive (type I error), some assumptions are needed.\n",
    "\n",
    "The cost associated with a false positive, that is classifying a legitimate transaction as fraudelent, is the cost associated with processing this transaction, by an individual, to determine whether the transaction is indeed fraudelent or not.\n",
    "\n",
    "It is assumed, therefore:\n",
    "\n",
    "* All processing is undertaken within the same time-zone, i.e. a European city - most likely a financial district (London, Paris, Dublin, Zurich, Frankfurt).\n",
    "* Processors are paid an average wage in their respective countries.\n",
    "\n",
    "* It takes, on average, a processor 5 minutes to determine if a flagged transaction is indeed fraudelent or not."
   ]
  },
  {
   "cell_type": "code",
   "execution_count": 9,
   "metadata": {
    "_cell_guid": "3d2a7b5b-5eed-466c-a002-d2a63b3fd948",
    "_uuid": "9c3729d4-f330-4d47-b6b1-ce5346a8b27a"
   },
   "outputs": [],
   "source": [
    "# 2013 rates, https://www.ofx.com/en-gb/forex-news/historical-exchange-rates/yearly-average-rates/\n",
    "gbp_eur_fx = 1.177964\n",
    "chf_eur_fx = 0.812623\n",
    "\n",
    "# 2013 wages, https://stats.oecd.org/Index.aspx?DataSetCode=AV_AN_WAGE\n",
    "annual_wages = {\n",
    "    \"United Kingdom\": 32636 * gbp_eur_fx,\n",
    "    \"France\": 35835,\n",
    "    \"Ireland\": 44172,\n",
    "    \"Swtizerland\": 87758 * chf_eur_fx,\n",
    "    \"Germany\": 36272\n",
    "}\n",
    "\n",
    "avg_annual_wages = np.mean(list(annual_wages.values()))\n",
    "avg_hrly_wage = (avg_annual_wages / 52)/(37.5) # 52 weeks, 37.5 hr/week\n",
    "\n",
    "transactions_processed_hr = 12 # 60 minutes / 5 minutes per processed transaction\n",
    "\n",
    "processing_cost_per_transaction = avg_hrly_wage / transactions_processed_hr"
   ]
  },
  {
   "cell_type": "code",
   "execution_count": 10,
   "metadata": {
    "_cell_guid": "6b08aba6-8406-449b-ae54-80b5fef85b39",
    "_uuid": "11a8c2b0-7ce4-4ec8-ba22-59bb0a315912"
   },
   "outputs": [
    {
     "name": "stdout",
     "output_type": "stream",
     "text": [
      "Cost of processing a transaction: € 1.9\n"
     ]
    }
   ],
   "source": [
    "print(\"Cost of processing a transaction: €\",\\\n",
    "      round(processing_cost_per_transaction, 1))"
   ]
  },
  {
   "cell_type": "markdown",
   "metadata": {},
   "source": [
    "### <a id=\"2.2.2\">2.2.2 Cost of a False Negative (Type II Error)</a>\n",
    "\n",
    "The average cost of false negative, flagging a fraduelent transaction as legitimate, is the average cost of a fraudelent transaction, **€122.2**."
   ]
  },
  {
   "cell_type": "markdown",
   "metadata": {
    "_cell_guid": "ee0111e4-96ba-4773-ac36-05392b8c2aaa",
    "_uuid": "aac4726b-81a5-4697-b32f-cfc2fd347e6a"
   },
   "source": [
    "## <a id='2.3'>2.3 Model Motivation</a>\n",
    "So, the cost of a false positive is €1.9 vs €122.2 for a false negative, a ratio of around 1:64.\n",
    "\n",
    "That means, if 64 transactions are processed and 1 turns out to be fraudelent while the remaining 63 turn out to be legitimate, the business will have saved money:\n",
    "\n",
    "* Cost to business, expressed as a negative value, of processing 64 transactions: -€1.9 * 64 = -€121.6\n",
    "* Cost saved, realised as a positive value, by identifying the one legitimate fraud transaction: +€122.2\n",
    "* Net position: -€121.6 + (+€122.2) = +€0.6\n",
    "\n",
    "**That is, the business is better off using a classfication model, with its misclassification costs, if and only if the marginal cost of detecting a fraudelent transaction is below 64 transactions misclassified as fraud.**"
   ]
  },
  {
   "cell_type": "code",
   "execution_count": 11,
   "metadata": {
    "_cell_guid": "34d7ebcd-7855-46f3-beac-a89fc7ee8091",
    "_uuid": "1a2445b0-6f90-49a5-a57f-43660e49be3b"
   },
   "outputs": [
    {
     "data": {
      "image/png": "[encoded data removed]",
      "text/plain": [
       "<Figure size 432x288 with 1 Axes>"
      ]
     },
     "metadata": {
      "needs_background": "light"
     },
     "output_type": "display_data"
    }
   ],
   "source": [
    "false_positives_count = np.arange(0, avg_fraud_amt / processing_cost_per_transaction * 2)\n",
    "marginal_cost_function = false_positives_count * - processing_cost_per_transaction + avg_fraud_amt\n",
    "break_even_txn_count = int(avg_fraud_amt / processing_cost_per_transaction)\n",
    "\n",
    "plt.title('Marginal Gain per Additional Fraud Detected')\n",
    "plt.ylabel('Amount (€)')\n",
    "plt.xlabel('Number of Txns Falsely Flagged as Fraudelent')\n",
    "plt.plot(marginal_cost_function)\n",
    "plt.plot(break_even_txn_count, 0, 'ro')\n",
    "plt.show();"
   ]
  },
  {
   "cell_type": "markdown",
   "metadata": {
    "_cell_guid": "f2b85022-bc54-4206-8c05-faa15b91fd46",
    "_uuid": "7ae29c93-3048-4525-aa8f-791ad9a4bccb"
   },
   "source": [
    "Therefore, a business that uses a classification model that identifies 65 or more legitimate transactions as fraudelent, for every correctly identified fraudelent transaction, will be losing more money to processing transactions than it saves by correctly identifying fraudelent transactions.\n",
    "\n",
    "Consequently, any classification model should aim to do better than this. If the classification model identifies 64 or fewer legitimate transactions as fraudelent, for every correctly identified fraudelent transaction - the business will be better off."
   ]
  },
  {
   "cell_type": "markdown",
   "metadata": {
    "_cell_guid": "e35a9f07-3a46-474f-b026-f9e1dde09167",
    "_uuid": "a33fb47f-f63c-4ea2-b1be-cda0c9063439"
   },
   "source": [
    "## <a id='2.4'>2.4 Business Context of Fraud Summary</a>\n",
    "\n",
    "* Each fraudelent transaction costs the business **€122.2**\n",
    "* Estimated cost of fraud is **~€30,064 / day** (based of 246 fraudelent transactions a day)\n",
    "* The business will be better off using a classification model if the model can for every 64 of fewer transactions it flags as fraudelent, correctly identify at least 1 real fraudelent transaction.\n",
    "\n",
    "With that in mind, I will proceed to build a classification model."
   ]
  },
  {
   "cell_type": "markdown",
   "metadata": {},
   "source": [
    "# <a id='3.0'>3. Explortory Analysis </a>"
   ]
  },
  {
   "cell_type": "markdown",
   "metadata": {
    "_cell_guid": "b6a6fdfb-f764-4578-b78a-e86c5f3da868",
    "_uuid": "bb44bca2-25c3-48bc-ae21-0d0f1d7a9eba"
   },
   "source": [
    "## <a id='3.1'>3.1 Pearson Correlation Plot</a>\n",
    "\n",
    "Purpose here is to understand what variables, if any, are correlated with each other to potentially to reduce the feature set (dimensionality reduction)."
   ]
  },
  {
   "cell_type": "code",
   "execution_count": 12,
   "metadata": {
    "_cell_guid": "93112aa6-81fc-42ad-9592-6de952db7fd2",
    "_kg_hide-input": true,
    "_uuid": "82311238-d2b0-4104-9cc2-aa1670341c3c"
   },
   "outputs": [
    {
     "data": {
      "image/png": "[encoded data removed]",
      "text/plain": [
       "<Figure size 1152x720 with 2 Axes>"
      ]
     },
     "metadata": {
      "needs_background": "light"
     },
     "output_type": "display_data"
    }
   ],
   "source": [
    "plt.figure(figsize = (16,10))\n",
    "plt.title('Credit Card Transactions features correlation plot (Pearson)')\n",
    "corr = data_df.corr()\n",
    "sns.heatmap(corr,xticklabels=corr.columns,yticklabels=corr.columns,linewidths=.1,cmap=\"Blues\")\n",
    "plt.show()"
   ]
  },
  {
   "cell_type": "markdown",
   "metadata": {
    "_cell_guid": "b693c9c6-6301-4c2d-8225-7a705f3df9fe",
    "_uuid": "16903af1-6d9c-4695-ad8b-2ef8e880de72"
   },
   "source": [
    "Some variables appear correlated but will test the significance of correlations once new features have been engineered."
   ]
  },
  {
   "cell_type": "markdown",
   "metadata": {
    "_cell_guid": "0ded9596-4b41-4df3-85d3-da69186df8c4",
    "_uuid": "e718334c-d5d6-4c15-a69f-c26f85a9a040"
   },
   "source": [
    "## <a id='3.2'>3.2 KDE Plots</a>\n",
    "\n",
    "Purpose is to see if the distribution of a variable, when stratified by Class, differ significantly from each other. This will provide clues as to which variables are strongly associated with the fraudelent transactions."
   ]
  },
  {
   "cell_type": "code",
   "execution_count": 13,
   "metadata": {
    "_cell_guid": "c46adf53-b50b-4923-aec1-032382d25fda",
    "_kg_hide-input": true,
    "_uuid": "7df6c72f-5b4b-4728-a892-e77c380ee561"
   },
   "outputs": [
    {
     "data": {
      "text/plain": [
       "<Figure size 432x288 with 0 Axes>"
      ]
     },
     "metadata": {},
     "output_type": "display_data"
    },
    {
     "data": {
      "image/png": "[encoded data removed]",
      "text/plain": [
       "<Figure size 1152x2016 with 32 Axes>"
      ]
     },
     "metadata": {},
     "output_type": "display_data"
    }
   ],
   "source": [
    "var = data_df.drop(columns=['Class']).columns.values\n",
    "\n",
    "i = 0\n",
    "t0 = data_df.loc[data_df['Class'] == 0]\n",
    "t1 = data_df.loc[data_df['Class'] == 1]\n",
    "\n",
    "sns.set_style('whitegrid')\n",
    "plt.figure()\n",
    "fig, ax = plt.subplots(8,4,figsize=(16,28))\n",
    "\n",
    "for feature in var:\n",
    "    i += 1\n",
    "    plt.subplot(8,4,i)\n",
    "    sns.kdeplot(t0[feature], bw_method=0.5,label=\"Class = 0\", color='grey')\n",
    "    sns.kdeplot(t1[feature], bw_method=0.5,label=\"Class = 1\", color='red')\n",
    "    plt.xlabel(feature, fontsize=12)\n",
    "    locs, labels = plt.xticks()\n",
    "    plt.tick_params(axis='both', which='major', labelsize=10)\n",
    "plt.show();"
   ]
  },
  {
   "cell_type": "markdown",
   "metadata": {
    "_cell_guid": "f3f03462-3706-4f86-9ef4-a39c2db31f3b",
    "_uuid": "591e6662-9eec-4294-a4bf-8cc950b6f336"
   },
   "source": [
    "Distributions which look identical across Class: **V13, V15, V24, V25, V26**"
   ]
  },
  {
   "cell_type": "markdown",
   "metadata": {},
   "source": [
    "# <a id='4.0'>4. Preprocessing</a>"
   ]
  },
  {
   "cell_type": "markdown",
   "metadata": {
    "_cell_guid": "c957121f-a468-40b0-9262-d13f05760961",
    "_uuid": "6efa2d0f-63bb-47e1-9697-ef5f7210503b"
   },
   "source": [
    "## <a id='4.1'>4.1 Feature Engineering</a>\n",
    "\n",
    "1. Apply natural logarithm to Amount (since spend amounts are typically skewed left so a log transformation creates a normally distributed variable).\n",
    "2. Add time of day, expressed in seconds (reseting every day)\n",
    "3. Time elpased since last fraudelent transaction"
   ]
  },
  {
   "cell_type": "code",
   "execution_count": 14,
   "metadata": {
    "_cell_guid": "5ab06ed1-f660-4920-872f-b664dd50c577",
    "_uuid": "cbf2e8e8-a11c-47d7-af80-5b4250882d71",
    "scrolled": true
   },
   "outputs": [],
   "source": [
    "# ln_Amount\n",
    "data_df['ln_Amount'] = np.log(data_df['Amount']+1) #'+1' since minimum value is zero"
   ]
  },
  {
   "cell_type": "code",
   "execution_count": 15,
   "metadata": {
    "_cell_guid": "48bdbd69-e87f-49b9-a6e6-53082e802508",
    "_uuid": "c664e515-d97f-475f-a651-fdfcc78606cc",
    "scrolled": true
   },
   "outputs": [],
   "source": [
    "# Time_of_Day (in seconds)\n",
    "data_df['Time_of_Day'] = np.mod(data_df['Time'],(60*60*24))"
   ]
  },
  {
   "cell_type": "code",
   "execution_count": 16,
   "metadata": {
    "_cell_guid": "894b78bb-87f0-49f0-8d1f-7a1b0433b209",
    "_kg_hide-output": true,
    "_uuid": "e9fb744a-03ab-43cb-995f-d5a57e0636c4",
    "scrolled": true
   },
   "outputs": [],
   "source": [
    "# Time of Last Fraudelent Transaction\n",
    "data_df['t1'] = data_df.Time.loc[data_df.Class==1].shift()\n",
    "data_df['t1'] = data_df.t1.fillna(method='ffill')\n",
    "data_df['Time_Elapsed'] = data_df.Time - data_df.t1\n",
    "data_df['Time_Elapsed'].fillna(data_df['Time'], inplace=True)"
   ]
  },
  {
   "cell_type": "code",
   "execution_count": 17,
   "metadata": {},
   "outputs": [],
   "source": [
    "# For those transactions before first fraud\n",
    "data_df.loc[data_df.Time_Elapsed<0, 'Time_Elapsed'] = -1\n",
    "data_df = data_df.drop(['t1'], axis=1)\n",
    "\n",
    "#Transform\n",
    "data_df['ln_Time_Elapsed'] = np.log(data_df.Time_Elapsed+2)"
   ]
  },
  {
   "cell_type": "markdown",
   "metadata": {
    "_cell_guid": "26c695a4-8bcd-45c1-b8eb-e5a8ce7c6fc8",
    "_uuid": "4c64a35c-8386-4b1c-9382-86c7af19e1f5"
   },
   "source": [
    "Understand the distributions of new features."
   ]
  },
  {
   "cell_type": "code",
   "execution_count": 18,
   "metadata": {
    "_cell_guid": "a19041de-3b32-4533-b367-61dc540681da",
    "_uuid": "c762239c-f41b-4664-8e45-36a3c230dbcd"
   },
   "outputs": [
    {
     "data": {
      "text/html": [
       "<div>\n",
       "<style scoped>\n",
       "    .dataframe tbody tr th:only-of-type {\n",
       "        vertical-align: middle;\n",
       "    }\n",
       "\n",
       "    .dataframe tbody tr th {\n",
       "        vertical-align: top;\n",
       "    }\n",
       "\n",
       "    .dataframe thead th {\n",
       "        text-align: right;\n",
       "    }\n",
       "</style>\n",
       "<table border=\"1\" class=\"dataframe\">\n",
       "  <thead>\n",
       "    <tr style=\"text-align: right;\">\n",
       "      <th></th>\n",
       "      <th>Class</th>\n",
       "      <th>0</th>\n",
       "      <th>1</th>\n",
       "      <th>All</th>\n",
       "    </tr>\n",
       "  </thead>\n",
       "  <tbody>\n",
       "    <tr>\n",
       "      <th rowspan=\"4\" valign=\"top\">amin</th>\n",
       "      <th>Time_Elapsed</th>\n",
       "      <td>0.000000</td>\n",
       "      <td>0.000000</td>\n",
       "      <td>0.000000</td>\n",
       "    </tr>\n",
       "    <tr>\n",
       "      <th>Time_of_Day</th>\n",
       "      <td>0.000000</td>\n",
       "      <td>406.000000</td>\n",
       "      <td>0.000000</td>\n",
       "    </tr>\n",
       "    <tr>\n",
       "      <th>ln_Amount</th>\n",
       "      <td>0.000000</td>\n",
       "      <td>0.000000</td>\n",
       "      <td>0.000000</td>\n",
       "    </tr>\n",
       "    <tr>\n",
       "      <th>ln_Time_Elapsed</th>\n",
       "      <td>0.693147</td>\n",
       "      <td>0.693147</td>\n",
       "      <td>0.693147</td>\n",
       "    </tr>\n",
       "    <tr>\n",
       "      <th rowspan=\"4\" valign=\"top\">amax</th>\n",
       "      <th>Time_Elapsed</th>\n",
       "      <td>6619.000000</td>\n",
       "      <td>5489.000000</td>\n",
       "      <td>6619.000000</td>\n",
       "    </tr>\n",
       "    <tr>\n",
       "      <th>Time_of_Day</th>\n",
       "      <td>86398.000000</td>\n",
       "      <td>86376.000000</td>\n",
       "      <td>86398.000000</td>\n",
       "    </tr>\n",
       "    <tr>\n",
       "      <th>ln_Amount</th>\n",
       "      <td>10.153941</td>\n",
       "      <td>7.662407</td>\n",
       "      <td>10.153941</td>\n",
       "    </tr>\n",
       "    <tr>\n",
       "      <th>ln_Time_Elapsed</th>\n",
       "      <td>8.798002</td>\n",
       "      <td>8.610866</td>\n",
       "      <td>8.798002</td>\n",
       "    </tr>\n",
       "    <tr>\n",
       "      <th rowspan=\"4\" valign=\"top\">median</th>\n",
       "      <th>Time_Elapsed</th>\n",
       "      <td>759.000000</td>\n",
       "      <td>126.000000</td>\n",
       "      <td>758.000000</td>\n",
       "    </tr>\n",
       "    <tr>\n",
       "      <th>Time_of_Day</th>\n",
       "      <td>54051.000000</td>\n",
       "      <td>43388.500000</td>\n",
       "      <td>54039.000000</td>\n",
       "    </tr>\n",
       "    <tr>\n",
       "      <th>ln_Amount</th>\n",
       "      <td>3.135494</td>\n",
       "      <td>2.327270</td>\n",
       "      <td>3.135494</td>\n",
       "    </tr>\n",
       "    <tr>\n",
       "      <th>ln_Time_Elapsed</th>\n",
       "      <td>6.634633</td>\n",
       "      <td>4.852030</td>\n",
       "      <td>6.633318</td>\n",
       "    </tr>\n",
       "    <tr>\n",
       "      <th rowspan=\"4\" valign=\"top\">mean</th>\n",
       "      <th>Time_Elapsed</th>\n",
       "      <td>1063.092475</td>\n",
       "      <td>346.235772</td>\n",
       "      <td>1061.854115</td>\n",
       "    </tr>\n",
       "    <tr>\n",
       "      <th>Time_of_Day</th>\n",
       "      <td>52351.580026</td>\n",
       "      <td>43693.148374</td>\n",
       "      <td>52336.622709</td>\n",
       "    </tr>\n",
       "    <tr>\n",
       "      <th>ln_Amount</th>\n",
       "      <td>3.152762</td>\n",
       "      <td>2.820596</td>\n",
       "      <td>3.152188</td>\n",
       "    </tr>\n",
       "    <tr>\n",
       "      <th>ln_Time_Elapsed</th>\n",
       "      <td>6.519204</td>\n",
       "      <td>4.598160</td>\n",
       "      <td>6.515886</td>\n",
       "    </tr>\n",
       "  </tbody>\n",
       "</table>\n",
       "</div>"
      ],
      "text/plain": [
       "Class                              0             1           All\n",
       "amin   Time_Elapsed         0.000000      0.000000      0.000000\n",
       "       Time_of_Day          0.000000    406.000000      0.000000\n",
       "       ln_Amount            0.000000      0.000000      0.000000\n",
       "       ln_Time_Elapsed      0.693147      0.693147      0.693147\n",
       "amax   Time_Elapsed      6619.000000   5489.000000   6619.000000\n",
       "       Time_of_Day      86398.000000  86376.000000  86398.000000\n",
       "       ln_Amount           10.153941      7.662407     10.153941\n",
       "       ln_Time_Elapsed      8.798002      8.610866      8.798002\n",
       "median Time_Elapsed       759.000000    126.000000    758.000000\n",
       "       Time_of_Day      54051.000000  43388.500000  54039.000000\n",
       "       ln_Amount            3.135494      2.327270      3.135494\n",
       "       ln_Time_Elapsed      6.634633      4.852030      6.633318\n",
       "mean   Time_Elapsed      1063.092475    346.235772   1061.854115\n",
       "       Time_of_Day      52351.580026  43693.148374  52336.622709\n",
       "       ln_Amount            3.152762      2.820596      3.152188\n",
       "       ln_Time_Elapsed      6.519204      4.598160      6.515886"
      ]
     },
     "execution_count": 18,
     "metadata": {},
     "output_type": "execute_result"
    }
   ],
   "source": [
    "pd.pivot_table(data_df, values=['Time_of_Day','ln_Amount','Time_Elapsed','ln_Time_Elapsed'], index = 'Class', aggfunc=[np.min,np.max,np.median,np.mean], margins=True).T"
   ]
  },
  {
   "cell_type": "code",
   "execution_count": 19,
   "metadata": {
    "_cell_guid": "d5cf2576-9d06-4eae-bcb6-e397cdb2a99a",
    "_kg_hide-input": true,
    "_uuid": "629d8c50-50f9-41a9-83e2-3dfc02a5ac08"
   },
   "outputs": [
    {
     "data": {
      "text/plain": [
       "<Figure size 432x288 with 0 Axes>"
      ]
     },
     "metadata": {},
     "output_type": "display_data"
    },
    {
     "data": {
      "image/png": "[encoded data removed]",
      "text/plain": [
       "<Figure size 1152x2016 with 3 Axes>"
      ]
     },
     "metadata": {},
     "output_type": "display_data"
    }
   ],
   "source": [
    "i = 0\n",
    "t0 = data_df.loc[data_df['Class'] == 0]\n",
    "t1 = data_df.loc[data_df['Class'] == 1]\n",
    "\n",
    "sns.set_style('whitegrid')\n",
    "plt.figure()\n",
    "fig, ax = plt.subplots(1,3,figsize=(16,28))\n",
    "\n",
    "for feature in ['ln_Amount','Time_Elapsed','ln_Time_Elapsed']:\n",
    "    i += 1\n",
    "    plt.subplot(8,4,i)\n",
    "    sns.kdeplot(t0[feature], bw_method=0.5,label=\"Class = 0\", color='grey')\n",
    "    sns.kdeplot(t1[feature], bw_method=0.5,label=\"Class = 1\", color='red')\n",
    "    plt.xlabel(feature, fontsize=12)\n",
    "    locs, labels = plt.xticks()\n",
    "    plt.tick_params(axis='both', which='major', labelsize=10)\n",
    "plt.show();"
   ]
  },
  {
   "cell_type": "markdown",
   "metadata": {
    "_cell_guid": "39db2ea3-3e4d-4b5b-80ac-d3ebf5baa408",
    "_uuid": "c36a9f0b-7ce1-48bb-b5f6-7c1b6358cb95"
   },
   "source": [
    "A clear **bimodal distribution for ln_Amount** for fraudelent transactions compared to non-fraudelent transactions. Also, right to transform time elapsed to get a more normally distributed variable with ln_Time_Elapsed.\n",
    "\n",
    "From distribution of ln_Time_Elapsed, fraudelent transactions have a much shorter time between successively fraudelent transactions (somewhat expected).\n",
    "\n",
    "How are fraudelent transactions timed throughout the day compared to non-fraudelent transactions?"
   ]
  },
  {
   "cell_type": "code",
   "execution_count": 20,
   "metadata": {
    "_kg_hide-input": true
   },
   "outputs": [
    {
     "data": {
      "text/plain": [
       "(0.0, 172792.0)"
      ]
     },
     "execution_count": 20,
     "metadata": {},
     "output_type": "execute_result"
    },
    {
     "data": {
      "image/png": "[encoded data removed]",
      "text/plain": [
       "<Figure size 432x288 with 1 Axes>"
      ]
     },
     "metadata": {},
     "output_type": "display_data"
    }
   ],
   "source": [
    "sns.kdeplot(data=data_df.loc[data_df['Class']==0]['Time'],label='No Fraud', color='grey')\n",
    "sns.kdeplot(data=data_df.loc[data_df['Class']==1]['Time'],label='Fraud', color = 'red')\n",
    "plt.xlabel('Time')\n",
    "plt.xlim(min(data_df.Time),max(data_df.Time))"
   ]
  },
  {
   "cell_type": "markdown",
   "metadata": {
    "_cell_guid": "5309dd17-911f-4162-9dac-917c3cd075b6",
    "_uuid": "9e33c231-91fa-4866-8eda-4312fa6d2d6d"
   },
   "source": [
    "Evidence of fradulent transactions happening at a time (peak at around 10,000 seconds) when non-fraudelent transactions are at a low. Safe to assume this is late night/early morning when majority of people are asleep."
   ]
  },
  {
   "cell_type": "markdown",
   "metadata": {
    "_cell_guid": "ed56876a-ecfd-4791-8c16-58ad3289cb02",
    "_uuid": "c2a3c33a-6b30-4a28-875d-354f5256e670"
   },
   "source": [
    "## <a id='4.2'>4.2 Secondary Exploratory Analysis and Signifance Testing</a>\n",
    "\n",
    "With new features engineered, want to conduct a similar exploratory analysis and do some testing of correlations and differences in distribution means to indicate if any dimensionality reduction is needed and which variables are good candidates to include in a classification model."
   ]
  },
  {
   "cell_type": "code",
   "execution_count": 21,
   "metadata": {
    "_cell_guid": "52846256-0caf-48aa-8266-7ce6ff7eacf0",
    "_uuid": "88b56b3f-6536-4620-a12e-f7005d37447a"
   },
   "outputs": [],
   "source": [
    "data_df2 = data_df.drop(columns=['Time','Amount','Time_Elapsed'])"
   ]
  },
  {
   "cell_type": "markdown",
   "metadata": {
    "_cell_guid": "2c4b658d-6ff7-4473-be3f-8ad7a605e080",
    "_uuid": "eaf9af82-fc93-4bfb-94b0-525290dadde6"
   },
   "source": [
    "### <a id='4.2.1'>4.2.1 Correlations</a>"
   ]
  },
  {
   "cell_type": "code",
   "execution_count": 22,
   "metadata": {
    "_cell_guid": "19b7441b-025b-47f0-ad7c-782a19a8c32c",
    "_uuid": "8d401fc9-90e6-4084-9f65-73a27440f1f3"
   },
   "outputs": [
    {
     "name": "stdout",
     "output_type": "stream",
     "text": [
      "Top 5 Direct Correlations\n",
      "   variable_1   variable_2  pearson_r  pvalue\n",
      "30        V12  Time_of_Day   0.353425     0.0\n",
      "12         V6    ln_Amount   0.163822     0.0\n",
      "49        V20    ln_Amount   0.144731     0.0\n",
      "38        V15  Time_of_Day   0.111619     0.0\n",
      "14         V7    ln_Amount   0.095758     0.0\n",
      "\n",
      "Top 5 Inverse Correlations\n",
      "   variable_1   variable_2  pearson_r  pvalue\n",
      "2          V2    ln_Amount  -0.450317     0.0\n",
      "9          V5    ln_Amount  -0.286189     0.0\n",
      "21         V9  Time_of_Day  -0.190872     0.0\n",
      "32        V13  Time_of_Day  -0.188508     0.0\n",
      "35        V14  Time_of_Day  -0.163408     0.0\n"
     ]
    }
   ],
   "source": [
    "pearson_df =  pd.DataFrame(columns=['variable_1','variable_2','pearson_r','pvalue'])\n",
    "alpha_pr = 0.05\n",
    "no_of_comparisons = (data_df2.shape[1]*data_df2.shape[1]/2)-data_df2.shape[1]\n",
    "bonferroni_pr = alpha_pr / no_of_comparisons\n",
    "for i in data_df2.loc[:, data_df2.columns != 'Class']:\n",
    "    for j in data_df2.loc[:, data_df2.columns != 'Class']:\n",
    "        if i != j:\n",
    "            variable_i = i\n",
    "            variable_j = j\n",
    "            pearson_r = scipy.stats.pearsonr(data_df2[i],data_df2[j])[0]\n",
    "            pvalue = scipy.stats.pearsonr(data_df2[i],data_df2[j])[1]\n",
    "            if pvalue < bonferroni_pr:\n",
    "                new_row = {'variable_1': variable_i, 'variable_2': variable_j, \\\n",
    "                           'pearson_r': pearson_r, 'pvalue': pvalue}\n",
    "                pearson_df = pearson_df.append(new_row, ignore_index=True)\n",
    "pearson_df.sort_values('pearson_r')\n",
    "# Drop Duplicates\n",
    "pearson_df['temp'] = pearson_df.loc[:,'variable_1':'variable_2'].min(axis=1)+pearson_df.loc[:,'variable_1':'variable_2'].max(axis=1)\n",
    "pearson_df = pearson_df.drop_duplicates(subset=['temp'])\n",
    "pearson_df = pearson_df.drop(columns=['temp'])\n",
    "\n",
    "# Top 5 Direct Correlations\n",
    "print(\"Top 5 Direct Correlations\")\n",
    "print(pearson_df.loc[pearson_df.pearson_r>0,:].nlargest(5,'pearson_r'))\n",
    "print()\n",
    "\n",
    "# Top 5 Inverse Correlations\n",
    "print(\"Top 5 Inverse Correlations\")\n",
    "print(pearson_df.loc[pearson_df.pearson_r<0,:].nsmallest(5,'pearson_r'))"
   ]
  },
  {
   "cell_type": "markdown",
   "metadata": {
    "_cell_guid": "5c6460cf-3bb9-4d43-948f-1bb8ecd7c51e",
    "_uuid": "660eb65e-da29-400f-912f-f68a4b5817aa"
   },
   "source": [
    "Scope for dimensionality reduction."
   ]
  },
  {
   "cell_type": "markdown",
   "metadata": {
    "_cell_guid": "ad636e91-3f70-4d61-9981-7b04f4920077",
    "_uuid": "c0cf4d48-81fc-4ef3-80de-6345aa607634"
   },
   "source": [
    "### <a id='4.2.2'>4.2.2 T Testing</a>"
   ]
  },
  {
   "cell_type": "code",
   "execution_count": 23,
   "metadata": {
    "_cell_guid": "4eca8580-7b02-4e40-a8a7-75ef199279b9",
    "_uuid": "ecbed271-0c92-4942-8238-e22bc3d1cb91"
   },
   "outputs": [
    {
     "data": {
      "text/html": [
       "<div>\n",
       "<style scoped>\n",
       "    .dataframe tbody tr th:only-of-type {\n",
       "        vertical-align: middle;\n",
       "    }\n",
       "\n",
       "    .dataframe tbody tr th {\n",
       "        vertical-align: top;\n",
       "    }\n",
       "\n",
       "    .dataframe thead th {\n",
       "        text-align: right;\n",
       "    }\n",
       "</style>\n",
       "<table border=\"1\" class=\"dataframe\">\n",
       "  <thead>\n",
       "    <tr style=\"text-align: right;\">\n",
       "      <th></th>\n",
       "      <th>variable</th>\n",
       "      <th>statistic</th>\n",
       "      <th>pvalue</th>\n",
       "    </tr>\n",
       "  </thead>\n",
       "  <tbody>\n",
       "    <tr>\n",
       "      <th>11</th>\n",
       "      <td>V14</td>\n",
       "      <td>[36.201024075996244]</td>\n",
       "      <td>[1.0401507099025376e-140]</td>\n",
       "    </tr>\n",
       "    <tr>\n",
       "      <th>3</th>\n",
       "      <td>V4</td>\n",
       "      <td>[-35.11644940739403]</td>\n",
       "      <td>[4.587316921388562e-136]</td>\n",
       "    </tr>\n",
       "    <tr>\n",
       "      <th>9</th>\n",
       "      <td>V11</td>\n",
       "      <td>[-31.519223172648527]</td>\n",
       "      <td>[4.577212375356592e-120]</td>\n",
       "    </tr>\n",
       "    <tr>\n",
       "      <th>10</th>\n",
       "      <td>V12</td>\n",
       "      <td>[29.88002649494514]</td>\n",
       "      <td>[1.4813165028380743e-112]</td>\n",
       "    </tr>\n",
       "    <tr>\n",
       "      <th>8</th>\n",
       "      <td>V10</td>\n",
       "      <td>[25.75526028732098]</td>\n",
       "      <td>[3.382883650613494e-93]</td>\n",
       "    </tr>\n",
       "    <tr>\n",
       "      <th>12</th>\n",
       "      <td>V16</td>\n",
       "      <td>[23.798892084037867]</td>\n",
       "      <td>[7.905325639437749e-84]</td>\n",
       "    </tr>\n",
       "    <tr>\n",
       "      <th>21</th>\n",
       "      <td>ln_Time_Elapsed</td>\n",
       "      <td>[23.06833753095246]</td>\n",
       "      <td>[2.465128680633529e-80]</td>\n",
       "    </tr>\n",
       "    <tr>\n",
       "      <th>7</th>\n",
       "      <td>V9</td>\n",
       "      <td>[22.928480841254068]</td>\n",
       "      <td>[1.1935046623364764e-79]</td>\n",
       "    </tr>\n",
       "    <tr>\n",
       "      <th>2</th>\n",
       "      <td>V3</td>\n",
       "      <td>[21.976004399367977]</td>\n",
       "      <td>[4.7860814074282e-75]</td>\n",
       "    </tr>\n",
       "    <tr>\n",
       "      <th>13</th>\n",
       "      <td>V17</td>\n",
       "      <td>[21.247726971069667]</td>\n",
       "      <td>[1.5580938057841998e-71]</td>\n",
       "    </tr>\n",
       "    <tr>\n",
       "      <th>1</th>\n",
       "      <td>V2</td>\n",
       "      <td>[-18.761176823315797]</td>\n",
       "      <td>[1.2885797612095705e-59]</td>\n",
       "    </tr>\n",
       "    <tr>\n",
       "      <th>14</th>\n",
       "      <td>V18</td>\n",
       "      <td>[17.213505574351657]</td>\n",
       "      <td>[2.6392225457940417e-52]</td>\n",
       "    </tr>\n",
       "    <tr>\n",
       "      <th>6</th>\n",
       "      <td>V7</td>\n",
       "      <td>[17.168754779170776]</td>\n",
       "      <td>[4.2922313194412136e-52]</td>\n",
       "    </tr>\n",
       "    <tr>\n",
       "      <th>5</th>\n",
       "      <td>V6</td>\n",
       "      <td>[16.706743494730443]</td>\n",
       "      <td>[5.880377860840174e-50]</td>\n",
       "    </tr>\n",
       "    <tr>\n",
       "      <th>0</th>\n",
       "      <td>V1</td>\n",
       "      <td>[15.629064609674844]</td>\n",
       "      <td>[5.4916429825378326e-45]</td>\n",
       "    </tr>\n",
       "    <tr>\n",
       "      <th>4</th>\n",
       "      <td>V5</td>\n",
       "      <td>[13.032118672974827]</td>\n",
       "      <td>[1.4970277071054122e-33]</td>\n",
       "    </tr>\n",
       "    <tr>\n",
       "      <th>15</th>\n",
       "      <td>V19</td>\n",
       "      <td>[-9.819276211293447]</td>\n",
       "      <td>[6.707056605381376e-21]</td>\n",
       "    </tr>\n",
       "    <tr>\n",
       "      <th>20</th>\n",
       "      <td>Time_of_Day</td>\n",
       "      <td>[7.933975271760516]</td>\n",
       "      <td>[1.4410001323867465e-14]</td>\n",
       "    </tr>\n",
       "    <tr>\n",
       "      <th>16</th>\n",
       "      <td>V20</td>\n",
       "      <td>[-6.1415290755504275]</td>\n",
       "      <td>[1.6876894180533058e-09]</td>\n",
       "    </tr>\n",
       "    <tr>\n",
       "      <th>18</th>\n",
       "      <td>V24</td>\n",
       "      <td>[4.525328224597574]</td>\n",
       "      <td>[7.565212734686244e-06]</td>\n",
       "    </tr>\n",
       "    <tr>\n",
       "      <th>17</th>\n",
       "      <td>V21</td>\n",
       "      <td>[-4.097655091201302]</td>\n",
       "      <td>[4.882129855322934e-05]</td>\n",
       "    </tr>\n",
       "    <tr>\n",
       "      <th>19</th>\n",
       "      <td>ln_Amount</td>\n",
       "      <td>[3.325703594852294]</td>\n",
       "      <td>[0.0009478744121868926]</td>\n",
       "    </tr>\n",
       "  </tbody>\n",
       "</table>\n",
       "</div>"
      ],
      "text/plain": [
       "           variable              statistic                     pvalue\n",
       "11              V14   [36.201024075996244]  [1.0401507099025376e-140]\n",
       "3                V4   [-35.11644940739403]   [4.587316921388562e-136]\n",
       "9               V11  [-31.519223172648527]   [4.577212375356592e-120]\n",
       "10              V12    [29.88002649494514]  [1.4813165028380743e-112]\n",
       "8               V10    [25.75526028732098]    [3.382883650613494e-93]\n",
       "12              V16   [23.798892084037867]    [7.905325639437749e-84]\n",
       "21  ln_Time_Elapsed    [23.06833753095246]    [2.465128680633529e-80]\n",
       "7                V9   [22.928480841254068]   [1.1935046623364764e-79]\n",
       "2                V3   [21.976004399367977]      [4.7860814074282e-75]\n",
       "13              V17   [21.247726971069667]   [1.5580938057841998e-71]\n",
       "1                V2  [-18.761176823315797]   [1.2885797612095705e-59]\n",
       "14              V18   [17.213505574351657]   [2.6392225457940417e-52]\n",
       "6                V7   [17.168754779170776]   [4.2922313194412136e-52]\n",
       "5                V6   [16.706743494730443]    [5.880377860840174e-50]\n",
       "0                V1   [15.629064609674844]   [5.4916429825378326e-45]\n",
       "4                V5   [13.032118672974827]   [1.4970277071054122e-33]\n",
       "15              V19   [-9.819276211293447]    [6.707056605381376e-21]\n",
       "20      Time_of_Day    [7.933975271760516]   [1.4410001323867465e-14]\n",
       "16              V20  [-6.1415290755504275]   [1.6876894180533058e-09]\n",
       "18              V24    [4.525328224597574]    [7.565212734686244e-06]\n",
       "17              V21   [-4.097655091201302]    [4.882129855322934e-05]\n",
       "19        ln_Amount    [3.325703594852294]    [0.0009478744121868926]"
      ]
     },
     "execution_count": 23,
     "metadata": {},
     "output_type": "execute_result"
    }
   ],
   "source": [
    "from scipy import stats\n",
    "\n",
    "ttest_df =  pd.DataFrame(columns=['variable','statistic','pvalue'])\n",
    "alpha = 0.05\n",
    "bonferroni = alpha / (data_df2.shape[1]-1) #Bonferroni correction '-1' to exclude Class \n",
    "for i in data_df2.loc[:, data_df2.columns != 'Class']:\n",
    "    pvalue = stats.ttest_ind(data_df2.loc[data_df2['Class']==0, [i]], data_df2.loc[data_df2['Class']==1, [i]], equal_var=False, nan_policy='omit')[1]\n",
    "    if pvalue <= bonferroni:\n",
    "        new_row = {'variable':i, 'statistic':stats.ttest_ind(data_df2.loc[data_df2['Class']==0, [i]], data_df2.loc[data_df2['Class']==1, [i]], equal_var=False, nan_policy='omit')[0], \\\n",
    "                   'pvalue':pvalue}\n",
    "        ttest_df = ttest_df.append(new_row, ignore_index=True)\n",
    "ttest_df.sort_values('pvalue')"
   ]
  },
  {
   "cell_type": "markdown",
   "metadata": {
    "_cell_guid": "7e78bc4d-3c6f-4032-8280-2d3270e92ca4",
    "_uuid": "0c465204-08d0-4c72-8e10-902ac067d6b4"
   },
   "source": [
    "22 variables, from a possible 30 (explanatory), appear good candidates to include in a classification model."
   ]
  },
  {
   "cell_type": "markdown",
   "metadata": {
    "_cell_guid": "cf4ccaee-ecb6-4188-85b8-1fc75d8b01ea",
    "_uuid": "108e205b-e436-4fd2-90a2-5d327b57f1e8"
   },
   "source": [
    "## <a id='4.3'>4.3 Dimensionality Reduction</a>\n",
    "\n",
    "Purpose here is to understand if there is further scope for reducing the feature set further (with the addition of the new features engineered). All variables are continuous and so PCA is a suitable technique to reduce the feature set. I will be using features with an asbolute correlation of >= 0.2 as candidates for PCA."
   ]
  },
  {
   "cell_type": "code",
   "execution_count": 24,
   "metadata": {
    "_cell_guid": "cac8b870-3224-4257-9c29-cbad0f51d511",
    "_uuid": "48014b77-ecaa-4bfe-ab58-973411694333"
   },
   "outputs": [],
   "source": [
    "from numpy import array\n",
    "pca_candidate_features = pd.concat([pearson_df.loc[abs(pearson_df.pearson_r)>0.2,'variable_1'], \\\n",
    "              pearson_df.loc[abs(pearson_df.pearson_r)>0.2,'variable_2']])\n",
    "pca_candidate_features = pca_candidate_features.drop_duplicates()\n",
    "pca_candidate_features=array(pca_candidate_features)\n",
    "#pca_candidate_features=pca_candidate_features[pca_candidate_features != 'Time_of_Day']"
   ]
  },
  {
   "cell_type": "code",
   "execution_count": 25,
   "metadata": {
    "_cell_guid": "2475ec6e-a586-44a0-bf20-ae4b92320501",
    "_uuid": "a924a202-69e2-445d-9131-3ac1c7a850a4"
   },
   "outputs": [],
   "source": [
    "from sklearn.decomposition import PCA\n",
    "\n",
    "x_temp = data_df2[pca_candidate_features]\n",
    "\n",
    "n_princomp = len(pca_candidate_features)\n",
    "pca = PCA(n_components=n_princomp, whiten=True)\n",
    "\n",
    "pca.fit(x_temp)\n",
    "principal_components_x = pca.fit_transform(x_temp)"
   ]
  },
  {
   "cell_type": "code",
   "execution_count": 26,
   "metadata": {},
   "outputs": [
    {
     "data": {
      "text/html": [
       "<div>\n",
       "<style scoped>\n",
       "    .dataframe tbody tr th:only-of-type {\n",
       "        vertical-align: middle;\n",
       "    }\n",
       "\n",
       "    .dataframe tbody tr th {\n",
       "        vertical-align: top;\n",
       "    }\n",
       "\n",
       "    .dataframe thead th {\n",
       "        text-align: right;\n",
       "    }\n",
       "</style>\n",
       "<table border=\"1\" class=\"dataframe\">\n",
       "  <thead>\n",
       "    <tr style=\"text-align: right;\">\n",
       "      <th></th>\n",
       "      <th>V2</th>\n",
       "      <th>V5</th>\n",
       "      <th>V12</th>\n",
       "      <th>ln_Amount</th>\n",
       "      <th>Time_of_Day</th>\n",
       "    </tr>\n",
       "  </thead>\n",
       "  <tbody>\n",
       "    <tr>\n",
       "      <th>0</th>\n",
       "      <td>-6.161335e-07</td>\n",
       "      <td>0.000002</td>\n",
       "      <td>-0.000017</td>\n",
       "      <td>0.000002</td>\n",
       "      <td>-1.000000</td>\n",
       "    </tr>\n",
       "    <tr>\n",
       "      <th>1</th>\n",
       "      <td>-6.593830e-01</td>\n",
       "      <td>-0.218071</td>\n",
       "      <td>-0.004074</td>\n",
       "      <td>0.719474</td>\n",
       "      <td>0.000001</td>\n",
       "    </tr>\n",
       "    <tr>\n",
       "      <th>2</th>\n",
       "      <td>5.545126e-01</td>\n",
       "      <td>-0.787148</td>\n",
       "      <td>-0.016474</td>\n",
       "      <td>0.269524</td>\n",
       "      <td>-0.000001</td>\n",
       "    </tr>\n",
       "    <tr>\n",
       "      <th>3</th>\n",
       "      <td>-5.075260e-01</td>\n",
       "      <td>-0.576879</td>\n",
       "      <td>0.011195</td>\n",
       "      <td>-0.639924</td>\n",
       "      <td>-0.000002</td>\n",
       "    </tr>\n",
       "    <tr>\n",
       "      <th>4</th>\n",
       "      <td>-1.213234e-02</td>\n",
       "      <td>0.007399</td>\n",
       "      <td>-0.999793</td>\n",
       "      <td>-0.014538</td>\n",
       "      <td>0.000017</td>\n",
       "    </tr>\n",
       "  </tbody>\n",
       "</table>\n",
       "</div>"
      ],
      "text/plain": [
       "             V2        V5       V12  ln_Amount  Time_of_Day\n",
       "0 -6.161335e-07  0.000002 -0.000017   0.000002    -1.000000\n",
       "1 -6.593830e-01 -0.218071 -0.004074   0.719474     0.000001\n",
       "2  5.545126e-01 -0.787148 -0.016474   0.269524    -0.000001\n",
       "3 -5.075260e-01 -0.576879  0.011195  -0.639924    -0.000002\n",
       "4 -1.213234e-02  0.007399 -0.999793  -0.014538     0.000017"
      ]
     },
     "execution_count": 26,
     "metadata": {},
     "output_type": "execute_result"
    }
   ],
   "source": [
    "pd.DataFrame(data=pca.components_, columns=x_temp.columns)"
   ]
  },
  {
   "cell_type": "code",
   "execution_count": 27,
   "metadata": {
    "_cell_guid": "d5bffef7-e88a-410e-896f-dcd2a8a1e89b",
    "_uuid": "493bd5b2-5a8d-4d1c-9081-31334a3dab5b"
   },
   "outputs": [
    {
     "name": "stdout",
     "output_type": "stream",
     "text": [
      "[9.99999981e-01 9.18671008e-09 4.80135448e-09 2.65158265e-09\n",
      " 1.97090014e-09]\n"
     ]
    }
   ],
   "source": [
    "print(pca.explained_variance_ratio_)"
   ]
  },
  {
   "cell_type": "code",
   "execution_count": 28,
   "metadata": {
    "_cell_guid": "44bdde1b-5149-428b-8114-4075ae2adb61",
    "_uuid": "41ae3739-3a71-4efc-b7b0-36091be6539a"
   },
   "outputs": [],
   "source": [
    "principal_X_df = pd.DataFrame(data = principal_components_x[:,0:2]\n",
    "             , columns = ['new_prinComp_1','new_prinComp_2'])"
   ]
  },
  {
   "cell_type": "code",
   "execution_count": 29,
   "metadata": {
    "_cell_guid": "28eb1eae-619b-4734-9044-c563c7c1e1f5",
    "_uuid": "fe96d12b-ee7c-461f-8491-afeeeb3e5388"
   },
   "outputs": [],
   "source": [
    "data_df3 = pd.concat([data_df2,principal_X_df], axis=1)"
   ]
  },
  {
   "cell_type": "code",
   "execution_count": 30,
   "metadata": {
    "_cell_guid": "9ac93854-6c0f-4352-b200-9ea22a779f25",
    "_kg_hide-input": true,
    "_uuid": "1e3cabb4-c72c-4f38-8494-9787c9732bd9"
   },
   "outputs": [
    {
     "data": {
      "text/plain": [
       "<Figure size 432x288 with 0 Axes>"
      ]
     },
     "metadata": {},
     "output_type": "display_data"
    },
    {
     "data": {
      "image/png": "[encoded data removed]",
      "text/plain": [
       "<Figure size 1152x2016 with 2 Axes>"
      ]
     },
     "metadata": {},
     "output_type": "display_data"
    }
   ],
   "source": [
    "i = 0\n",
    "t0 = data_df3.loc[data_df3['Class'] == 0]\n",
    "t1 = data_df3.loc[data_df3['Class'] == 1]\n",
    "\n",
    "sns.set_style('whitegrid')\n",
    "plt.figure()\n",
    "fig, ax = plt.subplots(1,1,figsize=(16,28))\n",
    "\n",
    "for feature in ['new_prinComp_1','new_prinComp_2']:\n",
    "    i += 1\n",
    "    plt.subplot(8,4,i)\n",
    "    sns.kdeplot(t0[feature], bw_method=0.5,label=\"Class = 0\", color='grey')\n",
    "    sns.kdeplot(t1[feature], bw_method=0.5,label=\"Class = 1\", color='red')\n",
    "    plt.xlabel(feature, fontsize=12)\n",
    "    locs, labels = plt.xticks()\n",
    "    plt.tick_params(axis='both', which='major', labelsize=10)\n",
    "plt.show();"
   ]
  },
  {
   "cell_type": "code",
   "execution_count": 31,
   "metadata": {},
   "outputs": [
    {
     "name": "stdout",
     "output_type": "stream",
     "text": [
      "Top 5 Direct Correlations\n",
      "    variable_1      variable_2  pearson_r  pvalue\n",
      "133  ln_Amount  new_prinComp_2   0.876203     0.0\n",
      "49         V12     Time_of_Day   0.353425     0.0\n",
      "37          V9  new_prinComp_1   0.190872     0.0\n",
      "55         V13  new_prinComp_1   0.188508     0.0\n",
      "20          V6       ln_Amount   0.163822     0.0\n",
      "\n",
      "Top 5 Inverse Correlations\n",
      "      variable_1      variable_2  pearson_r  pvalue\n",
      "156  Time_of_Day  new_prinComp_1  -1.000000     0.0\n",
      "6             V2  new_prinComp_2  -0.805619     0.0\n",
      "3             V2       ln_Amount  -0.450317     0.0\n",
      "51           V12  new_prinComp_1  -0.353425     0.0\n",
      "19            V5  new_prinComp_2  -0.318758     0.0\n"
     ]
    }
   ],
   "source": [
    "pearson_df2 =  pd.DataFrame(columns=['variable_1','variable_2','pearson_r','pvalue'])\n",
    "alpha_pr = 0.05\n",
    "no_of_comparisons = (data_df3.shape[1]*data_df3.shape[1]/2)-data_df3.shape[1]\n",
    "bonferroni_pr = alpha_pr / no_of_comparisons\n",
    "for i in data_df3.loc[:, data_df3.columns != 'Class']:\n",
    "    for j in data_df3.loc[:, data_df3.columns != 'Class']:\n",
    "        if i != j:\n",
    "            variable_i = i\n",
    "            variable_j = j\n",
    "            pearson_r = scipy.stats.pearsonr(data_df3[i],data_df3[j])[0]\n",
    "            pvalue = scipy.stats.pearsonr(data_df3[i],data_df3[j])[1]\n",
    "            if pvalue < bonferroni_pr:\n",
    "                new_row = {'variable_1': variable_i, 'variable_2': variable_j, \\\n",
    "                           'pearson_r': pearson_r, 'pvalue': pvalue}\n",
    "                pearson_df2 = pearson_df2.append(new_row, ignore_index=True)\n",
    "pearson_df2.sort_values('pearson_r')\n",
    "# Drop Duplicates\n",
    "pearson_df2['temp'] = pearson_df2.loc[:,'variable_1':'variable_2'].min(axis=1)+pearson_df2.loc[:,'variable_1':'variable_2'].max(axis=1)\n",
    "pearson_df2 = pearson_df2.drop_duplicates(subset=['temp'])\n",
    "pearson_df2 = pearson_df2.drop(columns=['temp'])\n",
    "\n",
    "# Top 5 Direct Correlations\n",
    "print(\"Top 5 Direct Correlations\")\n",
    "print(pearson_df2.loc[pearson_df2.pearson_r>0,:].nlargest(5,'pearson_r'))\n",
    "print()\n",
    "\n",
    "# Top 5 Inverse Correlations\n",
    "print(\"Top 5 Inverse Correlations\")\n",
    "print(pearson_df2.loc[pearson_df2.pearson_r<0,:].nsmallest(5,'pearson_r'))"
   ]
  },
  {
   "cell_type": "code",
   "execution_count": 32,
   "metadata": {},
   "outputs": [
    {
     "data": {
      "text/html": [
       "<div>\n",
       "<style scoped>\n",
       "    .dataframe tbody tr th:only-of-type {\n",
       "        vertical-align: middle;\n",
       "    }\n",
       "\n",
       "    .dataframe tbody tr th {\n",
       "        vertical-align: top;\n",
       "    }\n",
       "\n",
       "    .dataframe thead th {\n",
       "        text-align: right;\n",
       "    }\n",
       "</style>\n",
       "<table border=\"1\" class=\"dataframe\">\n",
       "  <thead>\n",
       "    <tr style=\"text-align: right;\">\n",
       "      <th></th>\n",
       "      <th>variable</th>\n",
       "      <th>statistic</th>\n",
       "      <th>pvalue</th>\n",
       "    </tr>\n",
       "  </thead>\n",
       "  <tbody>\n",
       "    <tr>\n",
       "      <th>11</th>\n",
       "      <td>V14</td>\n",
       "      <td>[36.201024075996244]</td>\n",
       "      <td>[1.0401507099025376e-140]</td>\n",
       "    </tr>\n",
       "    <tr>\n",
       "      <th>3</th>\n",
       "      <td>V4</td>\n",
       "      <td>[-35.11644940739403]</td>\n",
       "      <td>[4.587316921388562e-136]</td>\n",
       "    </tr>\n",
       "    <tr>\n",
       "      <th>9</th>\n",
       "      <td>V11</td>\n",
       "      <td>[-31.519223172648527]</td>\n",
       "      <td>[4.577212375356592e-120]</td>\n",
       "    </tr>\n",
       "    <tr>\n",
       "      <th>10</th>\n",
       "      <td>V12</td>\n",
       "      <td>[29.88002649494514]</td>\n",
       "      <td>[1.4813165028380743e-112]</td>\n",
       "    </tr>\n",
       "    <tr>\n",
       "      <th>8</th>\n",
       "      <td>V10</td>\n",
       "      <td>[25.75526028732098]</td>\n",
       "      <td>[3.382883650613494e-93]</td>\n",
       "    </tr>\n",
       "    <tr>\n",
       "      <th>12</th>\n",
       "      <td>V16</td>\n",
       "      <td>[23.798892084037867]</td>\n",
       "      <td>[7.905325639437749e-84]</td>\n",
       "    </tr>\n",
       "    <tr>\n",
       "      <th>21</th>\n",
       "      <td>ln_Time_Elapsed</td>\n",
       "      <td>[23.06833753095246]</td>\n",
       "      <td>[2.465128680633529e-80]</td>\n",
       "    </tr>\n",
       "    <tr>\n",
       "      <th>7</th>\n",
       "      <td>V9</td>\n",
       "      <td>[22.928480841254068]</td>\n",
       "      <td>[1.1935046623364764e-79]</td>\n",
       "    </tr>\n",
       "    <tr>\n",
       "      <th>2</th>\n",
       "      <td>V3</td>\n",
       "      <td>[21.976004399367977]</td>\n",
       "      <td>[4.7860814074282e-75]</td>\n",
       "    </tr>\n",
       "    <tr>\n",
       "      <th>13</th>\n",
       "      <td>V17</td>\n",
       "      <td>[21.247726971069667]</td>\n",
       "      <td>[1.5580938057841998e-71]</td>\n",
       "    </tr>\n",
       "    <tr>\n",
       "      <th>1</th>\n",
       "      <td>V2</td>\n",
       "      <td>[-18.761176823315797]</td>\n",
       "      <td>[1.2885797612095705e-59]</td>\n",
       "    </tr>\n",
       "    <tr>\n",
       "      <th>14</th>\n",
       "      <td>V18</td>\n",
       "      <td>[17.213505574351657]</td>\n",
       "      <td>[2.6392225457940417e-52]</td>\n",
       "    </tr>\n",
       "    <tr>\n",
       "      <th>6</th>\n",
       "      <td>V7</td>\n",
       "      <td>[17.168754779170776]</td>\n",
       "      <td>[4.2922313194412136e-52]</td>\n",
       "    </tr>\n",
       "    <tr>\n",
       "      <th>5</th>\n",
       "      <td>V6</td>\n",
       "      <td>[16.706743494730443]</td>\n",
       "      <td>[5.880377860840174e-50]</td>\n",
       "    </tr>\n",
       "    <tr>\n",
       "      <th>0</th>\n",
       "      <td>V1</td>\n",
       "      <td>[15.629064609674844]</td>\n",
       "      <td>[5.4916429825378326e-45]</td>\n",
       "    </tr>\n",
       "    <tr>\n",
       "      <th>23</th>\n",
       "      <td>new_prinComp_2</td>\n",
       "      <td>[14.522354506969064]</td>\n",
       "      <td>[5.075437275665557e-40]</td>\n",
       "    </tr>\n",
       "    <tr>\n",
       "      <th>4</th>\n",
       "      <td>V5</td>\n",
       "      <td>[13.032118672974827]</td>\n",
       "      <td>[1.4970277071054122e-33]</td>\n",
       "    </tr>\n",
       "    <tr>\n",
       "      <th>15</th>\n",
       "      <td>V19</td>\n",
       "      <td>[-9.819276211293447]</td>\n",
       "      <td>[6.707056605381376e-21]</td>\n",
       "    </tr>\n",
       "    <tr>\n",
       "      <th>22</th>\n",
       "      <td>new_prinComp_1</td>\n",
       "      <td>[-7.9339753472466805]</td>\n",
       "      <td>[1.4409993554698312e-14]</td>\n",
       "    </tr>\n",
       "    <tr>\n",
       "      <th>20</th>\n",
       "      <td>Time_of_Day</td>\n",
       "      <td>[7.933975271760516]</td>\n",
       "      <td>[1.4410001323867465e-14]</td>\n",
       "    </tr>\n",
       "    <tr>\n",
       "      <th>16</th>\n",
       "      <td>V20</td>\n",
       "      <td>[-6.1415290755504275]</td>\n",
       "      <td>[1.6876894180533058e-09]</td>\n",
       "    </tr>\n",
       "    <tr>\n",
       "      <th>18</th>\n",
       "      <td>V24</td>\n",
       "      <td>[4.525328224597574]</td>\n",
       "      <td>[7.565212734686244e-06]</td>\n",
       "    </tr>\n",
       "    <tr>\n",
       "      <th>17</th>\n",
       "      <td>V21</td>\n",
       "      <td>[-4.097655091201302]</td>\n",
       "      <td>[4.882129855322934e-05]</td>\n",
       "    </tr>\n",
       "    <tr>\n",
       "      <th>19</th>\n",
       "      <td>ln_Amount</td>\n",
       "      <td>[3.325703594852294]</td>\n",
       "      <td>[0.0009478744121868926]</td>\n",
       "    </tr>\n",
       "  </tbody>\n",
       "</table>\n",
       "</div>"
      ],
      "text/plain": [
       "           variable              statistic                     pvalue\n",
       "11              V14   [36.201024075996244]  [1.0401507099025376e-140]\n",
       "3                V4   [-35.11644940739403]   [4.587316921388562e-136]\n",
       "9               V11  [-31.519223172648527]   [4.577212375356592e-120]\n",
       "10              V12    [29.88002649494514]  [1.4813165028380743e-112]\n",
       "8               V10    [25.75526028732098]    [3.382883650613494e-93]\n",
       "12              V16   [23.798892084037867]    [7.905325639437749e-84]\n",
       "21  ln_Time_Elapsed    [23.06833753095246]    [2.465128680633529e-80]\n",
       "7                V9   [22.928480841254068]   [1.1935046623364764e-79]\n",
       "2                V3   [21.976004399367977]      [4.7860814074282e-75]\n",
       "13              V17   [21.247726971069667]   [1.5580938057841998e-71]\n",
       "1                V2  [-18.761176823315797]   [1.2885797612095705e-59]\n",
       "14              V18   [17.213505574351657]   [2.6392225457940417e-52]\n",
       "6                V7   [17.168754779170776]   [4.2922313194412136e-52]\n",
       "5                V6   [16.706743494730443]    [5.880377860840174e-50]\n",
       "0                V1   [15.629064609674844]   [5.4916429825378326e-45]\n",
       "23   new_prinComp_2   [14.522354506969064]    [5.075437275665557e-40]\n",
       "4                V5   [13.032118672974827]   [1.4970277071054122e-33]\n",
       "15              V19   [-9.819276211293447]    [6.707056605381376e-21]\n",
       "22   new_prinComp_1  [-7.9339753472466805]   [1.4409993554698312e-14]\n",
       "20      Time_of_Day    [7.933975271760516]   [1.4410001323867465e-14]\n",
       "16              V20  [-6.1415290755504275]   [1.6876894180533058e-09]\n",
       "18              V24    [4.525328224597574]    [7.565212734686244e-06]\n",
       "17              V21   [-4.097655091201302]    [4.882129855322934e-05]\n",
       "19        ln_Amount    [3.325703594852294]    [0.0009478744121868926]"
      ]
     },
     "execution_count": 32,
     "metadata": {},
     "output_type": "execute_result"
    }
   ],
   "source": [
    "from scipy import stats\n",
    "\n",
    "ttest_df2 =  pd.DataFrame(columns=['variable','statistic','pvalue'])\n",
    "alpha = 0.05\n",
    "bonferroni = alpha / (data_df3.shape[1]-1) #Bonferroni correction '-1' to exclude Class \n",
    "for i in data_df3.loc[:, data_df3.columns != 'Class']:\n",
    "    pvalue = stats.ttest_ind(data_df3.loc[data_df3['Class']==0, [i]],\n",
    "                             data_df3.loc[data_df3['Class']==1, [i]],\n",
    "                             equal_var=False,\n",
    "                             nan_policy='omit')[1]\n",
    "    if pvalue <= bonferroni:\n",
    "        new_row = {'variable':i, 'statistic':stats.ttest_ind(data_df3.loc[data_df3['Class']==0, [i]],\n",
    "                                                             data_df3.loc[data_df3['Class']==1, [i]],\n",
    "                                                             equal_var=False,\n",
    "                                                             nan_policy='omit')[0], \\\n",
    "                   'pvalue':pvalue}\n",
    "        ttest_df2 = ttest_df2.append(new_row, ignore_index=True)\n",
    "ttest_df2.sort_values('pvalue')"
   ]
  },
  {
   "cell_type": "markdown",
   "metadata": {},
   "source": [
    "Drop columns replaced by prinComp."
   ]
  },
  {
   "cell_type": "code",
   "execution_count": 33,
   "metadata": {},
   "outputs": [
    {
     "data": {
      "text/plain": [
       "array(['V1', 'V10', 'V11', 'V14', 'V16', 'V17', 'V18', 'V19', 'V20',\n",
       "       'V21', 'V24', 'V3', 'V4', 'V6', 'V7', 'V9', 'ln_Time_Elapsed',\n",
       "       'new_prinComp_1', 'new_prinComp_2'], dtype=object)"
      ]
     },
     "execution_count": 33,
     "metadata": {},
     "output_type": "execute_result"
    }
   ],
   "source": [
    "from numpy import array\n",
    "x_variables = array(ttest_df2.variable)\n",
    "delete = np.array([x_temp.columns])\n",
    "x_variables = np.setdiff1d(x_variables, delete)\n",
    "x_variables"
   ]
  },
  {
   "cell_type": "markdown",
   "metadata": {
    "_cell_guid": "a29df9d8-2f97-462f-a55a-d1686a14ee70",
    "_uuid": "67e3dbf2-15a0-4466-97a4-3b0ba41be16c"
   },
   "source": [
    "# <a id='5.0'>5. Modeling</a>"
   ]
  },
  {
   "cell_type": "markdown",
   "metadata": {},
   "source": [
    "Due to the number of features involved, I have chosen against any recursive feature elimination and instead opted for a fixed set of variables since this reduces the complexity of the modeling process to be usable."
   ]
  },
  {
   "cell_type": "code",
   "execution_count": 34,
   "metadata": {
    "_cell_guid": "e3be62c8-501c-4d20-9e69-3dc78bc3b59d",
    "_kg_hide-input": true,
    "_uuid": "6295b660-deb5-4f7f-a588-ca015785f775"
   },
   "outputs": [],
   "source": [
    "from sklearn.model_selection import StratifiedKFold\n",
    "from sklearn.model_selection import KFold\n",
    "from sklearn.model_selection import GridSearchCV\n",
    "from sklearn.model_selection import cross_val_score\n",
    "from sklearn.preprocessing import RobustScaler\n",
    "from sklearn.pipeline import Pipeline\n",
    "from numpy import mean\n",
    "from numpy import std"
   ]
  },
  {
   "cell_type": "markdown",
   "metadata": {
    "_cell_guid": "2e1353ea-f937-4607-b44c-241b2ddab552",
    "_uuid": "12aa7ca9-f488-40c8-ba49-9bb7f21ad40e"
   },
   "source": [
    "## <a id='5.1'>5.1 Cost Function</a>"
   ]
  },
  {
   "cell_type": "code",
   "execution_count": 35,
   "metadata": {
    "_cell_guid": "e936c8c1-6b43-493a-a671-d197bc96b077",
    "_uuid": "12016257-5ec9-4dd2-9a32-a09e5859181b"
   },
   "outputs": [],
   "source": [
    "from sklearn.metrics import make_scorer\n",
    "from sklearn.metrics import confusion_matrix\n",
    "costs = {\n",
    "    'avg_fraud_amt': avg_fraud_amt,\n",
    "    'processing_cost_per_transaction': processing_cost_per_transaction,\n",
    "} \n",
    "\n",
    "def cust_loss_func(y_true, y_pred):\n",
    "    cm = confusion_matrix(y_true, y_pred)\n",
    "    tn = cm[0,0]\n",
    "    fp = cm[0,1]\n",
    "    fn = cm[1,0]\n",
    "    tp = cm[1,1]\n",
    "    \n",
    "    cost =  fp * costs['processing_cost_per_transaction'] + fn * costs['avg_fraud_amt']\n",
    "    return cost\n",
    "\n",
    "custom_score = make_scorer(cust_loss_func, greater_is_better = False)"
   ]
  },
  {
   "cell_type": "markdown",
   "metadata": {
    "_cell_guid": "2c2dcbf5-f56e-43e3-8a78-e6d76f2010ca",
    "_uuid": "634feb7e-e534-411b-bbf1-12640ac2f599"
   },
   "source": [
    "## <a id='5.2'>5.2 Class Weights</a>"
   ]
  },
  {
   "cell_type": "markdown",
   "metadata": {
    "_cell_guid": "f8b15d0b-d255-4fe8-928a-ad795cef5733",
    "_uuid": "82d54245-cccf-4283-b325-f3c8965dace1"
   },
   "source": [
    "Set appropriate class weights to minimize misclassification costs. 1 false negative (flagging a fraudelent transaction as legitimate) is equal to 64 false positives (flagging a legitimate transaction as fraudelent).\n",
    "\n",
    "Another way, is to say 1 false positive is equal to 1/64 false negative. So, not too interested in capturing many false positives (since they cost 1/64th of a flase negative) so long as there is a high recall (minimising the number of false negatives)"
   ]
  },
  {
   "cell_type": "code",
   "execution_count": 36,
   "metadata": {
    "_cell_guid": "b598a013-7a03-4d9c-828e-7006002f7b7e",
    "_uuid": "1f6e12ec-fca3-4acf-ab92-f9ddc800850d"
   },
   "outputs": [],
   "source": [
    "fraud_weight = round(avg_fraud_amt/processing_cost_per_transaction,1)"
   ]
  },
  {
   "cell_type": "markdown",
   "metadata": {},
   "source": [
    "## <a id='5.3'>5.3 Models</a>"
   ]
  },
  {
   "cell_type": "code",
   "execution_count": 37,
   "metadata": {
    "_kg_hide-input": true
   },
   "outputs": [],
   "source": [
    "# Classifiers considered\n",
    "from sklearn.naive_bayes import GaussianNB\n",
    "from sklearn.tree import DecisionTreeClassifier\n",
    "from sklearn.linear_model import LogisticRegression\n",
    "from sklearn.svm import SVC\n",
    "from xgboost import XGBClassifier\n",
    "from sklearn.ensemble import RandomForestClassifier\n",
    "from sklearn.linear_model import Perceptron\n",
    "from sklearn.neighbors import KNeighborsClassifier\n",
    "from sklearn.ensemble import AdaBoostClassifier\n",
    "from sklearn.ensemble import VotingClassifier"
   ]
  },
  {
   "cell_type": "code",
   "execution_count": 38,
   "metadata": {},
   "outputs": [],
   "source": [
    "#create datasets\n",
    "X = data_df3[x_variables]\n",
    "y = data_df3['Class']\n",
    "# configure the cross-validation procedure\n",
    "n_outer_splits = 10\n",
    "cv_outer = StratifiedKFold(n_splits=n_outer_splits, shuffle=True, random_state=RANDOM_SEED)\n",
    "# Scaler\n",
    "scaler = RobustScaler()\n",
    "# Factor to generalise cost to a single day\n",
    "cost_factor = n_outer_splits/2"
   ]
  },
  {
   "cell_type": "markdown",
   "metadata": {},
   "source": [
    "### <a id='5.3.1'>5.3.1 Naive Bayes</a>"
   ]
  },
  {
   "cell_type": "code",
   "execution_count": 39,
   "metadata": {},
   "outputs": [
    {
     "name": "stdout",
     "output_type": "stream",
     "text": [
      "Total Cost Estimate using Naive Bayes: -8734.169 (820.936)\n",
      "Wall time: 3.25 s\n"
     ]
    }
   ],
   "source": [
    "%%time\n",
    "gnb_clf = GaussianNB()\n",
    "gnb_pipeline = Pipeline(steps=[('scaler', scaler),\n",
    "                           ('clf', gnb_clf)\n",
    "                          ]\n",
    "                    )\n",
    "# Unbiased estimate\n",
    "gnb_scores = cost_factor*cross_val_score(gnb_pipeline, X, y, scoring=custom_score, cv=cv_outer, n_jobs=-1) \n",
    "# summarize the estimated performance of the model\n",
    "print('Total Cost Estimate using Naive Bayes: %.3f (%.3f)' % (mean(gnb_scores), std(gnb_scores)))"
   ]
  },
  {
   "cell_type": "markdown",
   "metadata": {},
   "source": [
    "### <a id='5.3.2'>5.3.2 Decision Tree </a>"
   ]
  },
  {
   "cell_type": "code",
   "execution_count": 40,
   "metadata": {},
   "outputs": [
    {
     "name": "stdout",
     "output_type": "stream",
     "text": [
      "Total Cost Estimate using Decision Tree: -8746.304 (2332.705)\n",
      "Wall time: 18.1 s\n"
     ]
    }
   ],
   "source": [
    "%%time\n",
    "dt_clf = DecisionTreeClassifier(class_weight={1: fraud_weight, 0:1}, random_state=RANDOM_SEED)\n",
    "dt_pipeline = Pipeline(steps=[('scaler', scaler),\n",
    "                           ('clf', dt_clf)\n",
    "                          ]\n",
    "                    )\n",
    "# Unbiased estimate\n",
    "dt_scores = cost_factor*cross_val_score(dt_pipeline, X, y, scoring=custom_score, cv=cv_outer, n_jobs=-1)\n",
    "# summarize the estimated performance of the model\n",
    "print('Total Cost Estimate using Decision Tree: %.3f (%.3f)' % (mean(dt_scores), std(dt_scores)))"
   ]
  },
  {
   "cell_type": "markdown",
   "metadata": {
    "_cell_guid": "5c88c4d8-a614-4ab5-b356-c9f0b8b3bb4f",
    "_uuid": "db9793e0-ebc6-4c16-bb9b-8c2451465791"
   },
   "source": [
    "### <a id='5.3.3'>5.3.3 Logistic Regression</a>\n",
    "\n",
    "For Logistic Regression, also optimise for hyperparameters."
   ]
  },
  {
   "cell_type": "code",
   "execution_count": 41,
   "metadata": {
    "_cell_guid": "d7cacac9-3009-453f-a66b-8b7713327637",
    "_uuid": "7fa5bb3a-c261-490d-b7f0-89ebef3b28fa"
   },
   "outputs": [
    {
     "name": "stdout",
     "output_type": "stream",
     "text": [
      "Total Cost using Logistic Regression: -4841.773 (1047.985)\n",
      "Wall time: 6min 20s\n"
     ]
    }
   ],
   "source": [
    "%%time\n",
    "n_inner_splits = 3\n",
    "# enumerate splits\n",
    "lr_outer_results = list()\n",
    "for train_ix, test_ix in cv_outer.split(X, y):\n",
    "    # split data\n",
    "    X_train, X_test = X.iloc[train_ix, :], X.iloc[test_ix, :]\n",
    "    y_train, y_test = y.iloc[train_ix], y.iloc[test_ix]\n",
    "    \n",
    "    # configure the cross-validation procedure\n",
    "    cv_inner = KFold(n_splits=n_inner_splits, shuffle=True, random_state=RANDOM_SEED)\n",
    "    \n",
    "    #configure pipeline\n",
    "    scaler = RobustScaler()\n",
    "    lr_clf = LogisticRegression(class_weight={1:fraud_weight, 0:1}, random_state=RANDOM_SEED)\n",
    "    lr_pipeline = Pipeline(steps=[('scaler', scaler),\n",
    "                               ('clf', lr_clf)\n",
    "                              ]\n",
    "                       )\n",
    "    # hyperparamater options\n",
    "    c_options = [1\n",
    "                 , 10\n",
    "                 , 100\n",
    "                 , 1000\n",
    "                ]\n",
    "    solver_options = ['newton-cg'\n",
    "                      , 'lbfgs'\n",
    "                      , 'liblinear'\n",
    "                     ]\n",
    "    penalty = ['l2']\n",
    "    #parameter grid\n",
    "    param_grid = [\n",
    "        {\n",
    "        'clf__C': c_options,\n",
    "        'clf__solver': solver_options,\n",
    "        'clf__penalty': penalty\n",
    "        }\n",
    "    ]\n",
    "    # define search\n",
    "    search = GridSearchCV(estimator=lr_pipeline,\n",
    "                          param_grid=param_grid,\n",
    "                          scoring=custom_score,\n",
    "                          cv=cv_inner,\n",
    "                          refit=True)\n",
    "    # execute search\n",
    "    result = search.fit(X_train, y_train)\n",
    "    # get the best performing model fit on the whole training set\n",
    "    best_model = result.best_estimator_\n",
    "    # evaluate model on the hold out dataset\n",
    "    yhat = best_model.predict(X_test)\n",
    "    # evaluate the model (generalising to one day)\n",
    "    total_cost = -cost_factor*cust_loss_func(y_test, yhat)\n",
    "    # store the result\n",
    "    lr_outer_results.append(total_cost)\n",
    "    # report progress\n",
    "    #print('>total cost=%.3f, est=%.3f, cfg=%s' % (total_cost, result.best_score_, result.best_params_))\n",
    "# summarize the estimated performance of the model\n",
    "print('Total Cost using Logistic Regression: %.3f (%.3f)' % (mean(lr_outer_results), std(lr_outer_results)))"
   ]
  },
  {
   "cell_type": "markdown",
   "metadata": {},
   "source": [
    "### <a id='5.3.4'>5.3.4 Support Vector Classifier</a>"
   ]
  },
  {
   "cell_type": "code",
   "execution_count": 42,
   "metadata": {},
   "outputs": [
    {
     "name": "stdout",
     "output_type": "stream",
     "text": [
      "Total Cost Estimate using SVC: -7026.652 (1161.036)\n",
      "Wall time: 5min 4s\n"
     ]
    }
   ],
   "source": [
    "%%time\n",
    "svc_clf = SVC(class_weight={1: fraud_weight, 0:1}, random_state=RANDOM_SEED)\n",
    "svc_pipeline = Pipeline(steps=[('scaler', scaler),\n",
    "                           ('clf', svc_clf)\n",
    "                          ]\n",
    "                    )\n",
    "# Unbiased estimate\n",
    "svc_scores = cost_factor*cross_val_score(svc_pipeline, X, y, scoring=custom_score, cv=cv_outer, n_jobs=-1)\n",
    "# summarize the estimated performance of the model\n",
    "print('Total Cost Estimate using SVC: %.3f (%.3f)' % (mean(svc_scores), std(svc_scores)))"
   ]
  },
  {
   "cell_type": "markdown",
   "metadata": {},
   "source": [
    "### <a id='5.3.5'>5.3.5 XGBoost Classifier</a>"
   ]
  },
  {
   "cell_type": "code",
   "execution_count": 43,
   "metadata": {},
   "outputs": [
    {
     "name": "stdout",
     "output_type": "stream",
     "text": [
      "Total Cost Estimate using XGBoost: -6436.380 (919.625)\n",
      "Wall time: 3min 30s\n"
     ]
    }
   ],
   "source": [
    "%%time\n",
    "xgb_clf = XGBClassifier(class_weight={1: fraud_weight, 0:1}, random_state=RANDOM_SEED)\n",
    "xgb_pipeline = Pipeline(steps=[('scaler', scaler),\n",
    "                           ('clf', xgb_clf)\n",
    "                          ]\n",
    "                    )\n",
    "# Unbiased estimate\n",
    "xgb_scores = cost_factor*cross_val_score(xgb_pipeline, X, y, scoring=custom_score, cv=cv_outer, n_jobs=-1)\n",
    "# summarize the estimated performance of the model\n",
    "print('Total Cost Estimate using XGBoost: %.3f (%.3f)' % (mean(xgb_scores), std(xgb_scores)))"
   ]
  },
  {
   "cell_type": "markdown",
   "metadata": {},
   "source": [
    "### <a id='5.3.6'>5.3.6 Random Forest</a>"
   ]
  },
  {
   "cell_type": "code",
   "execution_count": 44,
   "metadata": {},
   "outputs": [
    {
     "name": "stdout",
     "output_type": "stream",
     "text": [
      "Total Cost Estimate using Random Forest: -6739.010 (1094.811)\n",
      "Wall time: 5min 22s\n"
     ]
    }
   ],
   "source": [
    "%%time\n",
    "rf_clf = RandomForestClassifier(class_weight={1: fraud_weight, 0:1},random_state=RANDOM_SEED)\n",
    "rf_pipeline = Pipeline(steps=[('scaler', scaler),\n",
    "                           ('clf', rf_clf)\n",
    "                          ]\n",
    "                    )\n",
    "# Unbiased estimate\n",
    "rf_scores = cost_factor*cross_val_score(rf_pipeline, X, y, scoring=custom_score, cv=cv_outer, n_jobs=-1)\n",
    "# summarize the estimated performance of the model\n",
    "print('Total Cost Estimate using Random Forest: %.3f (%.3f)' % (mean(rf_scores), std(rf_scores)))"
   ]
  },
  {
   "cell_type": "markdown",
   "metadata": {
    "_cell_guid": "95d4caa9-21a1-4809-93c4-f5884f34c822",
    "_uuid": "3f2efde4-a7f4-4918-9652-5e24bdc55620"
   },
   "source": [
    "### <a id='5.3.7'>5.3.7 Simple Neural Network (Perceptron)</a>"
   ]
  },
  {
   "cell_type": "code",
   "execution_count": 45,
   "metadata": {},
   "outputs": [
    {
     "name": "stdout",
     "output_type": "stream",
     "text": [
      "Total Cost Estimate using Perceptron: -7652.998 (3633.280)\n",
      "Wall time: 2.58 s\n"
     ]
    }
   ],
   "source": [
    "%%time\n",
    "perc_clf = Perceptron(class_weight={1: fraud_weight, 0:1},random_state=RANDOM_SEED)\n",
    "perc_pipeline = Pipeline(steps=[('scaler', scaler),\n",
    "                           ('clf', perc_clf)\n",
    "                          ]\n",
    "                    )\n",
    "# Unbiased estimate\n",
    "perc_scores = cost_factor*cross_val_score(perc_pipeline, X, y, scoring=custom_score, cv=cv_outer, n_jobs=-1)\n",
    "# summarize the estimated performance of the model\n",
    "print('Total Cost Estimate using Perceptron: %.3f (%.3f)' % (mean(perc_scores), std(perc_scores)))"
   ]
  },
  {
   "cell_type": "markdown",
   "metadata": {},
   "source": [
    "### <a id='5.3.8'>5.3.8 K Nearest Neighbours </a>"
   ]
  },
  {
   "cell_type": "code",
   "execution_count": 46,
   "metadata": {},
   "outputs": [
    {
     "name": "stdout",
     "output_type": "stream",
     "text": [
      "Total Cost Estimate using kNN: -6621.629 (1022.811)\n",
      "Wall time: 4min 36s\n"
     ]
    }
   ],
   "source": [
    "%%time\n",
    "knn_clf = KNeighborsClassifier()\n",
    "knn_pipeline = Pipeline(steps=[('scaler', scaler),\n",
    "                           ('clf', knn_clf)\n",
    "                          ]\n",
    "                    )\n",
    "# Unbiased estimate\n",
    "knn_scores = cost_factor*cross_val_score(knn_pipeline, X, y, scoring=custom_score, cv=cv_outer, n_jobs=-1)\n",
    "# summarize the estimated performance of the model\n",
    "print('Total Cost Estimate using kNN: %.3f (%.3f)' % (mean(knn_scores), std(knn_scores)))"
   ]
  },
  {
   "cell_type": "markdown",
   "metadata": {},
   "source": [
    "### <a id='5.3.9'>5.3.9 AdaBoost</a>"
   ]
  },
  {
   "cell_type": "code",
   "execution_count": 47,
   "metadata": {},
   "outputs": [
    {
     "name": "stdout",
     "output_type": "stream",
     "text": [
      "Total Cost Estimate using AdaBoost: -8515.655 (674.184)\n",
      "Wall time: 1min 41s\n"
     ]
    }
   ],
   "source": [
    "%%time\n",
    "ada_clf = AdaBoostClassifier(random_state=RANDOM_SEED)\n",
    "ada_pipeline = Pipeline(steps=[('scaler', scaler),\n",
    "                           ('clf', ada_clf)\n",
    "                          ]\n",
    "                    )\n",
    "# Unbiased estimate\n",
    "ada_scores = cost_factor*cross_val_score(ada_pipeline, X, y, scoring=custom_score, cv=cv_outer, n_jobs=-1)\n",
    "# summarize the estimated performance of the model\n",
    "print('Total Cost Estimate using AdaBoost: %.3f (%.3f)' % (mean(ada_scores), std(ada_scores)))"
   ]
  },
  {
   "cell_type": "markdown",
   "metadata": {},
   "source": [
    "### <a id='5.3.10'>5.3.10 Hard Voting Classifier</a>"
   ]
  },
  {
   "cell_type": "code",
   "execution_count": 48,
   "metadata": {},
   "outputs": [
    {
     "name": "stdout",
     "output_type": "stream",
     "text": [
      "Total Cost Estimate using Hard Voting Classifier: -5589.594 (889.175)\n",
      "Wall time: 8min 20s\n"
     ]
    }
   ],
   "source": [
    "%%time\n",
    "p1 = lr_pipeline\n",
    "p2 = xgb_pipeline             \n",
    "p3 = knn_pipeline\n",
    "\n",
    "vc_pipeline = Pipeline([['clf3', VotingClassifier(estimators=[(\"p1\",p1), (\"p2\",p2), (\"p3\",p3)], voting='hard')]])\n",
    "# Unbiased estimate\n",
    "vc_scores = cost_factor*cross_val_score(vc_pipeline, X, y, scoring=custom_score, cv=cv_outer, n_jobs=-1)\n",
    "# summarize the estimated performance of the model\n",
    "print('Total Cost Estimate using Hard Voting Classifier: %.3f (%.3f)' % (mean(vc_scores), std(vc_scores)))"
   ]
  },
  {
   "cell_type": "markdown",
   "metadata": {},
   "source": [
    " ## <a id='5.4'>5.4 Model Summary</a>\n",
    " \n",
    " Below is the expected cost of fraud, per day, using each of the models.\n",
    " \n",
    "* No Model (€ 30,064)\n",
    "* Naive Bayes (€ 8,734)\n",
    "* Decision Tree (€ 8,746)\n",
    "* **Logistic Regression (€ 4,842)**\n",
    "* Support Vector Classifier (€ 7,027)\n",
    "* Xtreme Boosting Gradient (€ 6,436)\n",
    "* Random Forest (€ 6,739)\n",
    "* Simple Neural Network (€ 7,653)\n",
    "* K Nearest Neighbours (€ 6,622)\n",
    "* AdaBoost (€ 8,516)\n",
    "* Hard Voting Classifier - Logistic Regression, XGBoost, K Nearest Neighbours (€ 5,590)\n",
    "\n",
    "Logistic Regression wins out and reduces the cost of fraud per day from € 30,064 to € 4,842, a reduction of **84%**."
   ]
  },
  {
   "cell_type": "markdown",
   "metadata": {
    "_cell_guid": "6f2b5afd-1406-4a20-9ebd-e491d54a270d",
    "_uuid": "8adde4bc-299e-4b61-ad00-9acdef8d1cf7"
   },
   "source": [
    "# Acknowledgements\n",
    "\n",
    "In places, I have either used and modified snippets of code from the following notebooks or used them as motivation:\n",
    "\n",
    "* Preda, G. Credit Card Fraud Detection Predictive Models. Kaggle.com. https://www.kaggle.com/gpreda/credit-card-fraud-detection-predictive-models.\n",
    "\n",
    "* Teuwens, R. Precision vs. Recall: Optimizing Fraud Costs. Kaggle.com. https://www.kaggle.com/robinteuwens/precision-vs-recall-optimizing-fraud-costs.\n",
    "\n",
    "* Jee, K. Titanic Project Example. Kaggle.com. https://www.kaggle.com/kenjee/titanic-project-example."
   ]
  }
 ],
 "metadata": {
  "kernelspec": {
   "display_name": "Python 3",
   "language": "python",
   "name": "python3"
  },
  "language_info": {
   "codemirror_mode": {
    "name": "ipython",
    "version": 3
   },
   "file_extension": ".py",
   "mimetype": "text/x-python",
   "name": "python",
   "nbconvert_exporter": "python",
   "pygments_lexer": "ipython3",
   "version": "3.8.5"
  }
 },
 "nbformat": 4,
 "nbformat_minor": 4
}
