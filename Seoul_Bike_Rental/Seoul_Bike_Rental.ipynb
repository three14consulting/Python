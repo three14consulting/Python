{
 "cells": [
  {
   "cell_type": "markdown",
   "metadata": {
    "execution": {
     "iopub.execute_input": "2021-06-17T19:05:23.108262Z",
     "iopub.status.busy": "2021-06-17T19:05:23.107817Z",
     "iopub.status.idle": "2021-06-17T19:05:23.129769Z",
     "shell.execute_reply": "2021-06-17T19:05:23.128673Z",
     "shell.execute_reply.started": "2021-06-17T19:05:23.108169Z"
    }
   },
   "source": [
    "# <center>Regression: Predicting Bike Rental Demand</center>\n",
    "<center><img src=\"./images/seoul_bikes.jpg\" style=\"height: 350px;\"/></center>\n",
    "\n",
    "# <a id='0'>Contents of Project</a>\n",
    "<a href='#0.0'>Project Summary</a>\n",
    "- <a href='#1.0'>1. Dataset</a>\n",
    "    - <a href='#1.1'>1.1 Dataset Information</a>\n",
    "    - <a href='#1.2'>1.2 Attribute Information</a>\n",
    "    - <a href='#1.3'>1.3 Dataset Comments</a>\n",
    "    - <a href='#1.3'>1.4 Dataset Summary</a>\n",
    "- <a href='#2.0'>2. Problem Definition</a>\n",
    "- <a href='#3.0'>3. Exploratory Data Analysis</a>\n",
    "    - <a href='#3.1'>3.1 Data Preparation</a>\n",
    "    - <a href='#3.2'>3.2 Pearson Correlation Plot</a>\n",
    "        - <a href='#3.2.1'>3.2.1 Pearson Correlation Plot Observations</a>\n",
    "    - <a href='#3.3'>3.3 Boxplots</a>\n",
    "        - <a href='#3.3.1'>3.3.1 Boxplot Observations</a>\n",
    "    - <a href='#3.4'>3.4 Barcharts</a>\n",
    "        - <a href='#3.4.1'>3.4.1 Barchart Observations</a>\n",
    "    - <a href='#3.5'>3.5 Interactions</a>\n",
    "        - <a href='#3.5.1'>3.5.1 Weekday*Hour Observation</a>\n",
    "        - <a href='#3.5.2'>3.5.2 Holiday*Hour Observation</a>\n",
    "    - <a href='#3.6'>3.6 Conclusions from EDA</a>\n",
    "- <a href='#4.0'>4. Regression Modeling</a>\n",
    "    - <a href='#4.1'>4.1 Candidate Models</a>\n",
    "    - <a href='#4.2'>4.2 Modeling Setup</a>\n",
    "    - <a href='#4.3'>4.3 Multiple Linear Regression</a>\n",
    "    - <a href='#4.4'>4.4 Support Vector Regression</a>\n",
    "    - <a href='#4.5'>4.5 Decision Tree Regression</a>\n",
    "    - <a href='#4.6'>4.6 Ensemble Method Regression (Random Forest)</a>\n",
    "    - <a href='#4.7'>4.7 Neural Network Regression</a>\n",
    "    - <a href='#4.8'>4.8 Modeling Results</a>\n",
    "- <a href='#5.0'>5. Closing Comments</a>"
   ]
  },
  {
   "cell_type": "markdown",
   "metadata": {},
   "source": [
    "# <a id='0.0'> Project Summary</a>\n",
    "\n",
    "For this project, I use the 'Bike Sharing Demand' dataset from the UCI Machine Learning Repository (found [here](https://archive.ics.uci.edu/ml/datasets/Seoul+Bike+Sharing+Demand)) for the purposes of regression modeling. I consider 5 regression models, with some having hyperparameter tuning performed (via nested cross-validation). \n",
    "\n",
    "**The winning regressor is a Random Forest with a R2 score of ~0.85.**"
   ]
  },
  {
   "cell_type": "markdown",
   "metadata": {},
   "source": [
    "# <a id='1.0'>1. Dataset</a>"
   ]
  },
  {
   "cell_type": "markdown",
   "metadata": {},
   "source": [
    "## <a id='1.1'>1.1 Dataset Information</a>\n",
    "(from UCI Machine Learning Repository):\\\n",
    "*Currently Rental bikes are introduced in many urban cities for the enhancement of mobility comfort. It is important to make the rental bike available and accessible to the public at the right time as it lessens the waiting time. Eventually, providing the city with a stable supply of rental bikes becomes a major concern.* ***The crucial part is the prediction of bike count required at each hour for the stable supply of rental bikes.***\n",
    "\n",
    "*The dataset contains weather information (Temperature, Humidity, Windspeed, Visibility, Dewpoint, Solar radiation, Snowfall, Rainfall), the number of bikes rented per hour and date information.*\n",
    "\n",
    "## <a id='1.2'>1.2 Attribute Information</a>\n",
    "\n",
    "* Date : year-month-day\n",
    "* Rented Bike count - Count of bikes rented at each hour\n",
    "* Hour - Hour of he day\n",
    "* Temperature-Temperature in Celsius\n",
    "* Humidity - %\n",
    "* Windspeed - m/s\n",
    "* Visibility - 10m\n",
    "* Dew point temperature - Celsius\n",
    "* Solar radiation - MJ/m2\n",
    "* Rainfall - mm\n",
    "* Snowfall - cm\n",
    "* Seasons - Winter, Spring, Summer, Autumn\n",
    "* Holiday - Holiday/No holiday\n",
    "* Functional Day - NoFunc(Non Functional Hours), Fun(Functional hours)\n",
    "\n",
    "## <a id='1.3'>1.3 Dataset Comments</a>\n",
    "Since capacity is not known, the scope of the project is not to say if there should be more bikes or less (or indeed by how much) as the data that would help is not available (capacity % - not provided; would be users missing out on a bike - not collected).\\\n",
    "Therefore, the scope is to predict bike count at a specific time (depending on conditions)."
   ]
  },
  {
   "cell_type": "code",
   "execution_count": 1,
   "metadata": {
    "execution": {
     "iopub.execute_input": "2021-06-17T19:55:58.561183Z",
     "iopub.status.busy": "2021-06-17T19:55:58.560751Z",
     "iopub.status.idle": "2021-06-17T19:55:58.571645Z",
     "shell.execute_reply": "2021-06-17T19:55:58.570344Z",
     "shell.execute_reply.started": "2021-06-17T19:55:58.561089Z"
    }
   },
   "outputs": [],
   "source": [
    "import pandas as pd\n",
    "import numpy as np"
   ]
  },
  {
   "cell_type": "code",
   "execution_count": 2,
   "metadata": {
    "execution": {
     "iopub.execute_input": "2021-06-17T19:55:58.573129Z",
     "iopub.status.busy": "2021-06-17T19:55:58.572765Z",
     "iopub.status.idle": "2021-06-17T19:56:06.586993Z",
     "shell.execute_reply": "2021-06-17T19:56:06.586064Z",
     "shell.execute_reply.started": "2021-06-17T19:55:58.573092Z"
    }
   },
   "outputs": [
    {
     "name": "stdout",
     "output_type": "stream",
     "text": [
      "{'encoding': 'ISO-8859-1', 'confidence': 0.73, 'language': ''}\n"
     ]
    }
   ],
   "source": [
    "# Check encoding of dataset\n",
    "filename = './input/SeoulBikeData.csv'\n",
    "import chardet\n",
    "with open(filename, 'rb') as file:\n",
    "    print(chardet.detect(file.read()))"
   ]
  },
  {
   "cell_type": "code",
   "execution_count": 3,
   "metadata": {
    "execution": {
     "iopub.execute_input": "2021-06-17T19:56:06.588824Z",
     "iopub.status.busy": "2021-06-17T19:56:06.588536Z",
     "iopub.status.idle": "2021-06-17T19:56:06.614366Z",
     "shell.execute_reply": "2021-06-17T19:56:06.613304Z",
     "shell.execute_reply.started": "2021-06-17T19:56:06.588783Z"
    }
   },
   "outputs": [],
   "source": [
    "#Import into pandas df\n",
    "data_df = pd.read_csv(filename, encoding = 'ISO-8859-1')"
   ]
  },
  {
   "cell_type": "code",
   "execution_count": 4,
   "metadata": {
    "execution": {
     "iopub.execute_input": "2021-06-17T19:56:06.616304Z",
     "iopub.status.busy": "2021-06-17T19:56:06.616008Z",
     "iopub.status.idle": "2021-06-17T19:56:06.626398Z",
     "shell.execute_reply": "2021-06-17T19:56:06.625360Z",
     "shell.execute_reply.started": "2021-06-17T19:56:06.616274Z"
    }
   },
   "outputs": [
    {
     "data": {
      "text/plain": [
       "Date                          object\n",
       "Rented Bike Count              int64\n",
       "Hour                           int64\n",
       "Temperature(°C)              float64\n",
       "Humidity(%)                    int64\n",
       "Wind speed (m/s)             float64\n",
       "Visibility (10m)               int64\n",
       "Dew point temperature(°C)    float64\n",
       "Solar Radiation (MJ/m2)      float64\n",
       "Rainfall(mm)                 float64\n",
       "Snowfall (cm)                float64\n",
       "Seasons                       object\n",
       "Holiday                       object\n",
       "Functioning Day               object\n",
       "dtype: object"
      ]
     },
     "execution_count": 4,
     "metadata": {},
     "output_type": "execute_result"
    }
   ],
   "source": [
    "#check data types\n",
    "data_df.dtypes"
   ]
  },
  {
   "cell_type": "code",
   "execution_count": 5,
   "metadata": {
    "execution": {
     "iopub.execute_input": "2021-06-17T19:56:06.628180Z",
     "iopub.status.busy": "2021-06-17T19:56:06.627681Z",
     "iopub.status.idle": "2021-06-17T19:56:06.658520Z",
     "shell.execute_reply": "2021-06-17T19:56:06.657443Z",
     "shell.execute_reply.started": "2021-06-17T19:56:06.628142Z"
    }
   },
   "outputs": [
    {
     "data": {
      "text/html": [
       "<div>\n",
       "<style scoped>\n",
       "    .dataframe tbody tr th:only-of-type {\n",
       "        vertical-align: middle;\n",
       "    }\n",
       "\n",
       "    .dataframe tbody tr th {\n",
       "        vertical-align: top;\n",
       "    }\n",
       "\n",
       "    .dataframe thead th {\n",
       "        text-align: right;\n",
       "    }\n",
       "</style>\n",
       "<table border=\"1\" class=\"dataframe\">\n",
       "  <thead>\n",
       "    <tr style=\"text-align: right;\">\n",
       "      <th></th>\n",
       "      <th>Date</th>\n",
       "      <th>Rented Bike Count</th>\n",
       "      <th>Hour</th>\n",
       "      <th>Temperature(°C)</th>\n",
       "      <th>Humidity(%)</th>\n",
       "      <th>Wind speed (m/s)</th>\n",
       "      <th>Visibility (10m)</th>\n",
       "      <th>Dew point temperature(°C)</th>\n",
       "      <th>Solar Radiation (MJ/m2)</th>\n",
       "      <th>Rainfall(mm)</th>\n",
       "      <th>Snowfall (cm)</th>\n",
       "      <th>Seasons</th>\n",
       "      <th>Holiday</th>\n",
       "      <th>Functioning Day</th>\n",
       "    </tr>\n",
       "  </thead>\n",
       "  <tbody>\n",
       "    <tr>\n",
       "      <th>0</th>\n",
       "      <td>01/12/2017</td>\n",
       "      <td>254</td>\n",
       "      <td>0</td>\n",
       "      <td>-5.2</td>\n",
       "      <td>37</td>\n",
       "      <td>2.2</td>\n",
       "      <td>2000</td>\n",
       "      <td>-17.6</td>\n",
       "      <td>0.0</td>\n",
       "      <td>0.0</td>\n",
       "      <td>0.0</td>\n",
       "      <td>Winter</td>\n",
       "      <td>No Holiday</td>\n",
       "      <td>Yes</td>\n",
       "    </tr>\n",
       "    <tr>\n",
       "      <th>1</th>\n",
       "      <td>01/12/2017</td>\n",
       "      <td>204</td>\n",
       "      <td>1</td>\n",
       "      <td>-5.5</td>\n",
       "      <td>38</td>\n",
       "      <td>0.8</td>\n",
       "      <td>2000</td>\n",
       "      <td>-17.6</td>\n",
       "      <td>0.0</td>\n",
       "      <td>0.0</td>\n",
       "      <td>0.0</td>\n",
       "      <td>Winter</td>\n",
       "      <td>No Holiday</td>\n",
       "      <td>Yes</td>\n",
       "    </tr>\n",
       "    <tr>\n",
       "      <th>2</th>\n",
       "      <td>01/12/2017</td>\n",
       "      <td>173</td>\n",
       "      <td>2</td>\n",
       "      <td>-6.0</td>\n",
       "      <td>39</td>\n",
       "      <td>1.0</td>\n",
       "      <td>2000</td>\n",
       "      <td>-17.7</td>\n",
       "      <td>0.0</td>\n",
       "      <td>0.0</td>\n",
       "      <td>0.0</td>\n",
       "      <td>Winter</td>\n",
       "      <td>No Holiday</td>\n",
       "      <td>Yes</td>\n",
       "    </tr>\n",
       "    <tr>\n",
       "      <th>3</th>\n",
       "      <td>01/12/2017</td>\n",
       "      <td>107</td>\n",
       "      <td>3</td>\n",
       "      <td>-6.2</td>\n",
       "      <td>40</td>\n",
       "      <td>0.9</td>\n",
       "      <td>2000</td>\n",
       "      <td>-17.6</td>\n",
       "      <td>0.0</td>\n",
       "      <td>0.0</td>\n",
       "      <td>0.0</td>\n",
       "      <td>Winter</td>\n",
       "      <td>No Holiday</td>\n",
       "      <td>Yes</td>\n",
       "    </tr>\n",
       "    <tr>\n",
       "      <th>4</th>\n",
       "      <td>01/12/2017</td>\n",
       "      <td>78</td>\n",
       "      <td>4</td>\n",
       "      <td>-6.0</td>\n",
       "      <td>36</td>\n",
       "      <td>2.3</td>\n",
       "      <td>2000</td>\n",
       "      <td>-18.6</td>\n",
       "      <td>0.0</td>\n",
       "      <td>0.0</td>\n",
       "      <td>0.0</td>\n",
       "      <td>Winter</td>\n",
       "      <td>No Holiday</td>\n",
       "      <td>Yes</td>\n",
       "    </tr>\n",
       "  </tbody>\n",
       "</table>\n",
       "</div>"
      ],
      "text/plain": [
       "         Date  Rented Bike Count  Hour  Temperature(°C)  Humidity(%)  \\\n",
       "0  01/12/2017                254     0             -5.2           37   \n",
       "1  01/12/2017                204     1             -5.5           38   \n",
       "2  01/12/2017                173     2             -6.0           39   \n",
       "3  01/12/2017                107     3             -6.2           40   \n",
       "4  01/12/2017                 78     4             -6.0           36   \n",
       "\n",
       "   Wind speed (m/s)  Visibility (10m)  Dew point temperature(°C)  \\\n",
       "0               2.2              2000                      -17.6   \n",
       "1               0.8              2000                      -17.6   \n",
       "2               1.0              2000                      -17.7   \n",
       "3               0.9              2000                      -17.6   \n",
       "4               2.3              2000                      -18.6   \n",
       "\n",
       "   Solar Radiation (MJ/m2)  Rainfall(mm)  Snowfall (cm) Seasons     Holiday  \\\n",
       "0                      0.0           0.0            0.0  Winter  No Holiday   \n",
       "1                      0.0           0.0            0.0  Winter  No Holiday   \n",
       "2                      0.0           0.0            0.0  Winter  No Holiday   \n",
       "3                      0.0           0.0            0.0  Winter  No Holiday   \n",
       "4                      0.0           0.0            0.0  Winter  No Holiday   \n",
       "\n",
       "  Functioning Day  \n",
       "0             Yes  \n",
       "1             Yes  \n",
       "2             Yes  \n",
       "3             Yes  \n",
       "4             Yes  "
      ]
     },
     "execution_count": 5,
     "metadata": {},
     "output_type": "execute_result"
    }
   ],
   "source": [
    "data_df.head()"
   ]
  },
  {
   "cell_type": "code",
   "execution_count": 6,
   "metadata": {
    "execution": {
     "iopub.execute_input": "2021-06-17T19:56:06.660095Z",
     "iopub.status.busy": "2021-06-17T19:56:06.659762Z",
     "iopub.status.idle": "2021-06-17T19:56:06.685676Z",
     "shell.execute_reply": "2021-06-17T19:56:06.684644Z",
     "shell.execute_reply.started": "2021-06-17T19:56:06.660062Z"
    }
   },
   "outputs": [
    {
     "data": {
      "text/html": [
       "<div>\n",
       "<style scoped>\n",
       "    .dataframe tbody tr th:only-of-type {\n",
       "        vertical-align: middle;\n",
       "    }\n",
       "\n",
       "    .dataframe tbody tr th {\n",
       "        vertical-align: top;\n",
       "    }\n",
       "\n",
       "    .dataframe thead th {\n",
       "        text-align: right;\n",
       "    }\n",
       "</style>\n",
       "<table border=\"1\" class=\"dataframe\">\n",
       "  <thead>\n",
       "    <tr style=\"text-align: right;\">\n",
       "      <th></th>\n",
       "      <th>Date</th>\n",
       "      <th>Rented Bike Count</th>\n",
       "      <th>Hour</th>\n",
       "      <th>Temperature(°C)</th>\n",
       "      <th>Humidity(%)</th>\n",
       "      <th>Wind speed (m/s)</th>\n",
       "      <th>Visibility (10m)</th>\n",
       "      <th>Dew point temperature(°C)</th>\n",
       "      <th>Solar Radiation (MJ/m2)</th>\n",
       "      <th>Rainfall(mm)</th>\n",
       "      <th>Snowfall (cm)</th>\n",
       "      <th>Seasons</th>\n",
       "      <th>Holiday</th>\n",
       "      <th>Functioning Day</th>\n",
       "    </tr>\n",
       "  </thead>\n",
       "  <tbody>\n",
       "    <tr>\n",
       "      <th>8755</th>\n",
       "      <td>30/11/2018</td>\n",
       "      <td>1003</td>\n",
       "      <td>19</td>\n",
       "      <td>4.2</td>\n",
       "      <td>34</td>\n",
       "      <td>2.6</td>\n",
       "      <td>1894</td>\n",
       "      <td>-10.3</td>\n",
       "      <td>0.0</td>\n",
       "      <td>0.0</td>\n",
       "      <td>0.0</td>\n",
       "      <td>Autumn</td>\n",
       "      <td>No Holiday</td>\n",
       "      <td>Yes</td>\n",
       "    </tr>\n",
       "    <tr>\n",
       "      <th>8756</th>\n",
       "      <td>30/11/2018</td>\n",
       "      <td>764</td>\n",
       "      <td>20</td>\n",
       "      <td>3.4</td>\n",
       "      <td>37</td>\n",
       "      <td>2.3</td>\n",
       "      <td>2000</td>\n",
       "      <td>-9.9</td>\n",
       "      <td>0.0</td>\n",
       "      <td>0.0</td>\n",
       "      <td>0.0</td>\n",
       "      <td>Autumn</td>\n",
       "      <td>No Holiday</td>\n",
       "      <td>Yes</td>\n",
       "    </tr>\n",
       "    <tr>\n",
       "      <th>8757</th>\n",
       "      <td>30/11/2018</td>\n",
       "      <td>694</td>\n",
       "      <td>21</td>\n",
       "      <td>2.6</td>\n",
       "      <td>39</td>\n",
       "      <td>0.3</td>\n",
       "      <td>1968</td>\n",
       "      <td>-9.9</td>\n",
       "      <td>0.0</td>\n",
       "      <td>0.0</td>\n",
       "      <td>0.0</td>\n",
       "      <td>Autumn</td>\n",
       "      <td>No Holiday</td>\n",
       "      <td>Yes</td>\n",
       "    </tr>\n",
       "    <tr>\n",
       "      <th>8758</th>\n",
       "      <td>30/11/2018</td>\n",
       "      <td>712</td>\n",
       "      <td>22</td>\n",
       "      <td>2.1</td>\n",
       "      <td>41</td>\n",
       "      <td>1.0</td>\n",
       "      <td>1859</td>\n",
       "      <td>-9.8</td>\n",
       "      <td>0.0</td>\n",
       "      <td>0.0</td>\n",
       "      <td>0.0</td>\n",
       "      <td>Autumn</td>\n",
       "      <td>No Holiday</td>\n",
       "      <td>Yes</td>\n",
       "    </tr>\n",
       "    <tr>\n",
       "      <th>8759</th>\n",
       "      <td>30/11/2018</td>\n",
       "      <td>584</td>\n",
       "      <td>23</td>\n",
       "      <td>1.9</td>\n",
       "      <td>43</td>\n",
       "      <td>1.3</td>\n",
       "      <td>1909</td>\n",
       "      <td>-9.3</td>\n",
       "      <td>0.0</td>\n",
       "      <td>0.0</td>\n",
       "      <td>0.0</td>\n",
       "      <td>Autumn</td>\n",
       "      <td>No Holiday</td>\n",
       "      <td>Yes</td>\n",
       "    </tr>\n",
       "  </tbody>\n",
       "</table>\n",
       "</div>"
      ],
      "text/plain": [
       "            Date  Rented Bike Count  Hour  Temperature(°C)  Humidity(%)  \\\n",
       "8755  30/11/2018               1003    19              4.2           34   \n",
       "8756  30/11/2018                764    20              3.4           37   \n",
       "8757  30/11/2018                694    21              2.6           39   \n",
       "8758  30/11/2018                712    22              2.1           41   \n",
       "8759  30/11/2018                584    23              1.9           43   \n",
       "\n",
       "      Wind speed (m/s)  Visibility (10m)  Dew point temperature(°C)  \\\n",
       "8755               2.6              1894                      -10.3   \n",
       "8756               2.3              2000                       -9.9   \n",
       "8757               0.3              1968                       -9.9   \n",
       "8758               1.0              1859                       -9.8   \n",
       "8759               1.3              1909                       -9.3   \n",
       "\n",
       "      Solar Radiation (MJ/m2)  Rainfall(mm)  Snowfall (cm) Seasons  \\\n",
       "8755                      0.0           0.0            0.0  Autumn   \n",
       "8756                      0.0           0.0            0.0  Autumn   \n",
       "8757                      0.0           0.0            0.0  Autumn   \n",
       "8758                      0.0           0.0            0.0  Autumn   \n",
       "8759                      0.0           0.0            0.0  Autumn   \n",
       "\n",
       "         Holiday Functioning Day  \n",
       "8755  No Holiday             Yes  \n",
       "8756  No Holiday             Yes  \n",
       "8757  No Holiday             Yes  \n",
       "8758  No Holiday             Yes  \n",
       "8759  No Holiday             Yes  "
      ]
     },
     "execution_count": 6,
     "metadata": {},
     "output_type": "execute_result"
    }
   ],
   "source": [
    "data_df.tail()"
   ]
  },
  {
   "cell_type": "code",
   "execution_count": 7,
   "metadata": {
    "execution": {
     "iopub.execute_input": "2021-06-17T19:56:06.687329Z",
     "iopub.status.busy": "2021-06-17T19:56:06.687021Z",
     "iopub.status.idle": "2021-06-17T19:56:06.736610Z",
     "shell.execute_reply": "2021-06-17T19:56:06.735544Z",
     "shell.execute_reply.started": "2021-06-17T19:56:06.687300Z"
    }
   },
   "outputs": [
    {
     "data": {
      "text/html": [
       "<div>\n",
       "<style scoped>\n",
       "    .dataframe tbody tr th:only-of-type {\n",
       "        vertical-align: middle;\n",
       "    }\n",
       "\n",
       "    .dataframe tbody tr th {\n",
       "        vertical-align: top;\n",
       "    }\n",
       "\n",
       "    .dataframe thead th {\n",
       "        text-align: right;\n",
       "    }\n",
       "</style>\n",
       "<table border=\"1\" class=\"dataframe\">\n",
       "  <thead>\n",
       "    <tr style=\"text-align: right;\">\n",
       "      <th></th>\n",
       "      <th>Date</th>\n",
       "      <th>Rented Bike Count</th>\n",
       "      <th>Hour</th>\n",
       "      <th>Temperature(°C)</th>\n",
       "      <th>Humidity(%)</th>\n",
       "      <th>Wind speed (m/s)</th>\n",
       "      <th>Visibility (10m)</th>\n",
       "      <th>Dew point temperature(°C)</th>\n",
       "      <th>Solar Radiation (MJ/m2)</th>\n",
       "      <th>Rainfall(mm)</th>\n",
       "      <th>Snowfall (cm)</th>\n",
       "      <th>Seasons</th>\n",
       "      <th>Holiday</th>\n",
       "      <th>Functioning Day</th>\n",
       "    </tr>\n",
       "  </thead>\n",
       "  <tbody>\n",
       "    <tr>\n",
       "      <th>Total</th>\n",
       "      <td>0.0</td>\n",
       "      <td>0.0</td>\n",
       "      <td>0.0</td>\n",
       "      <td>0.0</td>\n",
       "      <td>0.0</td>\n",
       "      <td>0.0</td>\n",
       "      <td>0.0</td>\n",
       "      <td>0.0</td>\n",
       "      <td>0.0</td>\n",
       "      <td>0.0</td>\n",
       "      <td>0.0</td>\n",
       "      <td>0.0</td>\n",
       "      <td>0.0</td>\n",
       "      <td>0.0</td>\n",
       "    </tr>\n",
       "    <tr>\n",
       "      <th>Percent</th>\n",
       "      <td>0.0</td>\n",
       "      <td>0.0</td>\n",
       "      <td>0.0</td>\n",
       "      <td>0.0</td>\n",
       "      <td>0.0</td>\n",
       "      <td>0.0</td>\n",
       "      <td>0.0</td>\n",
       "      <td>0.0</td>\n",
       "      <td>0.0</td>\n",
       "      <td>0.0</td>\n",
       "      <td>0.0</td>\n",
       "      <td>0.0</td>\n",
       "      <td>0.0</td>\n",
       "      <td>0.0</td>\n",
       "    </tr>\n",
       "  </tbody>\n",
       "</table>\n",
       "</div>"
      ],
      "text/plain": [
       "         Date  Rented Bike Count  Hour  Temperature(°C)  Humidity(%)  \\\n",
       "Total     0.0                0.0   0.0              0.0          0.0   \n",
       "Percent   0.0                0.0   0.0              0.0          0.0   \n",
       "\n",
       "         Wind speed (m/s)  Visibility (10m)  Dew point temperature(°C)  \\\n",
       "Total                 0.0               0.0                        0.0   \n",
       "Percent               0.0               0.0                        0.0   \n",
       "\n",
       "         Solar Radiation (MJ/m2)  Rainfall(mm)  Snowfall (cm)  Seasons  \\\n",
       "Total                        0.0           0.0            0.0      0.0   \n",
       "Percent                      0.0           0.0            0.0      0.0   \n",
       "\n",
       "         Holiday  Functioning Day  \n",
       "Total        0.0              0.0  \n",
       "Percent      0.0              0.0  "
      ]
     },
     "execution_count": 7,
     "metadata": {},
     "output_type": "execute_result"
    }
   ],
   "source": [
    "# Null values - check (although documentation says no missing values)\n",
    "total = data_df.isnull().sum().sort_values(ascending = False)\n",
    "percent = (data_df.isnull().sum()/data_df.isnull().count()*100).sort_values(ascending = False)\n",
    "pd.concat([total, percent], axis=1, keys=['Total', 'Percent']).transpose()"
   ]
  },
  {
   "cell_type": "code",
   "execution_count": 8,
   "metadata": {
    "execution": {
     "iopub.execute_input": "2021-06-17T19:56:06.739617Z",
     "iopub.status.busy": "2021-06-17T19:56:06.739267Z",
     "iopub.status.idle": "2021-06-17T19:56:06.793614Z",
     "shell.execute_reply": "2021-06-17T19:56:06.792665Z",
     "shell.execute_reply.started": "2021-06-17T19:56:06.739578Z"
    }
   },
   "outputs": [
    {
     "data": {
      "text/html": [
       "<div>\n",
       "<style scoped>\n",
       "    .dataframe tbody tr th:only-of-type {\n",
       "        vertical-align: middle;\n",
       "    }\n",
       "\n",
       "    .dataframe tbody tr th {\n",
       "        vertical-align: top;\n",
       "    }\n",
       "\n",
       "    .dataframe thead th {\n",
       "        text-align: right;\n",
       "    }\n",
       "</style>\n",
       "<table border=\"1\" class=\"dataframe\">\n",
       "  <thead>\n",
       "    <tr style=\"text-align: right;\">\n",
       "      <th></th>\n",
       "      <th>count</th>\n",
       "      <th>mean</th>\n",
       "      <th>std</th>\n",
       "      <th>min</th>\n",
       "      <th>25%</th>\n",
       "      <th>50%</th>\n",
       "      <th>75%</th>\n",
       "      <th>max</th>\n",
       "    </tr>\n",
       "  </thead>\n",
       "  <tbody>\n",
       "    <tr>\n",
       "      <th>Rented Bike Count</th>\n",
       "      <td>8760.0</td>\n",
       "      <td>704.602055</td>\n",
       "      <td>644.997468</td>\n",
       "      <td>0.0</td>\n",
       "      <td>191.00</td>\n",
       "      <td>504.50</td>\n",
       "      <td>1065.25</td>\n",
       "      <td>3556.00</td>\n",
       "    </tr>\n",
       "    <tr>\n",
       "      <th>Hour</th>\n",
       "      <td>8760.0</td>\n",
       "      <td>11.500000</td>\n",
       "      <td>6.922582</td>\n",
       "      <td>0.0</td>\n",
       "      <td>5.75</td>\n",
       "      <td>11.50</td>\n",
       "      <td>17.25</td>\n",
       "      <td>23.00</td>\n",
       "    </tr>\n",
       "    <tr>\n",
       "      <th>Temperature(°C)</th>\n",
       "      <td>8760.0</td>\n",
       "      <td>12.882922</td>\n",
       "      <td>11.944825</td>\n",
       "      <td>-17.8</td>\n",
       "      <td>3.50</td>\n",
       "      <td>13.70</td>\n",
       "      <td>22.50</td>\n",
       "      <td>39.40</td>\n",
       "    </tr>\n",
       "    <tr>\n",
       "      <th>Humidity(%)</th>\n",
       "      <td>8760.0</td>\n",
       "      <td>58.226256</td>\n",
       "      <td>20.362413</td>\n",
       "      <td>0.0</td>\n",
       "      <td>42.00</td>\n",
       "      <td>57.00</td>\n",
       "      <td>74.00</td>\n",
       "      <td>98.00</td>\n",
       "    </tr>\n",
       "    <tr>\n",
       "      <th>Wind speed (m/s)</th>\n",
       "      <td>8760.0</td>\n",
       "      <td>1.724909</td>\n",
       "      <td>1.036300</td>\n",
       "      <td>0.0</td>\n",
       "      <td>0.90</td>\n",
       "      <td>1.50</td>\n",
       "      <td>2.30</td>\n",
       "      <td>7.40</td>\n",
       "    </tr>\n",
       "    <tr>\n",
       "      <th>Visibility (10m)</th>\n",
       "      <td>8760.0</td>\n",
       "      <td>1436.825799</td>\n",
       "      <td>608.298712</td>\n",
       "      <td>27.0</td>\n",
       "      <td>940.00</td>\n",
       "      <td>1698.00</td>\n",
       "      <td>2000.00</td>\n",
       "      <td>2000.00</td>\n",
       "    </tr>\n",
       "    <tr>\n",
       "      <th>Dew point temperature(°C)</th>\n",
       "      <td>8760.0</td>\n",
       "      <td>4.073813</td>\n",
       "      <td>13.060369</td>\n",
       "      <td>-30.6</td>\n",
       "      <td>-4.70</td>\n",
       "      <td>5.10</td>\n",
       "      <td>14.80</td>\n",
       "      <td>27.20</td>\n",
       "    </tr>\n",
       "    <tr>\n",
       "      <th>Solar Radiation (MJ/m2)</th>\n",
       "      <td>8760.0</td>\n",
       "      <td>0.569111</td>\n",
       "      <td>0.868746</td>\n",
       "      <td>0.0</td>\n",
       "      <td>0.00</td>\n",
       "      <td>0.01</td>\n",
       "      <td>0.93</td>\n",
       "      <td>3.52</td>\n",
       "    </tr>\n",
       "    <tr>\n",
       "      <th>Rainfall(mm)</th>\n",
       "      <td>8760.0</td>\n",
       "      <td>0.148687</td>\n",
       "      <td>1.128193</td>\n",
       "      <td>0.0</td>\n",
       "      <td>0.00</td>\n",
       "      <td>0.00</td>\n",
       "      <td>0.00</td>\n",
       "      <td>35.00</td>\n",
       "    </tr>\n",
       "    <tr>\n",
       "      <th>Snowfall (cm)</th>\n",
       "      <td>8760.0</td>\n",
       "      <td>0.075068</td>\n",
       "      <td>0.436746</td>\n",
       "      <td>0.0</td>\n",
       "      <td>0.00</td>\n",
       "      <td>0.00</td>\n",
       "      <td>0.00</td>\n",
       "      <td>8.80</td>\n",
       "    </tr>\n",
       "  </tbody>\n",
       "</table>\n",
       "</div>"
      ],
      "text/plain": [
       "                            count         mean         std   min     25%  \\\n",
       "Rented Bike Count          8760.0   704.602055  644.997468   0.0  191.00   \n",
       "Hour                       8760.0    11.500000    6.922582   0.0    5.75   \n",
       "Temperature(°C)            8760.0    12.882922   11.944825 -17.8    3.50   \n",
       "Humidity(%)                8760.0    58.226256   20.362413   0.0   42.00   \n",
       "Wind speed (m/s)           8760.0     1.724909    1.036300   0.0    0.90   \n",
       "Visibility (10m)           8760.0  1436.825799  608.298712  27.0  940.00   \n",
       "Dew point temperature(°C)  8760.0     4.073813   13.060369 -30.6   -4.70   \n",
       "Solar Radiation (MJ/m2)    8760.0     0.569111    0.868746   0.0    0.00   \n",
       "Rainfall(mm)               8760.0     0.148687    1.128193   0.0    0.00   \n",
       "Snowfall (cm)              8760.0     0.075068    0.436746   0.0    0.00   \n",
       "\n",
       "                               50%      75%      max  \n",
       "Rented Bike Count           504.50  1065.25  3556.00  \n",
       "Hour                         11.50    17.25    23.00  \n",
       "Temperature(°C)              13.70    22.50    39.40  \n",
       "Humidity(%)                  57.00    74.00    98.00  \n",
       "Wind speed (m/s)              1.50     2.30     7.40  \n",
       "Visibility (10m)           1698.00  2000.00  2000.00  \n",
       "Dew point temperature(°C)     5.10    14.80    27.20  \n",
       "Solar Radiation (MJ/m2)       0.01     0.93     3.52  \n",
       "Rainfall(mm)                  0.00     0.00    35.00  \n",
       "Snowfall (cm)                 0.00     0.00     8.80  "
      ]
     },
     "execution_count": 8,
     "metadata": {},
     "output_type": "execute_result"
    }
   ],
   "source": [
    "# Summary stats on dataframe\n",
    "data_df.describe().T"
   ]
  },
  {
   "cell_type": "markdown",
   "metadata": {},
   "source": [
    "## <a id='1.4'>1.4 Dataset Summary</a>\n",
    "* 14 Columns\n",
    "* 8,760 Observations (24 hours * 365 days)\n",
    "* No \"missing values\", however, minimum of Rented Bike Count is 0 (related to non-functional hours)\n",
    "\n",
    "On this last point, it is unclear if bikes couldn't be, and therefore weren't, rented or if recording of data was not collected."
   ]
  },
  {
   "cell_type": "markdown",
   "metadata": {},
   "source": [
    "# <a id='2.0'>2. Problem Definition</a>\n",
    "**The prediction of bike count required at each hour for the stable supply of rental bikes.**"
   ]
  },
  {
   "cell_type": "markdown",
   "metadata": {},
   "source": [
    "# <a id='3.0'>3. Exploratory Data Analysis</a>"
   ]
  },
  {
   "cell_type": "markdown",
   "metadata": {},
   "source": [
    "## <a id='3.1'>3.1 Data Preparation</a>"
   ]
  },
  {
   "cell_type": "code",
   "execution_count": 9,
   "metadata": {
    "execution": {
     "iopub.execute_input": "2021-06-17T19:56:06.795835Z",
     "iopub.status.busy": "2021-06-17T19:56:06.795410Z",
     "iopub.status.idle": "2021-06-17T19:56:06.915783Z",
     "shell.execute_reply": "2021-06-17T19:56:06.914675Z",
     "shell.execute_reply.started": "2021-06-17T19:56:06.795788Z"
    }
   },
   "outputs": [],
   "source": [
    "# Convert Date from String to Dateobject\n",
    "from datetime import datetime\n",
    "data_df['Date'] = list(map(lambda x: datetime.strptime(x,'%d/%m/%Y').date(), data_df['Date']))"
   ]
  },
  {
   "cell_type": "code",
   "execution_count": 10,
   "metadata": {
    "execution": {
     "iopub.execute_input": "2021-06-17T19:56:06.917375Z",
     "iopub.status.busy": "2021-06-17T19:56:06.917068Z",
     "iopub.status.idle": "2021-06-17T19:56:06.924501Z",
     "shell.execute_reply": "2021-06-17T19:56:06.923357Z",
     "shell.execute_reply.started": "2021-06-17T19:56:06.917343Z"
    }
   },
   "outputs": [],
   "source": [
    "# Rename columns\n",
    "data_df.rename(columns={'Date':'date',\n",
    "                       'Rented Bike Count':'bike_ct',\n",
    "                       'Hour':'hour',\n",
    "                       'Temperature(°C)':'temperature',\n",
    "                       'Humidity(%)':'humidity',\n",
    "                       'Wind speed (m/s)':'wind_speed',\n",
    "                       'Visibility (10m)':'visibility',\n",
    "                       'Dew point temperature(°C)':'dew_point',\n",
    "                       'Solar Radiation (MJ/m2)':'solar_radiation',\n",
    "                       'Rainfall(mm)':'rainfall',\n",
    "                       'Snowfall (cm)':'snowfall',\n",
    "                       'Seasons':'season',\n",
    "                       'Holiday':'holiday',\n",
    "                       'Functioning Day':'functioning_day',\n",
    "                       'Datetime':'datetime'},inplace=True)"
   ]
  },
  {
   "cell_type": "code",
   "execution_count": 11,
   "metadata": {
    "execution": {
     "iopub.execute_input": "2021-06-17T19:56:06.925931Z",
     "iopub.status.busy": "2021-06-17T19:56:06.925618Z",
     "iopub.status.idle": "2021-06-17T19:56:06.944361Z",
     "shell.execute_reply": "2021-06-17T19:56:06.943109Z",
     "shell.execute_reply.started": "2021-06-17T19:56:06.925901Z"
    }
   },
   "outputs": [],
   "source": [
    "# Sort dataset\n",
    "data_df.sort_values(by=['date','hour'], inplace=True)"
   ]
  },
  {
   "cell_type": "code",
   "execution_count": 12,
   "metadata": {
    "execution": {
     "iopub.execute_input": "2021-06-17T19:56:06.946149Z",
     "iopub.status.busy": "2021-06-17T19:56:06.945682Z",
     "iopub.status.idle": "2021-06-17T19:56:07.104928Z",
     "shell.execute_reply": "2021-06-17T19:56:07.104131Z",
     "shell.execute_reply.started": "2021-06-17T19:56:06.946078Z"
    }
   },
   "outputs": [],
   "source": [
    "# Create a single column with date and time as a datetime object\n",
    "data_df['datetime'] = data_df['date'].astype(str) + ' ' + data_df['hour'].astype(str).apply(lambda x: x.zfill(2))\n",
    "data_df['datetime'] = list(map(lambda x: datetime.strptime(x,'%Y-%m-%d %H'), data_df['datetime']))"
   ]
  },
  {
   "cell_type": "code",
   "execution_count": 13,
   "metadata": {
    "execution": {
     "iopub.execute_input": "2021-06-17T19:56:07.106556Z",
     "iopub.status.busy": "2021-06-17T19:56:07.106101Z",
     "iopub.status.idle": "2021-06-17T19:56:07.165200Z",
     "shell.execute_reply": "2021-06-17T19:56:07.164444Z",
     "shell.execute_reply.started": "2021-06-17T19:56:07.106510Z"
    }
   },
   "outputs": [],
   "source": [
    "# Weekday\n",
    "from datetime import date\n",
    "data_df['weekday'] = list(map(lambda x: int(date.weekday(x) in (0,1,2,3,4)), data_df['date']))\n",
    "# Day of Week\n",
    "data_df['day_of_week'] = list(map(lambda x: int(date.weekday(x)), data_df['date']))\n",
    "# Month\n",
    "data_df['month'] = list(map(lambda x: int(x.strftime('%m')), data_df['date']))"
   ]
  },
  {
   "cell_type": "markdown",
   "metadata": {},
   "source": [
    "## <a id='3.2'>3.2 Pearson Correlation Plot</a>"
   ]
  },
  {
   "cell_type": "code",
   "execution_count": 14,
   "metadata": {
    "execution": {
     "iopub.execute_input": "2021-06-17T19:56:07.166674Z",
     "iopub.status.busy": "2021-06-17T19:56:07.166263Z",
     "iopub.status.idle": "2021-06-17T19:56:08.232689Z",
     "shell.execute_reply": "2021-06-17T19:56:08.231710Z",
     "shell.execute_reply.started": "2021-06-17T19:56:07.166631Z"
    }
   },
   "outputs": [
    {
     "data": {
      "image/png": "[encoded data removed]",
      "text/plain": [
       "<Figure size 720x720 with 2 Axes>"
      ]
     },
     "metadata": {
      "needs_background": "light"
     },
     "output_type": "display_data"
    }
   ],
   "source": [
    "pearson_vars = ['bike_ct','temperature','humidity','wind_speed','visibility','dew_point','solar_radiation','rainfall','snowfall']\n",
    "pearson_df = data_df[pearson_vars]\n",
    "\n",
    "import seaborn as sns\n",
    "import matplotlib.pyplot as plt\n",
    "\n",
    "plt.figure(figsize=(10,10))\n",
    "sns.heatmap(pearson_df.corr(\"pearson\"),\n",
    "            vmin=-1, vmax=1,\n",
    "            cmap='vlag',\n",
    "            annot=True, \n",
    "            square=True);"
   ]
  },
  {
   "cell_type": "markdown",
   "metadata": {},
   "source": [
    "### <a id='3.2.1'>3.2.1 Pearson Correlation Plot Observations</a>\n",
    "* Dewpoint and Temperature clearly correlated\n",
    "* Humidity borderline correlated with Dew Point (positively) and Visibility (inversely)"
   ]
  },
  {
   "cell_type": "markdown",
   "metadata": {},
   "source": [
    "## <a id='3.3'>3.3 Boxplots</a>"
   ]
  },
  {
   "cell_type": "code",
   "execution_count": 15,
   "metadata": {
    "execution": {
     "iopub.execute_input": "2021-06-17T19:56:08.234843Z",
     "iopub.status.busy": "2021-06-17T19:56:08.234263Z",
     "iopub.status.idle": "2021-06-17T19:56:09.235873Z",
     "shell.execute_reply": "2021-06-17T19:56:09.234730Z",
     "shell.execute_reply.started": "2021-06-17T19:56:08.234779Z"
    }
   },
   "outputs": [
    {
     "data": {
      "text/plain": [
       "<Figure size 432x288 with 0 Axes>"
      ]
     },
     "metadata": {},
     "output_type": "display_data"
    },
    {
     "data": {
      "image/png": "[encoded data removed]",
      "text/plain": [
       "<Figure size 1440x1440 with 4 Axes>"
      ]
     },
     "metadata": {},
     "output_type": "display_data"
    }
   ],
   "source": [
    "boxplot_vars = ['weekday','season','holiday','bike_ct','day_of_week']\n",
    "boxplot_df = data_df[boxplot_vars]\n",
    "\n",
    "sns.set_style('whitegrid')\n",
    "plt.figure()\n",
    "fig, ax = plt.subplots(2,2,figsize=(20,20))\n",
    "i=0\n",
    "for var in ['weekday','season','holiday','day_of_week']:\n",
    "    i += 1\n",
    "    plt.subplot(2,2,i)\n",
    "    sns.boxplot(x=var, y='bike_ct', data=boxplot_df)\n",
    "plt.show()"
   ]
  },
  {
   "cell_type": "markdown",
   "metadata": {},
   "source": [
    "### <a id='3.3.1'>3.3.1 Boxplot Observations</a>\n",
    "* Not much difference between the medians of Weekday vs Weekend (I expect their means to be different as Weekday has more extreme values than Weekends)\n",
    "* Demand follows the seasons (correlated to more favourable temperatures for cycling).\n",
    "* A noticeable difference between demand on a Non-Holiday day vs a Holiday day.\n",
    "* Sunday shows lowest demand.\n",
    "\n",
    "The first observation and last observation suggests bike demand for commuting purposes. A plot of demand vs hour of day will confirm this."
   ]
  },
  {
   "cell_type": "markdown",
   "metadata": {},
   "source": [
    "## <a id='3.4'>3.4 Barcharts</a>"
   ]
  },
  {
   "cell_type": "code",
   "execution_count": 16,
   "metadata": {
    "execution": {
     "iopub.execute_input": "2021-06-17T19:56:09.237738Z",
     "iopub.status.busy": "2021-06-17T19:56:09.237333Z",
     "iopub.status.idle": "2021-06-17T19:56:11.939217Z",
     "shell.execute_reply": "2021-06-17T19:56:11.938147Z",
     "shell.execute_reply.started": "2021-06-17T19:56:09.237693Z"
    }
   },
   "outputs": [
    {
     "data": {
      "image/png": "[encoded data removed]",
      "text/plain": [
       "<Figure size 1440x720 with 2 Axes>"
      ]
     },
     "metadata": {},
     "output_type": "display_data"
    }
   ],
   "source": [
    "barchart_vars = ['hour','month','season','bike_ct']\n",
    "barchart_df = data_df[barchart_vars]\n",
    "\n",
    "sns.set_style('whitegrid')\n",
    "fig, ax = plt.subplots(2, 1, figsize=(20,10))\n",
    "\n",
    "# Month\n",
    "sns.barplot(data=barchart_df,\n",
    "            ax = ax[0],\n",
    "            x='month',\n",
    "            y='bike_ct',\n",
    "            hue='season'\n",
    "               );\n",
    "# Day\n",
    "sns.barplot(data=barchart_df,\n",
    "            ax = ax[1],\n",
    "            x='hour',\n",
    "            y='bike_ct',\n",
    "            color = 'lightblue'\n",
    "               );"
   ]
  },
  {
   "cell_type": "markdown",
   "metadata": {},
   "source": [
    "### <a id='3.4.1'>3.4.1 Barchart Observations</a>\n",
    "* Hourly barchart confirms demand peaks twice-a-day, specifically around 8am and 6pm (going-to-work, coming-home-from-work).\n",
    "\n",
    "Investigate if there are two interactions: 1) Weekday\\*Hour and Bike Count 2) Holiday\\*Hour and Bike Count."
   ]
  },
  {
   "cell_type": "markdown",
   "metadata": {},
   "source": [
    "## <a id='3.5'>3.5 Interactions</a>"
   ]
  },
  {
   "cell_type": "code",
   "execution_count": 17,
   "metadata": {
    "execution": {
     "iopub.execute_input": "2021-06-17T19:56:11.940648Z",
     "iopub.status.busy": "2021-06-17T19:56:11.940371Z",
     "iopub.status.idle": "2021-06-17T19:56:14.425213Z",
     "shell.execute_reply": "2021-06-17T19:56:14.424211Z",
     "shell.execute_reply.started": "2021-06-17T19:56:11.940619Z"
    }
   },
   "outputs": [
    {
     "data": {
      "image/png": "[encoded data removed]",
      "text/plain": [
       "<Figure size 1440x720 with 1 Axes>"
      ]
     },
     "metadata": {},
     "output_type": "display_data"
    }
   ],
   "source": [
    "int1_vars = ['weekday','hour','bike_ct']\n",
    "int1_df = data_df[int1_vars]\n",
    "\n",
    "f = plt.figure()\n",
    "f.set_figwidth(20)\n",
    "f.set_figheight(10)\n",
    "sns.barplot(data=int1_df,\n",
    "            x='hour',\n",
    "            y='bike_ct',\n",
    "            hue = 'weekday'\n",
    "               );"
   ]
  },
  {
   "cell_type": "markdown",
   "metadata": {},
   "source": [
    "### <a id='3.5.1'>3.5.1 Weekday*Hour Observation</a>\n",
    "* For weekdays, hours 5am to 9am and 6pm to 11pm, show more demand than weekends."
   ]
  },
  {
   "cell_type": "code",
   "execution_count": 18,
   "metadata": {
    "execution": {
     "iopub.execute_input": "2021-06-17T19:56:14.426704Z",
     "iopub.status.busy": "2021-06-17T19:56:14.426434Z",
     "iopub.status.idle": "2021-06-17T19:56:16.900699Z",
     "shell.execute_reply": "2021-06-17T19:56:16.899923Z",
     "shell.execute_reply.started": "2021-06-17T19:56:14.426677Z"
    }
   },
   "outputs": [
    {
     "data": {
      "image/png": "[encoded data removed]",
      "text/plain": [
       "<Figure size 1440x720 with 1 Axes>"
      ]
     },
     "metadata": {},
     "output_type": "display_data"
    }
   ],
   "source": [
    "int2_vars = ['holiday','hour','bike_ct']\n",
    "int2_df = data_df[int2_vars]\n",
    "\n",
    "f = plt.figure()\n",
    "f.set_figwidth(20)\n",
    "f.set_figheight(10)\n",
    "sns.barplot(data=int2_df,\n",
    "            x='hour',\n",
    "            y='bike_ct',\n",
    "            hue = 'holiday'\n",
    "               );"
   ]
  },
  {
   "cell_type": "markdown",
   "metadata": {},
   "source": [
    "### <a id='3.5.2'>3.5.2 Holiday*Hour Observation</a>\n",
    "* With the exception of 2am and 3am, holiday days show lower demand at all hours compared to non-holiday days."
   ]
  },
  {
   "cell_type": "code",
   "execution_count": 19,
   "metadata": {
    "execution": {
     "iopub.execute_input": "2021-06-17T19:56:16.902081Z",
     "iopub.status.busy": "2021-06-17T19:56:16.901691Z",
     "iopub.status.idle": "2021-06-17T19:56:16.916592Z",
     "shell.execute_reply": "2021-06-17T19:56:16.915441Z",
     "shell.execute_reply.started": "2021-06-17T19:56:16.902051Z"
    }
   },
   "outputs": [],
   "source": [
    "# Interactions\n",
    "data_df['weekday_hour'] = data_df['weekday'] * data_df['hour']\n",
    "data_df['holiday'] = list(map(lambda x: int(x=='Holiday'), data_df['holiday']))\n",
    "data_df['holiday_hour'] = data_df['holiday'] * data_df['hour']"
   ]
  },
  {
   "cell_type": "markdown",
   "metadata": {},
   "source": [
    "## <a id='3.6'>3.6 Conclusions from EDA</a>\n",
    "\n",
    "* Temperature and Dew Point are highly correlated (this will need to be accounted for when building a regression model)\n",
    "* Average demand is higher on weekdays compared to weekends\n",
    "* Holidays see lower demand on average compared to non-Holiday days\n",
    "* Temperature (and therefore Season) plays a factor in demand, higher the temperature, greater the demand\n",
    "* Demand is higher around 8am and 6pm for purposes of commuting\n",
    "* Rentals are zero on non functioning days\n",
    "* Possible interaction effects influencing rentals 1) weekday * hour and 2) holiday * hour"
   ]
  },
  {
   "cell_type": "markdown",
   "metadata": {},
   "source": [
    "# <a id='4.0'>4. Regression Modeling</a>"
   ]
  },
  {
   "cell_type": "markdown",
   "metadata": {},
   "source": [
    "## <a id='4.1'>4.1 Candidate Models</a>\n",
    "\n",
    "To predict the bike count I shall use the following models as candidates:\n",
    "* Multiple Linear Regression\n",
    "* Support Vector Regression\n",
    "* Decision Tree Regression\n",
    "* Ensemble Method Regression\n",
    "* Neural Network Regression"
   ]
  },
  {
   "cell_type": "markdown",
   "metadata": {},
   "source": [
    "## <a id='4.2'>4.2 Modeling Setup</a>"
   ]
  },
  {
   "cell_type": "code",
   "execution_count": 20,
   "metadata": {
    "execution": {
     "iopub.execute_input": "2021-06-17T19:56:16.918832Z",
     "iopub.status.busy": "2021-06-17T19:56:16.918195Z",
     "iopub.status.idle": "2021-06-17T19:56:17.172555Z",
     "shell.execute_reply": "2021-06-17T19:56:17.171530Z",
     "shell.execute_reply.started": "2021-06-17T19:56:16.918755Z"
    }
   },
   "outputs": [],
   "source": [
    "from sklearn import linear_model, svm\n",
    "from sklearn.feature_selection import RFECV\n",
    "from sklearn.tree import DecisionTreeRegressor\n",
    "from sklearn.pipeline import Pipeline\n",
    "from sklearn.model_selection import KFold, RepeatedKFold, GridSearchCV, train_test_split, cross_val_score\n",
    "from sklearn.metrics import mean_squared_error, r2_score\n",
    "from sklearn.preprocessing import StandardScaler\n",
    "from sklearn.ensemble import RandomForestRegressor\n",
    "from sklearn.neural_network import MLPRegressor\n",
    "from numpy import mean, std, sqrt\n",
    "RANDOM_SEED = 42"
   ]
  },
  {
   "cell_type": "code",
   "execution_count": 21,
   "metadata": {
    "execution": {
     "iopub.execute_input": "2021-06-17T19:56:17.174398Z",
     "iopub.status.busy": "2021-06-17T19:56:17.173991Z",
     "iopub.status.idle": "2021-06-17T19:56:17.182501Z",
     "shell.execute_reply": "2021-06-17T19:56:17.181278Z",
     "shell.execute_reply.started": "2021-06-17T19:56:17.174355Z"
    }
   },
   "outputs": [],
   "source": [
    "X = data_df.drop(columns=['bike_ct','functioning_day','date','season','datetime','dew_point'],axis=1)\n",
    "Y = data_df['bike_ct']"
   ]
  },
  {
   "cell_type": "code",
   "execution_count": 22,
   "metadata": {
    "execution": {
     "iopub.execute_input": "2021-06-17T19:56:17.184137Z",
     "iopub.status.busy": "2021-06-17T19:56:17.183739Z",
     "iopub.status.idle": "2021-06-17T19:56:17.196744Z",
     "shell.execute_reply": "2021-06-17T19:56:17.195831Z",
     "shell.execute_reply.started": "2021-06-17T19:56:17.184105Z"
    }
   },
   "outputs": [],
   "source": [
    "# Regression Results Dictionary\n",
    "results_df = pd.DataFrame(columns=['Regressor','R2 Score','RMSE'])"
   ]
  },
  {
   "cell_type": "code",
   "execution_count": 23,
   "metadata": {
    "execution": {
     "iopub.execute_input": "2021-06-17T19:56:17.200940Z",
     "iopub.status.busy": "2021-06-17T19:56:17.200480Z",
     "iopub.status.idle": "2021-06-17T19:56:17.208831Z",
     "shell.execute_reply": "2021-06-17T19:56:17.207895Z",
     "shell.execute_reply.started": "2021-06-17T19:56:17.200903Z"
    }
   },
   "outputs": [],
   "source": [
    "N_OUTER_SLPITS = 5\n",
    "N_REPEATS = 3\n",
    "# cv_outer = RepeatedKFold(n_splits=N_OUTER_SLPITS, n_repeats=N_REPEATS, random_state=RANDOM_SEED)\n",
    "cv_outer = KFold(n_splits=N_OUTER_SLPITS, shuffle=True, random_state=RANDOM_SEED)"
   ]
  },
  {
   "cell_type": "markdown",
   "metadata": {},
   "source": [
    "## <a id='4.3'>4.3 Multiple Linear Regression</a>"
   ]
  },
  {
   "cell_type": "code",
   "execution_count": 24,
   "metadata": {
    "execution": {
     "iopub.execute_input": "2021-06-17T19:56:17.211128Z",
     "iopub.status.busy": "2021-06-17T19:56:17.210723Z",
     "iopub.status.idle": "2021-06-17T19:56:25.515892Z",
     "shell.execute_reply": "2021-06-17T19:56:25.514591Z",
     "shell.execute_reply.started": "2021-06-17T19:56:17.211091Z"
    }
   },
   "outputs": [
    {
     "name": "stdout",
     "output_type": "stream",
     "text": [
      "CV RMSE score: 469.212 (8.544)\n",
      "Test-set RMSE score: 472.468\n",
      "Test-set R2 score: 0.464\n",
      "CPU times: user 2.21 s, sys: 84.1 ms, total: 2.3 s\n",
      "Wall time: 8.29 s\n"
     ]
    }
   ],
   "source": [
    "%%time\n",
    "X_train, X_test, Y_train, Y_test = train_test_split(X, Y, test_size=0.2, random_state=RANDOM_SEED)\n",
    "# Add RFE\n",
    "rfecv = RFECV(estimator=DecisionTreeRegressor())\n",
    "model = linear_model.LinearRegression(fit_intercept=False)\n",
    "pipeline = Pipeline(steps=[('s',rfecv),('m',model)])\n",
    "# evaluate model\n",
    "n_scores = cross_val_score(pipeline, X_train, Y_train, scoring='neg_root_mean_squared_error', cv=cv_outer, n_jobs=-1, error_score='raise')\n",
    "# report performance\n",
    "print('CV RMSE score: %.3f (%.3f)' % (mean(n_scores)*-1, std(n_scores)))\n",
    "\n",
    "pipeline.fit(X_train,Y_train)\n",
    "Y_mlr_hat = pipeline.predict(X_test)\n",
    "mlr_rmse_score = sqrt(mean_squared_error(Y_test, Y_mlr_hat))\n",
    "mlr_r2_score = r2_score(Y_test, Y_mlr_hat)\n",
    "print('Test-set RMSE score: %.3f' % mlr_rmse_score)\n",
    "print('Test-set R2 score: %.3f' % mlr_r2_score)"
   ]
  },
  {
   "cell_type": "code",
   "execution_count": 25,
   "metadata": {
    "execution": {
     "iopub.execute_input": "2021-06-17T19:56:25.518691Z",
     "iopub.status.busy": "2021-06-17T19:56:25.517941Z",
     "iopub.status.idle": "2021-06-17T19:56:25.557438Z",
     "shell.execute_reply": "2021-06-17T19:56:25.556124Z",
     "shell.execute_reply.started": "2021-06-17T19:56:25.518636Z"
    }
   },
   "outputs": [
    {
     "name": "stdout",
     "output_type": "stream",
     "text": [
      "No of features used:  12\n"
     ]
    },
    {
     "data": {
      "text/html": [
       "<div>\n",
       "<style scoped>\n",
       "    .dataframe tbody tr th:only-of-type {\n",
       "        vertical-align: middle;\n",
       "    }\n",
       "\n",
       "    .dataframe tbody tr th {\n",
       "        vertical-align: top;\n",
       "    }\n",
       "\n",
       "    .dataframe thead th {\n",
       "        text-align: right;\n",
       "    }\n",
       "</style>\n",
       "<table border=\"1\" class=\"dataframe\">\n",
       "  <thead>\n",
       "    <tr style=\"text-align: right;\">\n",
       "      <th></th>\n",
       "      <th>Rank</th>\n",
       "    </tr>\n",
       "  </thead>\n",
       "  <tbody>\n",
       "    <tr>\n",
       "      <th>hour</th>\n",
       "      <td>1</td>\n",
       "    </tr>\n",
       "    <tr>\n",
       "      <th>temperature</th>\n",
       "      <td>1</td>\n",
       "    </tr>\n",
       "    <tr>\n",
       "      <th>humidity</th>\n",
       "      <td>1</td>\n",
       "    </tr>\n",
       "    <tr>\n",
       "      <th>wind_speed</th>\n",
       "      <td>1</td>\n",
       "    </tr>\n",
       "    <tr>\n",
       "      <th>visibility</th>\n",
       "      <td>1</td>\n",
       "    </tr>\n",
       "    <tr>\n",
       "      <th>solar_radiation</th>\n",
       "      <td>1</td>\n",
       "    </tr>\n",
       "    <tr>\n",
       "      <th>rainfall</th>\n",
       "      <td>1</td>\n",
       "    </tr>\n",
       "    <tr>\n",
       "      <th>weekday</th>\n",
       "      <td>1</td>\n",
       "    </tr>\n",
       "    <tr>\n",
       "      <th>day_of_week</th>\n",
       "      <td>1</td>\n",
       "    </tr>\n",
       "    <tr>\n",
       "      <th>month</th>\n",
       "      <td>1</td>\n",
       "    </tr>\n",
       "    <tr>\n",
       "      <th>weekday_hour</th>\n",
       "      <td>1</td>\n",
       "    </tr>\n",
       "    <tr>\n",
       "      <th>holiday_hour</th>\n",
       "      <td>1</td>\n",
       "    </tr>\n",
       "    <tr>\n",
       "      <th>holiday</th>\n",
       "      <td>2</td>\n",
       "    </tr>\n",
       "    <tr>\n",
       "      <th>snowfall</th>\n",
       "      <td>3</td>\n",
       "    </tr>\n",
       "  </tbody>\n",
       "</table>\n",
       "</div>"
      ],
      "text/plain": [
       "                 Rank\n",
       "hour                1\n",
       "temperature         1\n",
       "humidity            1\n",
       "wind_speed          1\n",
       "visibility          1\n",
       "solar_radiation     1\n",
       "rainfall            1\n",
       "weekday             1\n",
       "day_of_week         1\n",
       "month               1\n",
       "weekday_hour        1\n",
       "holiday_hour        1\n",
       "holiday             2\n",
       "snowfall            3"
      ]
     },
     "execution_count": 25,
     "metadata": {},
     "output_type": "execute_result"
    }
   ],
   "source": [
    "print('No of features used: ',rfecv.n_features_)\n",
    "rfecv_df = pd.DataFrame(rfecv.ranking_,index=X.columns,columns=['Rank']).sort_values(by='Rank',ascending=True)\n",
    "rfecv_df"
   ]
  },
  {
   "cell_type": "code",
   "execution_count": 26,
   "metadata": {
    "execution": {
     "iopub.execute_input": "2021-06-17T19:56:25.559725Z",
     "iopub.status.busy": "2021-06-17T19:56:25.559257Z",
     "iopub.status.idle": "2021-06-17T19:56:25.841471Z",
     "shell.execute_reply": "2021-06-17T19:56:25.840614Z",
     "shell.execute_reply.started": "2021-06-17T19:56:25.559674Z"
    }
   },
   "outputs": [
    {
     "data": {
      "image/png": "[encoded data removed]",
      "text/plain": [
       "<Figure size 864x432 with 1 Axes>"
      ]
     },
     "metadata": {},
     "output_type": "display_data"
    },
    {
     "data": {
      "text/plain": [
       "array([0.25200305, 0.30875464, 0.46345187, 0.50283144, 0.59403768,\n",
       "       0.6103896 , 0.67890144, 0.67682002, 0.67174283, 0.675688  ,\n",
       "       0.69840916, 0.70089209, 0.69251377, 0.69069994])"
      ]
     },
     "execution_count": 26,
     "metadata": {},
     "output_type": "execute_result"
    }
   ],
   "source": [
    "import matplotlib.pyplot as plt\n",
    "plt.figure(figsize=(12,6))\n",
    "plt.xlabel('Number of features selected')\n",
    "plt.ylabel('Cross validation score')\n",
    "plt.plot(range(1, len(rfecv.grid_scores_) + 1), rfecv.grid_scores_)\n",
    "plt.show()\n",
    "rfecv.grid_scores_"
   ]
  },
  {
   "cell_type": "code",
   "execution_count": 27,
   "metadata": {
    "execution": {
     "iopub.execute_input": "2021-06-17T19:56:25.843733Z",
     "iopub.status.busy": "2021-06-17T19:56:25.842995Z",
     "iopub.status.idle": "2021-06-17T19:56:25.858503Z",
     "shell.execute_reply": "2021-06-17T19:56:25.857426Z",
     "shell.execute_reply.started": "2021-06-17T19:56:25.843678Z"
    }
   },
   "outputs": [
    {
     "name": "stdout",
     "output_type": "stream",
     "text": [
      "            Feature  coefficient\n",
      "0              hour    28.704708\n",
      "1       temperature    29.716571\n",
      "2          humidity    -5.363169\n",
      "3        wind_speed    17.733581\n",
      "4        visibility     0.060878\n",
      "5   solar_radiation   -60.180473\n",
      "6          rainfall   -63.650333\n",
      "7           weekday   116.982505\n",
      "8       day_of_week    20.078579\n",
      "9             month    10.409455\n",
      "10     weekday_hour     2.479133\n",
      "11     holiday_hour   -15.298781\n",
      "12        Intercept     0.000000\n"
     ]
    }
   ],
   "source": [
    "# Data Frame of Coefficients\n",
    "mlr_coef_df = pd.DataFrame(data={'Feature': list(X.columns[rfecv.support_]), 'coefficient': model.coef_})\n",
    "new_row = {'Feature':'Intercept', 'coefficient':model.intercept_}\n",
    "mlr_coef_df = mlr_coef_df.append(new_row, ignore_index=True)\n",
    "print(mlr_coef_df)"
   ]
  },
  {
   "cell_type": "code",
   "execution_count": 28,
   "metadata": {
    "execution": {
     "iopub.execute_input": "2021-06-17T19:56:25.860154Z",
     "iopub.status.busy": "2021-06-17T19:56:25.859749Z",
     "iopub.status.idle": "2021-06-17T19:56:25.873891Z",
     "shell.execute_reply": "2021-06-17T19:56:25.872628Z",
     "shell.execute_reply.started": "2021-06-17T19:56:25.860123Z"
    }
   },
   "outputs": [],
   "source": [
    "results_df = results_df.append({'Regressor':'Multiple Linear Regression','R2 Score':mlr_r2_score,'RMSE':mlr_rmse_score}, ignore_index=True)"
   ]
  },
  {
   "cell_type": "markdown",
   "metadata": {},
   "source": [
    "## <a id='4.4'>4.4 Support Vector Regression</a>"
   ]
  },
  {
   "cell_type": "code",
   "execution_count": 29,
   "metadata": {
    "execution": {
     "iopub.execute_input": "2021-06-17T19:56:25.875841Z",
     "iopub.status.busy": "2021-06-17T19:56:25.875393Z",
     "iopub.status.idle": "2021-06-17T20:01:04.114777Z",
     "shell.execute_reply": "2021-06-17T20:01:04.113619Z",
     "shell.execute_reply.started": "2021-06-17T19:56:25.875807Z"
    }
   },
   "outputs": [
    {
     "name": "stdout",
     "output_type": "stream",
     "text": [
      "R2 Score: 0.757, RMSE: 318.466, est=-331.344, cfg={'m__C': 10000, 'm__kernel': 'rbf'}\n",
      "R2 Score: 0.749, RMSE: 321.948, est=-332.425, cfg={'m__C': 10000, 'm__kernel': 'rbf'}\n",
      "R2 Score: 0.679, RMSE: 366.723, est=-322.288, cfg={'m__C': 10000, 'm__kernel': 'rbf'}\n",
      "R2 Score: 0.790, RMSE: 294.354, est=-342.983, cfg={'m__C': 10000, 'm__kernel': 'rbf'}\n",
      "R2 Score: 0.741, RMSE: 328.743, est=-323.438, cfg={'m__C': 10000, 'm__kernel': 'rbf'}\n",
      "R2 Score: 0.743 (0.036), RMSE: 326.047 (23.412)\n",
      "CPU times: user 4min 35s, sys: 2.64 s, total: 4min 38s\n",
      "Wall time: 4min 38s\n"
     ]
    }
   ],
   "source": [
    "%%time\n",
    "N_INNER_SPLITS = 3\n",
    "# enumerate splits\n",
    "svr_r2_outer_results = list()\n",
    "svr_rmse_outer_results = list()\n",
    "for train_ix, test_ix in cv_outer.split(X, Y):\n",
    "    #split data\n",
    "    X_train, X_test = X.iloc[train_ix,:], X.iloc[test_ix,:]\n",
    "    Y_train, Y_test = Y.iloc[train_ix], Y.iloc[test_ix]\n",
    "    \n",
    "    # configure the cross-validation procedure\n",
    "    cv_inner = KFold(n_splits=N_INNER_SPLITS, shuffle=True, random_state=RANDOM_SEED)\n",
    "    \n",
    "    # configure pipeline\n",
    "    scaler = StandardScaler()\n",
    "    rfecv = RFECV(estimator=DecisionTreeRegressor())\n",
    "    model = svm.SVR()\n",
    "    pipeline = Pipeline(steps=[('s',scaler),('rfe',rfecv),('m',model)])\n",
    "    \n",
    "    # hyperparameters\n",
    "    kernel_options = ['rbf']\n",
    "    C_options = [100,1000,10000]\n",
    "        \n",
    "    # parameter grid\n",
    "    param_grid = [\n",
    "        {\n",
    "            'm__kernel': kernel_options,\n",
    "            'm__C': C_options\n",
    "        }\n",
    "    ]\n",
    "    \n",
    "    # define search\n",
    "    search = GridSearchCV(estimator=pipeline,\n",
    "                          param_grid=param_grid,\n",
    "                          scoring='neg_root_mean_squared_error',\n",
    "                          cv=cv_inner\n",
    "                         )\n",
    "    # execute search\n",
    "    result = search.fit(X_train, Y_train)\n",
    "    # get the best performing model fit on the whole training set\n",
    "    best_model = result.best_estimator_\n",
    "    # evaluate model on the hold out dataset\n",
    "    yhat = best_model.predict(X_test)\n",
    "    r2_score_n = r2_score(Y_test,yhat)\n",
    "    svr_r2_outer_results.append(r2_score_n)\n",
    "    rmse_score_n = sqrt(mean_squared_error(Y_test,yhat))\n",
    "    svr_rmse_outer_results.append(rmse_score_n)\n",
    "    \n",
    "    # report progress\n",
    "    print('R2 Score: %.3f, RMSE: %.3f, est=%.3f, cfg=%s' % (r2_score_n, rmse_score_n, result.best_score_, result.best_params_))\n",
    "    \n",
    "# summarize the estimated performance of the model\n",
    "print('R2 Score: %.3f (%.3f), RMSE: %.3f (%.3f)' % (mean(svr_r2_outer_results), std(svr_r2_outer_results), mean(svr_rmse_outer_results), std(svr_rmse_outer_results)))\n",
    "\n",
    "results_df = results_df.append({'Regressor':'Support Vector Regression','R2 Score':mean(svr_r2_outer_results),'RMSE':mean(svr_rmse_outer_results)}, ignore_index=True)"
   ]
  },
  {
   "cell_type": "code",
   "execution_count": 30,
   "metadata": {
    "execution": {
     "iopub.execute_input": "2021-06-17T20:01:04.116905Z",
     "iopub.status.busy": "2021-06-17T20:01:04.116439Z",
     "iopub.status.idle": "2021-06-17T20:01:04.121243Z",
     "shell.execute_reply": "2021-06-17T20:01:04.120261Z",
     "shell.execute_reply.started": "2021-06-17T20:01:04.116854Z"
    },
    "jupyter": {
     "source_hidden": true
    }
   },
   "outputs": [],
   "source": [
    "# # without hyperparameter tuning\n",
    "# model = svm.SVR()\n",
    "# pipeline = Pipeline(steps=[('s',rfecv),('m',model)])\n",
    "# # evaluate model\n",
    "# cv = RepeatedKFold(n_splits=10, n_repeats=3, random_state=1)\n",
    "# n_scores = cross_val_score(pipeline, X_train, Y_train, scoring='neg_root_mean_squared_error', cv=cv, n_jobs=-1, error_score='raise')\n",
    "# # report performance\n",
    "# print('CV RMSE score: %.3f (%.3f)' % (mean(n_scores)*-1, std(n_scores)))\n",
    "\n",
    "# pipeline.fit(X_train,Y_train)\n",
    "# Y_svr_hat = pipeline.predict(X_test)\n",
    "# svr_rmse_score = sqrt(mean_squared_error(Y_test, Y_svr_hat))\n",
    "# svr_r2_score = r2_score(Y_test, Y_svr_hat)\n",
    "# print('Test-set RMSE score: %.3f' % svr_rmse_score)\n",
    "# print('Test-set R2 score: %.3f' % svr_r2_score)\n",
    "\n",
    "# results_df = results_df.append({'Regressor':'Support Vector Regression','R2 Score':svr_r2_score,'RMSE':svr_rmse_score}, ignore_index=True)"
   ]
  },
  {
   "cell_type": "markdown",
   "metadata": {},
   "source": [
    "## <a id='4.5'>4.5 Decision Tree Regression</a>"
   ]
  },
  {
   "cell_type": "code",
   "execution_count": 31,
   "metadata": {
    "execution": {
     "iopub.execute_input": "2021-06-17T20:01:04.122852Z",
     "iopub.status.busy": "2021-06-17T20:01:04.122506Z",
     "iopub.status.idle": "2021-06-17T20:03:36.171434Z",
     "shell.execute_reply": "2021-06-17T20:03:36.170320Z",
     "shell.execute_reply.started": "2021-06-17T20:01:04.122812Z"
    }
   },
   "outputs": [
    {
     "name": "stdout",
     "output_type": "stream",
     "text": [
      "R2 Score: 0.674, RMSE: 368.324, est=-339.403, cfg={'m__max_depth': 8}\n",
      "R2 Score: 0.761, RMSE: 314.480, est=-351.976, cfg={'m__max_depth': 8}\n",
      "R2 Score: 0.665, RMSE: 374.737, est=-355.718, cfg={'m__max_depth': 8}\n",
      "R2 Score: 0.706, RMSE: 348.804, est=-357.755, cfg={'m__max_depth': 10}\n",
      "R2 Score: 0.711, RMSE: 347.105, est=-345.265, cfg={'m__max_depth': 8}\n",
      "R2 Score: 0.703 (0.034), RMSE: 350.690 (21.056)\n",
      "CPU times: user 2min 31s, sys: 14.9 ms, total: 2min 32s\n",
      "Wall time: 2min 32s\n"
     ]
    }
   ],
   "source": [
    "%%time\n",
    "N_INNER_SPLITS = 3\n",
    "# enumerate splits\n",
    "dt_r2_outer_results = list()\n",
    "dt_rmse_outer_results = list()\n",
    "for train_ix, test_ix in cv_outer.split(X, Y):\n",
    "    #split data\n",
    "    X_train, X_test = X.iloc[train_ix,:], X.iloc[test_ix,:]\n",
    "    Y_train, Y_test = Y.iloc[train_ix], Y.iloc[test_ix]\n",
    "    \n",
    "    # configure the cross-validation procedure\n",
    "    cv_inner = KFold(n_splits=N_INNER_SPLITS, shuffle=True, random_state=RANDOM_SEED)\n",
    "    \n",
    "    # configure pipeline\n",
    "    scaler = StandardScaler()\n",
    "    rfecv = RFECV(estimator=DecisionTreeRegressor())\n",
    "    model = DecisionTreeRegressor()\n",
    "    pipeline = Pipeline(steps=[('s',scaler),('rfe',rfecv),('m',model)])\n",
    "    \n",
    "    # hyperparameters\n",
    "    max_depth_options = [1,2,5,8,10,20]\n",
    "            \n",
    "    # parameter grid\n",
    "    param_grid = [\n",
    "        {\n",
    "            'm__max_depth': max_depth_options\n",
    "        }\n",
    "    ]\n",
    "    \n",
    "    # define search\n",
    "    search = GridSearchCV(estimator=pipeline,\n",
    "                          param_grid=param_grid,\n",
    "                          scoring='neg_root_mean_squared_error',\n",
    "                          cv=cv_inner\n",
    "                         )\n",
    "    # execute search\n",
    "    result = search.fit(X_train, Y_train)\n",
    "    # get the best performing model fit on the whole training set\n",
    "    best_model = result.best_estimator_\n",
    "    # evaluate model on the hold out dataset\n",
    "    yhat = best_model.predict(X_test)\n",
    "    r2_score_n = r2_score(Y_test,yhat)\n",
    "    dt_r2_outer_results.append(r2_score_n)\n",
    "    rmse_score_n = sqrt(mean_squared_error(Y_test,yhat))\n",
    "    dt_rmse_outer_results.append(rmse_score_n)\n",
    "    \n",
    "    # report progress\n",
    "    print('R2 Score: %.3f, RMSE: %.3f, est=%.3f, cfg=%s' % (r2_score_n, rmse_score_n, result.best_score_, result.best_params_))\n",
    "\n",
    "# summarize the estimated performance of the model\n",
    "print('R2 Score: %.3f (%.3f), RMSE: %.3f (%.3f)' % (mean(dt_r2_outer_results), std(dt_r2_outer_results), mean(dt_rmse_outer_results), std(dt_rmse_outer_results)))\n",
    "\n",
    "results_df = results_df.append({'Regressor':'Decision Tree Regression','R2 Score':mean(dt_r2_outer_results),'RMSE':mean(dt_rmse_outer_results)}, ignore_index=True)"
   ]
  },
  {
   "cell_type": "code",
   "execution_count": 32,
   "metadata": {
    "execution": {
     "iopub.execute_input": "2021-06-17T20:03:36.173214Z",
     "iopub.status.busy": "2021-06-17T20:03:36.172882Z",
     "iopub.status.idle": "2021-06-17T20:03:36.177490Z",
     "shell.execute_reply": "2021-06-17T20:03:36.176421Z",
     "shell.execute_reply.started": "2021-06-17T20:03:36.173182Z"
    },
    "jupyter": {
     "source_hidden": true
    }
   },
   "outputs": [],
   "source": [
    "# # wihtout hyperparameter search\n",
    "# scaler = StandardScaler()\n",
    "# model = DecisionTreeRegressor()\n",
    "# pipeline = Pipeline(steps=[('x',scaler),('s',rfecv),('m',model)])\n",
    "\n",
    "# # evaluate model\n",
    "# cv = RepeatedKFold(n_splits=10, n_repeats=3, random_state=1)\n",
    "# n_scores = cross_val_score(pipeline, X_train, Y_train, scoring='neg_root_mean_squared_error', cv=cv, n_jobs=-1, error_score='raise')\n",
    "# # report performance\n",
    "# print('CV RMSE score: %.3f (%.3f)' % (mean(n_scores)*-1, std(n_scores)))\n",
    "\n",
    "# pipeline.fit(X_train,Y_train)\n",
    "# Y_DT_hat = pipeline.predict(X_test)\n",
    "# DT_rmse_score = sqrt(mean_squared_error(Y_test, Y_DT_hat))\n",
    "# DT_r2_score = r2_score(Y_test, Y_DT_hat)\n",
    "# print('Test-set RMSE score: %.3f' % DT_rmse_score)\n",
    "# print('Test-set R2 score: %.3f' % DT_r2_score)\n",
    "\n",
    "# results_df = results_df.append({'Regressor':'Decision Tree Regression','R2 Score':DT_r2_score,'RMSE':DT_rmse_score}, ignore_index=True)"
   ]
  },
  {
   "cell_type": "markdown",
   "metadata": {},
   "source": [
    "## <a id='4.6'>4.6 Ensemble Method Regression (Random Forest)</a>"
   ]
  },
  {
   "cell_type": "code",
   "execution_count": 33,
   "metadata": {
    "execution": {
     "iopub.execute_input": "2021-06-17T20:03:36.179116Z",
     "iopub.status.busy": "2021-06-17T20:03:36.178783Z",
     "iopub.status.idle": "2021-06-17T20:03:36.191617Z",
     "shell.execute_reply": "2021-06-17T20:03:36.190600Z",
     "shell.execute_reply.started": "2021-06-17T20:03:36.179086Z"
    },
    "jupyter": {
     "source_hidden": true
    }
   },
   "outputs": [],
   "source": [
    "# %%time\n",
    "# N_INNER_SPLITS = 3\n",
    "# # enumerate splits\n",
    "# rf_r2_outer_results = list()\n",
    "# rf_rmse_outer_results = list()\n",
    "# for train_ix, test_ix in cv_outer.split(X, Y):\n",
    "#     #split data\n",
    "#     X_train, X_test = X.iloc[train_ix,:], X.iloc[test_ix,:]\n",
    "#     Y_train, Y_test = Y.iloc[train_ix], Y.iloc[test_ix]\n",
    "    \n",
    "#     # configure the cross-validation procedure\n",
    "#     cv_inner = KFold(n_splits=N_INNER_SPLITS, shuffle=True, random_state=RANDOM_SEED)\n",
    "    \n",
    "#     # configure pipeline\n",
    "#     scaler = StandardScaler()\n",
    "#     rfecv = RFECV(estimator=DecisionTreeRegressor())\n",
    "#     model = RandomForestRegressor()\n",
    "#     pipeline = Pipeline(steps=[('s',scaler),('rfe',rfecv),('m',model)])\n",
    "    \n",
    "#     # hyperparameters\n",
    "#     n_estimators_options = [int(x) for x in np.linspace(start=10,stop=100, num=10)]\n",
    "#     max_depth_options = [60,70,80,90,100]\n",
    "#     bootstrap_options = [True]\n",
    "#     min_samples_leaf_options = [1,2,3]\n",
    "    \n",
    "              \n",
    "#     # parameter grid\n",
    "#     param_grid = [\n",
    "#         {\n",
    "#             'm__n_estimators': n_estimators_options,\n",
    "#             'm__max_depth': max_depth_options,\n",
    "#             'm__bootstrap': bootstrap_options,\n",
    "#             'm__min_samples_leaf': min_samples_leaf_options\n",
    "#         }\n",
    "#     ]\n",
    "    \n",
    "#     # define search\n",
    "#     search = GridSearchCV(estimator=pipeline,\n",
    "#                           param_grid=param_grid,\n",
    "#                           scoring='neg_root_mean_squared_error',\n",
    "#                           cv=cv_inner\n",
    "#                          )\n",
    "#     # execute search\n",
    "#     result = search.fit(X_train, Y_train)\n",
    "#     # get the best performing model fit on the whole training set\n",
    "#     best_model = result.best_estimator_\n",
    "#     # evaluate model on the hold out dataset\n",
    "#     yhat = best_model.predict(X_test)\n",
    "#     r2_score_n = r2_score(Y_test,yhat)\n",
    "#     rf_r2_outer_results.append(r2_score_n)\n",
    "#     rmse_score_n = sqrt(mean_squared_error(Y_test,yhat))\n",
    "#     rf_rmse_outer_results.append(rmse_score_n)\n",
    "    \n",
    "#     # report progress\n",
    "#     print('R2 Score: %.3f, RMSE: %.3f, est=%.3f, cfg=%s' % (r2_score_n, rmse_score_n, result.best_score_, result.best_params_))\n",
    "    \n",
    "# # summarize the estimated performance of the model\n",
    "# print('R2 Score: %.3f (%.3f), RMSE: %.3f (%.3f)' % (mean(rf_r2_outer_results), std(rf_r2_outer_results), mean(rf_rmse_outer_results), std(rf_rmse_outer_results)))\n",
    "\n",
    "#results_df = results_df.append({'Regressor':'Random Forest Regression','R2 Score':mean(rf_r2_outer_results),'RMSE':mean(rf_rmse_outer_results)}, ignore_index=True)"
   ]
  },
  {
   "cell_type": "code",
   "execution_count": 34,
   "metadata": {
    "execution": {
     "iopub.execute_input": "2021-06-17T20:03:36.193429Z",
     "iopub.status.busy": "2021-06-17T20:03:36.193108Z",
     "iopub.status.idle": "2021-06-17T20:04:07.645901Z",
     "shell.execute_reply": "2021-06-17T20:04:07.644639Z",
     "shell.execute_reply.started": "2021-06-17T20:03:36.193399Z"
    }
   },
   "outputs": [
    {
     "name": "stdout",
     "output_type": "stream",
     "text": [
      "CV RMSE score: 257.076 (15.701)\n",
      "Test-set RMSE score: 249.064\n",
      "Test-set R2 score: 0.851\n"
     ]
    }
   ],
   "source": [
    "# without hyperparameter tuning\n",
    "X_train, X_test, Y_train, Y_test = train_test_split(X, Y, test_size=0.2, random_state=RANDOM_SEED)\n",
    "model = RandomForestRegressor()\n",
    "pipeline = Pipeline(steps=[('x',scaler),('s',rfecv),('m',model)])\n",
    "# evaluate model\n",
    "cv = RepeatedKFold(n_splits=N_OUTER_SLPITS, n_repeats=N_REPEATS, random_state=RANDOM_SEED)\n",
    "n_scores = cross_val_score(pipeline, X_train, Y_train, scoring='neg_root_mean_squared_error', cv=cv, n_jobs=-1, error_score='raise')\n",
    "# report performance\n",
    "print('CV RMSE score: %.3f (%.3f)' % (mean(n_scores)*-1, std(n_scores)))\n",
    "\n",
    "pipeline.fit(X_train,Y_train)\n",
    "Y_rf_hat = pipeline.predict(X_test)\n",
    "rf_rmse_score = sqrt(mean_squared_error(Y_test, Y_rf_hat))\n",
    "rf_r2_score = r2_score(Y_test, Y_rf_hat)\n",
    "print('Test-set RMSE score: %.3f' % rf_rmse_score)\n",
    "print('Test-set R2 score: %.3f' % rf_r2_score)\n",
    "\n",
    "results_df = results_df.append({'Regressor':'Random Forest Regression','R2 Score':rf_r2_score,'RMSE':rf_rmse_score}, ignore_index=True)"
   ]
  },
  {
   "cell_type": "markdown",
   "metadata": {},
   "source": [
    "## <a id='4.7'>4.7 Neural Network Regression</a>"
   ]
  },
  {
   "cell_type": "code",
   "execution_count": 35,
   "metadata": {
    "execution": {
     "iopub.execute_input": "2021-06-17T20:04:07.648319Z",
     "iopub.status.busy": "2021-06-17T20:04:07.647856Z",
     "iopub.status.idle": "2021-06-17T20:05:01.682040Z",
     "shell.execute_reply": "2021-06-17T20:05:01.679691Z",
     "shell.execute_reply.started": "2021-06-17T20:04:07.648270Z"
    }
   },
   "outputs": [
    {
     "name": "stdout",
     "output_type": "stream",
     "text": [
      "CV RMSE score: 431.104 (12.499)\n",
      "Test-set RMSE score: 426.320\n",
      "Test-set R2 score: 0.564\n"
     ]
    },
    {
     "name": "stderr",
     "output_type": "stream",
     "text": [
      "/opt/conda/lib/python3.7/site-packages/sklearn/neural_network/_multilayer_perceptron.py:617: ConvergenceWarning: Stochastic Optimizer: Maximum iterations (200) reached and the optimization hasn't converged yet.\n",
      "  % self.max_iter, ConvergenceWarning)\n"
     ]
    }
   ],
   "source": [
    "# without hyperparameter tuning\n",
    "X_train, X_test, Y_train, Y_test = train_test_split(X, Y, test_size=0.2, random_state=RANDOM_SEED)\n",
    "model = MLPRegressor()\n",
    "pipeline = Pipeline(steps=[('x',scaler),('s',rfecv),('m',model)])\n",
    "# evaluate model\n",
    "cv = RepeatedKFold(n_splits=N_OUTER_SLPITS, n_repeats=N_REPEATS, random_state=RANDOM_SEED)\n",
    "n_scores = cross_val_score(pipeline, X_train, Y_train, scoring='neg_root_mean_squared_error', cv=cv, n_jobs=-1, error_score='raise')\n",
    "# report performance\n",
    "print('CV RMSE score: %.3f (%.3f)' % (mean(n_scores)*-1, std(n_scores)))\n",
    "\n",
    "pipeline.fit(X_train,Y_train)\n",
    "Y_NN_hat = pipeline.predict(X_test)\n",
    "NN_rmse_score = sqrt(mean_squared_error(Y_test, Y_NN_hat))\n",
    "NN_r2_score = r2_score(Y_test, Y_NN_hat)\n",
    "print('Test-set RMSE score: %.3f' % NN_rmse_score)\n",
    "print('Test-set R2 score: %.3f' % NN_r2_score)\n",
    "\n",
    "results_df = results_df.append({'Regressor':'Neural Network Regression','R2 Score':NN_r2_score,'RMSE':NN_rmse_score}, ignore_index=True)"
   ]
  },
  {
   "cell_type": "markdown",
   "metadata": {},
   "source": [
    "## <a id='4.8'>4.8 Modeling Results</a>"
   ]
  },
  {
   "cell_type": "code",
   "execution_count": 36,
   "metadata": {
    "execution": {
     "iopub.execute_input": "2021-06-17T20:05:01.684618Z",
     "iopub.status.busy": "2021-06-17T20:05:01.684128Z",
     "iopub.status.idle": "2021-06-17T20:05:01.726593Z",
     "shell.execute_reply": "2021-06-17T20:05:01.725276Z",
     "shell.execute_reply.started": "2021-06-17T20:05:01.684569Z"
    }
   },
   "outputs": [
    {
     "data": {
      "text/html": [
       "<div>\n",
       "<style scoped>\n",
       "    .dataframe tbody tr th:only-of-type {\n",
       "        vertical-align: middle;\n",
       "    }\n",
       "\n",
       "    .dataframe tbody tr th {\n",
       "        vertical-align: top;\n",
       "    }\n",
       "\n",
       "    .dataframe thead th {\n",
       "        text-align: right;\n",
       "    }\n",
       "</style>\n",
       "<table border=\"1\" class=\"dataframe\">\n",
       "  <thead>\n",
       "    <tr style=\"text-align: right;\">\n",
       "      <th></th>\n",
       "      <th>Regressor</th>\n",
       "      <th>R2 Score</th>\n",
       "      <th>RMSE</th>\n",
       "    </tr>\n",
       "  </thead>\n",
       "  <tbody>\n",
       "    <tr>\n",
       "      <th>3</th>\n",
       "      <td>Random Forest Regression</td>\n",
       "      <td>0.851113</td>\n",
       "      <td>249.064431</td>\n",
       "    </tr>\n",
       "    <tr>\n",
       "      <th>1</th>\n",
       "      <td>Support Vector Regression</td>\n",
       "      <td>0.743216</td>\n",
       "      <td>326.046910</td>\n",
       "    </tr>\n",
       "    <tr>\n",
       "      <th>2</th>\n",
       "      <td>Decision Tree Regression</td>\n",
       "      <td>0.703354</td>\n",
       "      <td>350.689860</td>\n",
       "    </tr>\n",
       "    <tr>\n",
       "      <th>4</th>\n",
       "      <td>Neural Network Regression</td>\n",
       "      <td>0.563781</td>\n",
       "      <td>426.320324</td>\n",
       "    </tr>\n",
       "    <tr>\n",
       "      <th>0</th>\n",
       "      <td>Multiple Linear Regression</td>\n",
       "      <td>0.464231</td>\n",
       "      <td>472.468249</td>\n",
       "    </tr>\n",
       "  </tbody>\n",
       "</table>\n",
       "</div>"
      ],
      "text/plain": [
       "                    Regressor  R2 Score        RMSE\n",
       "3    Random Forest Regression  0.851113  249.064431\n",
       "1   Support Vector Regression  0.743216  326.046910\n",
       "2    Decision Tree Regression  0.703354  350.689860\n",
       "4   Neural Network Regression  0.563781  426.320324\n",
       "0  Multiple Linear Regression  0.464231  472.468249"
      ]
     },
     "execution_count": 36,
     "metadata": {},
     "output_type": "execute_result"
    }
   ],
   "source": [
    "results_df.sort_values(by='R2 Score', ascending=False, inplace=True)\n",
    "results_df"
   ]
  },
  {
   "cell_type": "markdown",
   "metadata": {},
   "source": [
    "# <a id='5.0'>5. Closing Comments</a>\n",
    "\n",
    "* The ensemble method of **Random Forests** won out compared to the rest of the models with a R2 score ~0.85. \n",
    "\n",
    "* The Neural Network failed to converge and so it's results should be ignored. \n",
    "\n",
    "* Multiple Linear Regression peformed the worst.\n",
    "\n",
    "* If more computing resource was available, a hyperparameter search for Random Forest and Neural Network could be performed which could change the results.\n",
    "\n",
    "* A time-series model could also be considered as most of these variables are serially correlated. The weather variables could be modeled using a vector autoregression (VAR) model (since each of the variables influence each other) and this VAR model could be used as an input for (maybe) an ARIMA model for Bike Rental Demand."
   ]
  }
 ],
 "metadata": {
  "kernelspec": {
   "display_name": "Python 3",
   "language": "python",
   "name": "python3"
  },
  "language_info": {
   "codemirror_mode": {
    "name": "ipython",
    "version": 3
   },
   "file_extension": ".py",
   "mimetype": "text/x-python",
   "name": "python",
   "nbconvert_exporter": "python",
   "pygments_lexer": "ipython3",
   "version": "3.8.5"
  }
 },
 "nbformat": 4,
 "nbformat_minor": 4
}
